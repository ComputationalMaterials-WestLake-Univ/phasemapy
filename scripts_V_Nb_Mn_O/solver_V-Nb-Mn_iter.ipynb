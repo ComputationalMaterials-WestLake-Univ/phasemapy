{
 "cells": [
  {
   "cell_type": "code",
   "execution_count": 5,
   "id": "fab55ba9",
   "metadata": {
    "scrolled": true
   },
   "outputs": [],
   "source": [
    "import warnings\n",
    "warnings.filterwarnings('ignore')\n",
    "import json, os\n",
    "import numpy as np\n",
    "from monty.json import MontyDecoder, MontyEncoder\n",
    "from copy import deepcopy\n",
    "from scipy.spatial import distance_matrix\n",
    "import sys\n",
    "sys.path.append('..')\n",
    "\n",
    "from phasemapy.dataio import InstanceData\n",
    "from phasemapy.parser import ICDDEntry\n",
    "from phasemapy.solver import Phase, Sample,Texture\n",
    "\n",
    "chemsys = ['V', 'Mn', 'Nb']\n",
    "oxide_system = True\n",
    "photon_e = 13e3\n",
    "max_q_shift = 0.02\n",
    "resample_density = 1000\n",
    "initial_alphagamma = 0.1\n",
    "SUM_NORM = 6000\n",
    "loss_weight = {'xrd_loss': 6.0, 'comp_loss': 2.0, 'entropy_loss': 0.01}"
   ]
  },
  {
   "cell_type": "code",
   "execution_count": 6,
   "id": "a7323ff7",
   "metadata": {},
   "outputs": [],
   "source": [
    "instance_data = InstanceData.from_file('../data/instance_file_24297_NbMnVO_v02.txt', chemsys, photon_e)\n",
    "instance_data = instance_data.resample_xrd(resample_density)\n",
    "instance_data.renormalize(norm=SUM_NORM)\n",
    "instance_data.normalize()"
   ]
  },
  {
   "cell_type": "code",
   "execution_count": 7,
   "id": "1dc9bb46",
   "metadata": {},
   "outputs": [],
   "source": [
    "samples = []\n",
    "for i in range(instance_data.sample_num):\n",
    "    solution_file = f'solution/samples{i}.json'\n",
    "    with open(solution_file) as f:\n",
    "        sample = json.load(f, cls=MontyDecoder)\n",
    "    if sample.sample_id !=i:\n",
    "        print (i)    \n",
    "    samples.append(sample)"
   ]
  },
  {
   "cell_type": "code",
   "execution_count": 8,
   "id": "c599ffed",
   "metadata": {},
   "outputs": [
    {
     "name": "stdout",
     "output_type": "stream",
     "text": [
      "      entry_id         tot       max       min  count     names\n",
      "0  04-014-2995  147.128443  1.000000  0.074725    274   Nb2MnO6\n",
      "1  04-005-5308   36.459623  1.000000  0.443767     78    V2MnO6\n",
      "2  00-052-1266   34.724134  0.702429  0.351906    164   Mn2V2O7\n",
      "3  04-007-1841   34.578645  0.509747  0.017255    163     Mn3O4\n",
      "4        22736   26.220035  0.739389  0.180791     87   Nb5VO15\n",
      "5  00-041-1442   17.749090  0.589172  0.039922    113     Mn2O3\n",
      "6  04-023-0598    9.621416  0.641599  0.397653     29  Nb(VO4)O\n",
      "7  00-052-1265    6.969591  0.395701  0.030235     85   Mn2V2O7\n",
      "8  04-007-0398    3.146837  0.158580  0.158580     54      V2O5\n",
      "9  00-068-0146    0.402186  0.106069  0.045530      6  Nb8.4O21\n"
     ]
    }
   ],
   "source": [
    "Sample.solution_statistics(samples)"
   ]
  },
  {
   "cell_type": "code",
   "execution_count": 23,
   "id": "99dc68ea",
   "metadata": {},
   "outputs": [],
   "source": [
    "# for sample in samples:    \n",
    "#     solution_file = f'solution/samples{sample.sample_id}.json'\n",
    "# #     sample.refine_one_by_one()\n",
    "#     sample.plot(perphase=True)\n",
    "#     with open(solution_file, 'w') as f:\n",
    "#         json.dump(sample, f, cls=MontyEncoder)\n",
    "#         sample.plot(perphase=True, saveplot=f'solution_figures/sample_{sample.sample_id}.pdf')"
   ]
  },
  {
   "cell_type": "code",
   "execution_count": 4,
   "id": "f4763881",
   "metadata": {},
   "outputs": [],
   "source": [
    "# comp_dist = distance_matrix(instance_data.sample_comp, instance_data.sample_comp)\n",
    "# nn_list = {i: np.where((comp_dist[i] < 0.5) & (comp_dist[i] > 0))[0] for i in range(instance_data.sample_num)}\n",
    "# for sample in samples:\n",
    "#     if True:\n",
    "#         # if min([count_act[_.entry_id] for _ in sample.entries])<5.0:\n",
    "#         if sample.R > 0.12:\n",
    "#             print(sample.sample_id, sample.loss(loss_weight))\n",
    "#             candidate_entries = []\n",
    "#             for i in nn_list[sample.sample_id]:\n",
    "#                 candidate_entries += samples[i].entries\n",
    "#             candidate_entries = list(set(candidate_entries))\n",
    "#             solution = []\n",
    "#             for e in candidate_entries:\n",
    "#                 phase = Phase.from_entry_and_instance_data(e, 1 / len(candidate_entries), instance_data)\n",
    "#                 solution.append(phase)\n",
    "    \n",
    "#             new_sample = deepcopy(sample)\n",
    "#             new_sample.solution = solution\n",
    "#             new_sample.refine_one_by_one()\n",
    "#             new_sample.refine_all_fractions()   \n",
    "#             new_sample.update_solution(0.01, 0.2999, new_sample.max_q_shift)            \n",
    "#             new_sample = new_sample.optimize(num_epoch=500, print_prog=True, loss_weight=loss_weight)\n",
    "#             new_sample.update_solution(0.01, 0.2999, new_sample.max_q_shift)  \n",
    "           \n",
    "#             new_sample.refine_one_by_one() \n",
    "#             new_sample.refine_all_fractions()          \n",
    "#             new_sample.update_solution(0.05, 0.2999, new_sample.max_q_shift) \n",
    "#             new_sample.print_solution()           \n",
    "#             if new_sample.loss(loss_weight) <= sample.loss(loss_weight):\n",
    "#                 sample.print_solution()\n",
    "#                 new_sample.print_solution()                \n",
    "#                 new_sample.plot(perphase=True)\n",
    "#                 samples[sample.sample_id] = new_sample\n",
    "#                 solution_file = f'solution/samples{sample.sample_id}.json'\n",
    "#                 with open(solution_file, 'w') as f:\n",
    "#                     json.dump(samples[sample.sample_id], f, cls=MontyEncoder)"
   ]
  },
  {
   "cell_type": "code",
   "execution_count": 5,
   "id": "7c95e665",
   "metadata": {},
   "outputs": [],
   "source": [
    "# samples = []\n",
    "# for i in range(instance_data.sample_num):\n",
    "#     solution_file = f'solution/samples{i}.json'\n",
    "#     with open(solution_file) as f:\n",
    "#         sample = json.load(f, cls=MontyDecoder)\n",
    "#     if sample.sample_id !=i:\n",
    "#         print (i)    \n",
    "#     samples.append(sample)"
   ]
  },
  {
   "cell_type": "code",
   "execution_count": null,
   "id": "0b909e68",
   "metadata": {},
   "outputs": [],
   "source": [
    "texture_groups = {}\n",
    "new_samples = []\n",
    "for i,sample in enumerate(samples):\n",
    "    iter_num = 1\n",
    "    print(i)\n",
    "    sample_texture = Texture(sample,TC_cutoff=1.2)\n",
    "    while  iter_num <= len(sample.solution):\n",
    "        if len(sample_texture.preferred_orientation ) != 0:\n",
    "            print(sample_texture.entry.name)\n",
    "            print(sample_texture.preferred_orientation)\n",
    "            if sample_texture.entry.chemical_formula in texture_groups.keys():\n",
    "                texture_group_one = texture_groups[f'{sample_texture.entry.chemical_formula}_{sample_texture.preferred_orientation}']\n",
    "            else:\n",
    "                try:\n",
    "                    texture_group_one = sample_texture.get_texture_group()\n",
    "                    texture_groups[f'{sample_texture.entry.chemical_formula}_{sample_texture.preferred_orientation}'] = texture_group_one\n",
    "                except UnicodeDecodeError:\n",
    "                    iter_num = iter_num + 1\n",
    "                    continue\n",
    "        sample_dup = sample_texture.optimize_by_texture(texture_group_one)    \n",
    "        first_solution = sample_dup.solution.pop(0)\n",
    "        sample_dup.solution.append(first_solution)\n",
    "        sample_texture = Texture(sample_dup,TC_cutoff=1.2)\n",
    "        iter_num = iter_num + 1\n",
    "        \n",
    "    new_samples.append(sample_texture.sample)"
   ]
  },
  {
   "cell_type": "code",
   "execution_count": null,
   "id": "7d582daa",
   "metadata": {
    "scrolled": true
   },
   "outputs": [],
   "source": [
    "texture_groups = {}\n",
    "new_samples = []\n",
    "for i,sample in enumerate(samples):\n",
    "    iter_num = 1\n",
    "    print(i)\n",
    "    sample_texture = Texture(sample,TC_cutoff=1.2)\n",
    "    while  iter_num <= len(sample.solution):\n",
    "        if len(sample_texture.preferred_orientation ) != 0:\n",
    "            print(sample_texture.entry.name)\n",
    "            print(sample_texture.preferred_orientation)\n",
    "            if sample_texture.entry.chemical_formula in texture_groups.keys():\n",
    "                texture_group_one = texture_groups[f'{sample_texture.entry.chemical_formula}_{sample_texture.preferred_orientation}']\n",
    "            else:\n",
    "                texture_group_one = sample_texture.get_texture_group()\n",
    "                texture_groups[f'{sample_texture.entry.chemical_formula}_{sample_texture.preferred_orientation}'] = texture_group_one\n",
    "                              \n",
    "        sample_dup = sample_texture.optimize_by_texture(texture_group_one)    \n",
    "        first_solution = sample_dup.solution.pop(0)\n",
    "        sample_dup.solution.append(first_solution)\n",
    "        sample_texture = Texture(sample_dup,TC_cutoff=1.2)\n",
    "        iter_num = iter_num + 1\n",
    "        \n",
    "    new_samples.append(sample_texture.sample)"
   ]
  },
  {
   "cell_type": "code",
   "execution_count": 5,
   "id": "9351d84d",
   "metadata": {},
   "outputs": [
    {
     "data": {
      "text/plain": [
       "Structure Summary\n",
       "Lattice\n",
       "    abc : 9.39 2.93 4.89\n",
       " angles : 90.0 90.0 90.0\n",
       " volume : 134.537103\n",
       "      A : 9.39 0.0 5.749716721996824e-16\n",
       "      B : 4.711799363552546e-16 2.93 1.7941075607508725e-16\n",
       "      C : 0.0 0.0 4.89\n",
       "PeriodicSite: V4+ (8.0472, 0.7325, 2.0147) [0.8570, 0.2500, 0.4120]\n",
       "PeriodicSite: V4+ (3.3522, 0.7325, 0.4303) [0.3570, 0.2500, 0.0880]\n",
       "PeriodicSite: V4+ (1.3428, 2.1975, 2.8753) [0.1430, 0.7500, 0.5880]\n",
       "PeriodicSite: V4+ (6.0378, 2.1975, 4.4597) [0.6430, 0.7500, 0.9120]\n",
       "PeriodicSite: O2- (6.9017, 0.7325, 0.5183) [0.7350, 0.2500, 0.1060]\n",
       "PeriodicSite: O2- (2.2067, 0.7325, 1.9267) [0.2350, 0.2500, 0.3940]\n",
       "PeriodicSite: O2- (2.4884, 2.1975, 4.3717) [0.2650, 0.7500, 0.8940]\n",
       "PeriodicSite: O2- (7.1834, 2.1975, 2.9633) [0.7650, 0.7500, 0.6060]\n",
       "PeriodicSite: O2- (4.8171, 0.7325, 3.7800) [0.5130, 0.2500, 0.7730]\n",
       "PeriodicSite: O2- (0.1221, 0.7325, 3.5550) [0.0130, 0.2500, 0.7270]\n",
       "PeriodicSite: O2- (4.5729, 2.1975, 1.1100) [0.4870, 0.7500, 0.2270]\n",
       "PeriodicSite: O2- (9.2679, 2.1975, 1.3350) [0.9870, 0.7500, 0.2730]"
      ]
     },
     "execution_count": 5,
     "metadata": {},
     "output_type": "execute_result"
    }
   ],
   "source": [
    "from pymatgen.core.structure import Structure\n",
    "from pymatgen.symmetry.analyzer import SpacegroupAnalyzer\n",
    "structure = Structure.from_file('./data/icsd/CollCode22303.cif')\n",
    "structure\n",
    "# structure = Structure.from_file('./data/icsd/CollCode22736.cif')"
   ]
  },
  {
   "cell_type": "code",
   "execution_count": 6,
   "id": "6bb4e8ab",
   "metadata": {},
   "outputs": [
    {
     "data": {
      "text/plain": [
       "Structure Summary\n",
       "Lattice\n",
       "    abc : 2.93 4.89 9.39\n",
       " angles : 90.0 90.0 90.0\n",
       " volume : 134.537103\n",
       "      A : 4.711799363552546e-16 2.93 1.7941075607508725e-16\n",
       "      B : -0.0 -0.0 4.89\n",
       "      C : 9.39 -0.0 5.749716721996824e-16\n",
       "PeriodicSite: V4+ (8.0472, 0.7325, 2.0147) [0.2500, 0.4120, 0.8570]\n",
       "PeriodicSite: V4+ (3.3522, 0.7325, 0.4303) [0.2500, 0.0880, 0.3570]\n",
       "PeriodicSite: V4+ (1.3428, 2.1975, 2.8753) [0.7500, 0.5880, 0.1430]\n",
       "PeriodicSite: V4+ (6.0378, 2.1975, 4.4597) [0.7500, 0.9120, 0.6430]\n",
       "PeriodicSite: O2- (6.9017, 0.7325, 0.5183) [0.2500, 0.1060, 0.7350]\n",
       "PeriodicSite: O2- (2.2067, 0.7325, 1.9267) [0.2500, 0.3940, 0.2350]\n",
       "PeriodicSite: O2- (2.4884, 2.1975, 4.3717) [0.7500, 0.8940, 0.2650]\n",
       "PeriodicSite: O2- (7.1834, 2.1975, 2.9633) [0.7500, 0.6060, 0.7650]\n",
       "PeriodicSite: O2- (4.8171, 0.7325, 3.7800) [0.2500, 0.7730, 0.5130]\n",
       "PeriodicSite: O2- (0.1221, 0.7325, 3.5550) [0.2500, 0.7270, 0.0130]\n",
       "PeriodicSite: O2- (4.5729, 2.1975, 1.1100) [0.7500, 0.2270, 0.4870]\n",
       "PeriodicSite: O2- (9.2679, 2.1975, 1.3350) [0.7500, 0.2730, 0.9870]"
      ]
     },
     "execution_count": 6,
     "metadata": {},
     "output_type": "execute_result"
    }
   ],
   "source": [
    "from pymatgen.core.structure import Structure\n",
    "from pymatgen.symmetry.analyzer import SpacegroupAnalyzer\n",
    "from pymatgen.io.cif import CifParser\n",
    "structure = CifParser('./data/icsd/CollCode22303.cif').get_structures()[0]\n",
    "# structure = Structure.from_file('./data/icsd/CollCode22303.cif')\n",
    "structure\n",
    "# structure = Structure.from_file('./data/icsd/CollCode22736.cif')"
   ]
  },
  {
   "cell_type": "code",
   "execution_count": 7,
   "id": "909dd4a5",
   "metadata": {},
   "outputs": [],
   "source": [
    "for sample in new_samples:    \n",
    "    solution_file = f'solution/samples{sample.sample_id}.json'\n",
    "    with open(solution_file, 'w') as f:\n",
    "        json.dump(sample, f, cls=MontyEncoder)\n",
    "        sample.plot(perphase=True, saveplot=f'solution_figures/sample_{sample.sample_id}.pdf')"
   ]
  },
  {
   "cell_type": "code",
   "execution_count": null,
   "id": "783839ea",
   "metadata": {},
   "outputs": [],
   "source": []
  },
  {
   "cell_type": "code",
   "execution_count": null,
   "id": "6d68a682",
   "metadata": {},
   "outputs": [],
   "source": []
  },
  {
   "cell_type": "code",
   "execution_count": null,
   "id": "1c21892d",
   "metadata": {},
   "outputs": [],
   "source": []
  }
 ],
 "metadata": {
  "kernelspec": {
   "display_name": "Python 3 (ipykernel)",
   "language": "python",
   "name": "python3"
  },
  "language_info": {
   "codemirror_mode": {
    "name": "ipython",
    "version": 3
   },
   "file_extension": ".py",
   "mimetype": "text/x-python",
   "name": "python",
   "nbconvert_exporter": "python",
   "pygments_lexer": "ipython3",
   "version": "3.7.13"
  }
 },
 "nbformat": 4,
 "nbformat_minor": 5
}
