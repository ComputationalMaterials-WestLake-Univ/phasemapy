{
 "cells": [
  {
   "cell_type": "code",
   "execution_count": 2,
   "id": "fab55ba9",
   "metadata": {
    "scrolled": true
   },
   "outputs": [],
   "source": [
    "import warnings\n",
    "warnings.filterwarnings('ignore')\n",
    "import json, os\n",
    "import numpy as np\n",
    "from monty.json import MontyDecoder, MontyEncoder\n",
    "from copy import deepcopy\n",
    "from scipy.spatial import distance_matrix\n",
    "import sys\n",
    "sys.path.append('..')\n",
    "\n",
    "from phasemapy.dataio import InstanceData\n",
    "from phasemapy.parser import ICDDEntry\n",
    "from phasemapy.solver import Phase, Sample,Texture\n",
    "\n",
    "chemsys = ['V', 'Mn', 'Nb']\n",
    "oxide_system = True\n",
    "photon_e = 13e3\n",
    "max_q_shift = 0.02\n",
    "resample_density = 1000\n",
    "initial_alphagamma = 0.1\n",
    "SUM_NORM = 6000\n",
    "loss_weight = {'xrd_loss': 6.0, 'comp_loss': 2.0, 'entropy_loss': 0.01}"
   ]
  },
  {
   "cell_type": "code",
   "execution_count": 3,
   "id": "a7323ff7",
   "metadata": {},
   "outputs": [],
   "source": [
    "instance_data = InstanceData.from_file('../data/instance_file_24297_NbMnVO_v02.txt', chemsys, photon_e)\n",
    "instance_data = instance_data.resample_xrd(resample_density)\n",
    "instance_data.renormalize(norm=SUM_NORM)\n",
    "instance_data.normalize()"
   ]
  },
  {
   "cell_type": "code",
   "execution_count": 4,
   "id": "1dc9bb46",
   "metadata": {},
   "outputs": [],
   "source": [
    "samples = []\n",
    "for i in range(instance_data.sample_num):\n",
    "    solution_file = f'solution/samples{i}.json'\n",
    "    with open(solution_file) as f:\n",
    "        sample = json.load(f, cls=MontyDecoder)\n",
    "    if sample.sample_id !=i:\n",
    "        print (i)    \n",
    "    samples.append(sample)"
   ]
  },
  {
   "cell_type": "code",
   "execution_count": 23,
   "id": "99dc68ea",
   "metadata": {},
   "outputs": [],
   "source": [
    "# for sample in samples:    \n",
    "#     solution_file = f'solution/samples{sample.sample_id}.json'\n",
    "# #     sample.refine_one_by_one()\n",
    "#     sample.plot(perphase=True)\n",
    "#     with open(solution_file, 'w') as f:\n",
    "#         json.dump(sample, f, cls=MontyEncoder)\n",
    "#         sample.plot(perphase=True, saveplot=f'solution_figures/sample_{sample.sample_id}.pdf')"
   ]
  },
  {
   "cell_type": "code",
   "execution_count": 4,
   "id": "f4763881",
   "metadata": {},
   "outputs": [],
   "source": [
    "# comp_dist = distance_matrix(instance_data.sample_comp, instance_data.sample_comp)\n",
    "# nn_list = {i: np.where((comp_dist[i] < 0.5) & (comp_dist[i] > 0))[0] for i in range(instance_data.sample_num)}\n",
    "# for sample in samples:\n",
    "#     if True:\n",
    "#         # if min([count_act[_.entry_id] for _ in sample.entries])<5.0:\n",
    "#         if sample.R > 0.12:\n",
    "#             print(sample.sample_id, sample.loss(loss_weight))\n",
    "#             candidate_entries = []\n",
    "#             for i in nn_list[sample.sample_id]:\n",
    "#                 candidate_entries += samples[i].entries\n",
    "#             candidate_entries = list(set(candidate_entries))\n",
    "#             solution = []\n",
    "#             for e in candidate_entries:\n",
    "#                 phase = Phase.from_entry_and_instance_data(e, 1 / len(candidate_entries), instance_data)\n",
    "#                 solution.append(phase)\n",
    "    \n",
    "#             new_sample = deepcopy(sample)\n",
    "#             new_sample.solution = solution\n",
    "#             new_sample.refine_one_by_one()\n",
    "#             new_sample.refine_all_fractions()   \n",
    "#             new_sample.update_solution(0.01, 0.2999, new_sample.max_q_shift)            \n",
    "#             new_sample = new_sample.optimize(num_epoch=500, print_prog=True, loss_weight=loss_weight)\n",
    "#             new_sample.update_solution(0.01, 0.2999, new_sample.max_q_shift)  \n",
    "           \n",
    "#             new_sample.refine_one_by_one() \n",
    "#             new_sample.refine_all_fractions()          \n",
    "#             new_sample.update_solution(0.05, 0.2999, new_sample.max_q_shift) \n",
    "#             new_sample.print_solution()           \n",
    "#             if new_sample.loss(loss_weight) <= sample.loss(loss_weight):\n",
    "#                 sample.print_solution()\n",
    "#                 new_sample.print_solution()                \n",
    "#                 new_sample.plot(perphase=True)\n",
    "#                 samples[sample.sample_id] = new_sample\n",
    "#                 solution_file = f'solution/samples{sample.sample_id}.json'\n",
    "#                 with open(solution_file, 'w') as f:\n",
    "#                     json.dump(samples[sample.sample_id], f, cls=MontyEncoder)"
   ]
  },
  {
   "cell_type": "code",
   "execution_count": 5,
   "id": "7c95e665",
   "metadata": {},
   "outputs": [],
   "source": [
    "# samples = []\n",
    "# for i in range(instance_data.sample_num):\n",
    "#     solution_file = f'solution/samples{i}.json'\n",
    "#     with open(solution_file) as f:\n",
    "#         sample = json.load(f, cls=MontyDecoder)\n",
    "#     if sample.sample_id !=i:\n",
    "#         print (i)    \n",
    "#     samples.append(sample)"
   ]
  },
  {
   "cell_type": "code",
   "execution_count": null,
   "id": "7d582daa",
   "metadata": {
    "scrolled": true
   },
   "outputs": [],
   "source": [
    "texture_groups = {}\n",
    "new_samples = []\n",
    "for i,sample in enumerate(samples):\n",
    "    iter_num = 1\n",
    "    print(i)\n",
    "    sample_texture = Texture(sample,TC_cutoff=1.2)\n",
    "    while  iter_num <= len(sample.solution):\n",
    "        if len(sample_texture.preferred_orientation ) != 0:\n",
    "            print(sample_texture.entry.name)\n",
    "            print(sample_texture.preferred_orientation)\n",
    "            if sample_texture.entry.chemical_formula in texture_groups.keys():\n",
    "                texture_group_one = texture_groups[f'{sample_texture.entry.chemical_formula}_{sample_texture.preferred_orientation}']\n",
    "            else:\n",
    "                try:\n",
    "                    texture_group_one = sample_texture.get_texture_group()\n",
    "                    texture_groups[f'{sample_texture.entry.chemical_formula}_{sample_texture.preferred_orientation}'] = texture_group_one\n",
    "                except UnicodeDecodeError:\n",
    "                    iter_num = iter_num + 1\n",
    "                    continue\n",
    "        sample_dup = sample_texture.optimize_by_texture(texture_group_one)    \n",
    "        first_solution = sample_dup.solution.pop(0)\n",
    "        sample_dup.solution.append(first_solution)\n",
    "        sample_texture = Texture(sample_dup,TC_cutoff=1.2)\n",
    "        iter_num = iter_num + 1\n",
    "        \n",
    "    new_samples.append(sample_texture.sample)"
   ]
  },
  {
   "cell_type": "code",
   "execution_count": 16,
   "id": "9351d84d",
   "metadata": {},
   "outputs": [],
   "source": [
    "# from pymatgen.core.structure import Structure\n",
    "# from pymatgen.symmetry.analyzer import SpacegroupAnalyzer\n",
    "# structure = Structure.from_file('./data/icsd/CollCode22303.cif')"
   ]
  },
  {
   "cell_type": "code",
   "execution_count": 7,
   "id": "909dd4a5",
   "metadata": {},
   "outputs": [],
   "source": [
    "for sample in new_samples:    \n",
    "    solution_file = f'solution/samples{sample.sample_id}.json'\n",
    "    with open(solution_file, 'w') as f:\n",
    "        json.dump(sample, f, cls=MontyEncoder)\n",
    "        sample.plot(perphase=True, saveplot=f'solution_figures/sample_{sample.sample_id}.pdf')"
   ]
  },
  {
   "cell_type": "code",
   "execution_count": null,
   "id": "783839ea",
   "metadata": {},
   "outputs": [],
   "source": []
  },
  {
   "cell_type": "code",
   "execution_count": null,
   "id": "6d68a682",
   "metadata": {},
   "outputs": [],
   "source": []
  },
  {
   "cell_type": "code",
   "execution_count": null,
   "id": "1c21892d",
   "metadata": {},
   "outputs": [],
   "source": []
  }
 ],
 "metadata": {
  "kernelspec": {
   "display_name": "Python 3 (ipykernel)",
   "language": "python",
   "name": "python3"
  },
  "language_info": {
   "codemirror_mode": {
    "name": "ipython",
    "version": 3
   },
   "file_extension": ".py",
   "mimetype": "text/x-python",
   "name": "python",
   "nbconvert_exporter": "python",
   "pygments_lexer": "ipython3",
   "version": "3.7.13"
  }
 },
 "nbformat": 4,
 "nbformat_minor": 5
}
