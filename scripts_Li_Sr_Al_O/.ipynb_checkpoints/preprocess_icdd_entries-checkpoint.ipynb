{
 "cells": [
  {
   "cell_type": "code",
   "execution_count": 1,
   "id": "6eed3ed4",
   "metadata": {},
   "outputs": [
    {
     "name": "stderr",
     "output_type": "stream",
     "text": [
      "\n",
      "Bad key text.latex.preview in file C:\\Users\\dell\\anaconda3\\envs\\myPymatgen\\lib\\site-packages\\matplotlib\\mpl-data\\stylelib\\_classic_test.mplstyle, line 123 ('text.latex.preview : False')\n",
      "You probably need to get an updated matplotlibrc file from\n",
      "https://github.com/matplotlib/matplotlib/blob/v3.5.2/matplotlibrc.template\n",
      "or from the matplotlib source distribution\n",
      "\n",
      "Bad key mathtext.fallback_to_cm in file C:\\Users\\dell\\anaconda3\\envs\\myPymatgen\\lib\\site-packages\\matplotlib\\mpl-data\\stylelib\\_classic_test.mplstyle, line 155 ('mathtext.fallback_to_cm : True  # When True, use symbols from the Computer Modern')\n",
      "You probably need to get an updated matplotlibrc file from\n",
      "https://github.com/matplotlib/matplotlib/blob/v3.5.2/matplotlibrc.template\n",
      "or from the matplotlib source distribution\n",
      "\n",
      "Bad key savefig.jpeg_quality in file C:\\Users\\dell\\anaconda3\\envs\\myPymatgen\\lib\\site-packages\\matplotlib\\mpl-data\\stylelib\\_classic_test.mplstyle, line 418 ('savefig.jpeg_quality: 95       # when a jpeg is saved, the default quality parameter.')\n",
      "You probably need to get an updated matplotlibrc file from\n",
      "https://github.com/matplotlib/matplotlib/blob/v3.5.2/matplotlibrc.template\n",
      "or from the matplotlib source distribution\n",
      "\n",
      "Bad key keymap.all_axes in file C:\\Users\\dell\\anaconda3\\envs\\myPymatgen\\lib\\site-packages\\matplotlib\\mpl-data\\stylelib\\_classic_test.mplstyle, line 466 ('keymap.all_axes : a                 # enable all axes')\n",
      "You probably need to get an updated matplotlibrc file from\n",
      "https://github.com/matplotlib/matplotlib/blob/v3.5.2/matplotlibrc.template\n",
      "or from the matplotlib source distribution\n",
      "\n",
      "Bad key animation.avconv_path in file C:\\Users\\dell\\anaconda3\\envs\\myPymatgen\\lib\\site-packages\\matplotlib\\mpl-data\\stylelib\\_classic_test.mplstyle, line 477 ('animation.avconv_path: avconv     # Path to avconv binary. Without full path')\n",
      "You probably need to get an updated matplotlibrc file from\n",
      "https://github.com/matplotlib/matplotlib/blob/v3.5.2/matplotlibrc.template\n",
      "or from the matplotlib source distribution\n",
      "\n",
      "Bad key animation.avconv_args in file C:\\Users\\dell\\anaconda3\\envs\\myPymatgen\\lib\\site-packages\\matplotlib\\mpl-data\\stylelib\\_classic_test.mplstyle, line 479 ('animation.avconv_args:            # Additional arguments to pass to avconv')\n",
      "You probably need to get an updated matplotlibrc file from\n",
      "https://github.com/matplotlib/matplotlib/blob/v3.5.2/matplotlibrc.template\n",
      "or from the matplotlib source distribution\n"
     ]
    }
   ],
   "source": [
    "import numpy as np\n",
    "import matplotlib.pyplot as plt\n",
    "import sys\n",
    "sys.path.append('..')\n",
    "import os\n",
    "from copy import deepcopy\n",
    "from scipy.constants import h, c, e\n",
    "from monty.json import MontyDecoder, MontyEncoder\n",
    "import json\n",
    "import pandas as pd\n",
    "\n",
    "from phasemapy.parser import ICDDEntry, ICDDEntryPreprocessor\n",
    "from phasemapy.solver import Phase, Sample\n",
    "\n",
    "chemsys = ['Li', 'Sr', 'Al']\n",
    "oxide_system = True"
   ]
  },
  {
   "cell_type": "code",
   "execution_count": 32,
   "id": "8288dfc1",
   "metadata": {},
   "outputs": [],
   "source": [
    "def get_dataframe(icdd_entries, keys):\n",
    "    data = {}\n",
    "    for key in keys:\n",
    "        data[key] = [e.as_dict()[key] for e in icdd_entries]\n",
    "    df = pd.DataFrame(data)\n",
    "    return df\n",
    "\n",
    "def plot_merge_xrd(entries_sum,entries_index):\n",
    "    from scipy.ndimage import gaussian_filter1d\n",
    "    def smooth_hist(q, amp, bins):\n",
    "        hist, bin_edges = np.histogram(q, bins=bins, weights=amp)\n",
    "        smoothed = gaussian_filter1d(hist, 4)\n",
    "        return smoothed\n",
    "    bins = np.linspace(min([_.data['xrd'][0][0] for _ in entries_sum]) - 0.01,\n",
    "                           max([_.data['xrd'][0][-1] for _ in entries_sum]) + 0.01, 1000)\n",
    "    smooth_xrd_data = []\n",
    "    for i in entries_index:        \n",
    "        q, amp = entries_sum[i].data['xrd'][0],entries_sum[i].data['xrd'][1]\n",
    "        smooth_xrds_i = smooth_hist(q, amp, bins)\n",
    "        smooth_xrds_i = smooth_xrds_i / np.max(smooth_xrds_i) * 100\n",
    "        smooth_xrd_data.append(smooth_xrds_i)    \n",
    "    \n",
    "    for j in range(len(smooth_xrd_data)):\n",
    "        plt.plot(bins[0:-1],smooth_xrd_data[j],label = f\"{entries_index[j]}+{entries_sum[entries_index[j]].name}+{entries_sum[entries_index[j]].entry_id}\")\n",
    "        plt.legend()\n",
    "\n",
    "        "
   ]
  },
  {
   "cell_type": "code",
   "execution_count": 34,
   "id": "91442acf",
   "metadata": {},
   "outputs": [],
   "source": [
    "#load entry pool: 100 ICDD entries\n",
    "with open('./data/ICDD_entries_raw.json') as f:\n",
    "    entries_Li_Sr_Al = json.load(f, cls=MontyDecoder)\n",
    "\n",
    "entries = [ICDDEntry.from_icdd_json (en) for en in entries_Li_Sr_Al]"
   ]
  },
  {
   "cell_type": "code",
   "execution_count": null,
   "id": "7306b910",
   "metadata": {
    "pycharm": {
     "name": "#%%\n"
    }
   },
   "outputs": [],
   "source": [
    "precess = ICDDEntryPreprocessor(deepcopy(entries), chemsys, oxide_system)\n",
    "groups = precess.merge_by_xrd(bin_number=1000, gaussian_filter=4, R_cutoff=0.15)"
   ]
  },
  {
   "cell_type": "code",
   "execution_count": null,
   "id": "8b2d56ac",
   "metadata": {
    "pycharm": {
     "name": "#%%\n"
    }
   },
   "outputs": [],
   "source": [
    "df = get_dataframe([_ for _ in precess.entries ],\n",
    "                       ['entry_id', 'name', 'leader'])\n",
    "# print(df)\n",
    "df.to_excel(\"./data/output_candidate_pool.xlsx\")\n",
    "\n",
    "with open('./data/icdd_entries.json', 'w') as f:\n",
    "    json.dump(precess.entries, f, cls=MontyEncoder)"
   ]
  },
  {
   "cell_type": "code",
   "execution_count": null,
   "id": "c1d63df1",
   "metadata": {
    "pycharm": {
     "name": "#%%\n"
    }
   },
   "outputs": [],
   "source": [
    "plot_merge_xrd(entries, groups[0])"
   ]
  },
  {
   "cell_type": "code",
   "execution_count": null,
   "id": "c1fc0493",
   "metadata": {
    "pycharm": {
     "name": "#%%\n"
    }
   },
   "outputs": [],
   "source": [
    "plot_merge_xrd(entries, groups[1])"
   ]
  },
  {
   "cell_type": "code",
   "execution_count": 4,
   "id": "b71b66c2",
   "metadata": {},
   "outputs": [
    {
     "name": "stderr",
     "output_type": "stream",
     "text": [
      "C:\\Users\\dell\\anaconda3\\envs\\myPymatgen\\lib\\site-packages\\pymatgen\\io\\cif.py:1164: UserWarning: Issues encountered while parsing CIF: Some fractional co-ordinates rounded to ideal values to avoid issues with finite precision.\n",
      "  warnings.warn(\"Issues encountered while parsing CIF: %s\" % \"\\n\".join(self.warnings))\n",
      "C:\\Users\\dell\\anaconda3\\envs\\myPymatgen\\lib\\site-packages\\pymatgen\\io\\cif.py:1018: UserWarning: Some occupancies ([1.01, 1.0]) sum to > 1! If they are within the occupancy_tolerance, they will be rescaled. The current occupancy_tolerance is set to: 1.1\n",
      "  warnings.warn(msg)\n",
      "C:\\Users\\dell\\anaconda3\\envs\\myPymatgen\\lib\\site-packages\\pymatgen\\io\\cif.py:1164: UserWarning: Issues encountered while parsing CIF: Some occupancies ([1.01, 1.0]) sum to > 1! If they are within the occupancy_tolerance, they will be rescaled. The current occupancy_tolerance is set to: 1.1\n",
      "  warnings.warn(\"Issues encountered while parsing CIF: %s\" % \"\\n\".join(self.warnings))\n",
      "C:\\Users\\dell\\anaconda3\\envs\\myPymatgen\\lib\\site-packages\\pymatgen\\io\\cif.py:1018: UserWarning: Some occupancies ([1.0, 1.00001]) sum to > 1! If they are within the occupancy_tolerance, they will be rescaled. The current occupancy_tolerance is set to: 1.1\n",
      "  warnings.warn(msg)\n",
      "C:\\Users\\dell\\anaconda3\\envs\\myPymatgen\\lib\\site-packages\\pymatgen\\io\\cif.py:1164: UserWarning: Issues encountered while parsing CIF: Some occupancies ([1.0, 1.00001]) sum to > 1! If they are within the occupancy_tolerance, they will be rescaled. The current occupancy_tolerance is set to: 1.1\n",
      "  warnings.warn(\"Issues encountered while parsing CIF: %s\" % \"\\n\".join(self.warnings))\n"
     ]
    }
   ],
   "source": [
    "from glob import glob\n",
    "from pymatgen.io.cif import CifParser\n",
    "from pymatgen.analysis.diffraction.xrd import XRDCalculator\n",
    "pdfs = glob('../ICSD/Li_Sr_Al_O/*.cif')\n",
    "icsd_entries = [ICDDEntry.from_icsd_cif(pdf) for pdf in pdfs]"
   ]
  },
  {
   "cell_type": "code",
   "execution_count": 8,
   "id": "66625d09",
   "metadata": {},
   "outputs": [
    {
     "name": "stdout",
     "output_type": "stream",
     "text": [
      "Li5AlO4\n",
      "Al2O3\n",
      "Al2O3\n",
      "Li3.984Al20O32\n",
      "SrO\n",
      "Sr1.5Al33O51\n",
      "Li2O\n",
      "SrO\n",
      "Al2O3\n",
      "Al2O3\n",
      "SrAl12O19\n",
      "Al2O3\n",
      "Al2O3\n",
      "Al10.68O16\n",
      "SrAl4O7\n",
      "SrAl4O7\n",
      "Al2O3\n",
      "Al2O3\n",
      "Al2O3\n",
      "SrAl2O4\n",
      "SrAl2O4\n",
      "SrAl2O4\n",
      "SrAl2O4\n",
      "SrAl2O4\n",
      "Sr2Al4O7.998\n",
      "Sr2Al4O7.998\n",
      "Al2O3\n",
      "Al2O3\n",
      "Al2O3\n",
      "Al2O3\n",
      "Al2O3\n",
      "Al2O3\n",
      "Al2O3\n",
      "Al2O3\n",
      "Li5AlO4\n",
      "SrO\n",
      "Al2O3\n",
      "Al2O3\n",
      "SrAl4O7\n",
      "Al2O3\n",
      "Li2O\n",
      "Li2O\n",
      "Li2O\n",
      "Li7.84O4\n",
      "Li7.9984O4\n",
      "Li8.0008O4\n",
      "Li2O\n",
      "Li8.0008O4\n",
      "SrAl12O19\n",
      "Al2O3\n",
      "Al2O3\n",
      "SrO\n",
      "SrAl12O19\n",
      "Sr7Al12O25\n",
      "Li2O\n",
      "Al10.24O16\n",
      "LiAlO2\n",
      "SrAl12O23\n",
      "Al2O3\n",
      "Li2O2\n",
      "SrO2\n",
      "Al2O3\n",
      "Al2O3\n",
      "Al21.3224O32\n",
      "SrO\n",
      "Li2O2\n",
      "Li2O\n",
      "Al2O3\n",
      "Sr4Al15O25\n",
      "Al9.88O16\n",
      "SrAl2O4\n",
      "Al2O3\n",
      "SrO\n",
      "Sr4Al14O25\n",
      "SrAl4O7\n",
      "Al10.656O16\n",
      "LiAlO2\n",
      "SrO\n",
      "Al2O\n",
      "AlO\n",
      "SrAl2O4\n",
      "SrAl2O4\n",
      "Al2O3\n",
      "Al2O3\n",
      "Al2O3\n",
      "Al2O3\n",
      "Al2O3\n",
      "Al2O3\n",
      "Al2O3\n",
      "Al2O3\n",
      "LiAlO2\n",
      "Al2.6652O4\n",
      "Al2O3\n",
      "Al2O3\n",
      "Al2O3\n",
      "Al2O3\n",
      "Al2O3\n",
      "SrAl4O7\n",
      "Li2O\n",
      "Al21.328O32\n",
      "Al21.352O32\n",
      "Al21.352O32\n",
      "Al31.992O48\n",
      "Sr5Li17Al7O24\n",
      "Sr2Li5.6664Al2.3336O8\n",
      "Sr2.002Li5.6544Al2.3456O8\n",
      "Sr2Li5.6488Al2.3512O8\n",
      "Li5AlO4\n",
      "LiAlO2\n",
      "LiAlO2\n",
      "LiAlO2\n",
      "LiAlO2\n",
      "LiAlO2\n",
      "Al2O3\n",
      "Li2O2\n",
      "Al2O3\n",
      "Al2O3\n",
      "Al2O3\n",
      "SrO\n",
      "Al2O3\n",
      "Al2O3\n",
      "Li2O\n",
      "Al2O3\n",
      "Sr7Al12O25\n",
      "Li2O\n",
      "Al2O3\n",
      "Al21.36O32\n",
      "Al2O3\n",
      "Li2O\n",
      "Al2O3\n",
      "Al2O3\n",
      "Al2O3\n",
      "Al2O3\n",
      "Al2O3\n",
      "Al2O3\n",
      "Al2O3\n",
      "Al2O3\n",
      "Al2O3\n",
      "Al2O3\n",
      "Li2O\n",
      "Al2O3\n",
      "SrO2\n",
      "Sr3Al2O6\n",
      "Al21.44O32\n",
      "Al21.44O32\n",
      "Al7.28O10.92\n",
      "Al2O3\n",
      "Al21.3328O32\n",
      "Al10.664O16\n",
      "SrAl12O19\n",
      "Al21.328O32\n",
      "Sr3Al2O6\n",
      "Al2O3\n",
      "Al2O3\n",
      "Al2O3\n",
      "Sr2O3.904\n",
      "Al2O3\n",
      "Al2O3\n",
      "Al2O3\n",
      "Sr2LiAlO4\n",
      "Sr2LiAlO4\n",
      "Al2O3\n",
      "Al2O3\n",
      "Li3.996Al20.004O32\n",
      "Li2Al4O7\n",
      "Al2O3\n",
      "Al2O3\n",
      "Al2O3\n",
      "Al2O3\n",
      "Al2O3\n",
      "Al2O3\n",
      "Sr4Al14O25\n",
      "Sr2O3.9104\n",
      "Sr2O3.8464\n",
      "Sr2O3.6032\n",
      "Al2O3\n",
      "Al2O3\n",
      "Al2O3\n",
      "Al2O3\n",
      "Al2O3\n",
      "Al2O3\n",
      "Al2O3\n",
      "Al2O3\n",
      "Sr10Al6O19\n",
      "Al2O3\n",
      "Al2O3\n",
      "Sr2Al6O11\n",
      "Al2O3\n",
      "Al2O3\n",
      "Al2O3\n",
      "Al2O3\n",
      "Li3.952Al4.048O8\n",
      "Al2O3\n",
      "Al10.64O16\n"
     ]
    }
   ],
   "source": [
    "for en in icdd_entries:\n",
    "    print(en.empirical_formula)"
   ]
  },
  {
   "cell_type": "code",
   "execution_count": 10,
   "id": "e7ccbf86",
   "metadata": {},
   "outputs": [],
   "source": [
    "precess = ICDDEntryPreprocessor(deepcopy(icdd_entries), chemsys, oxide_system)\n",
    "precess.get_xrd()\n",
    "all_entries = precess.entries"
   ]
  },
  {
   "cell_type": "code",
   "execution_count": null,
   "id": "064d1267",
   "metadata": {},
   "outputs": [],
   "source": [
    "\n"
   ]
  },
  {
   "cell_type": "code",
   "execution_count": null,
   "id": "77323c09",
   "metadata": {},
   "outputs": [],
   "source": [
    "\n"
   ]
  },
  {
   "cell_type": "code",
   "execution_count": null,
   "id": "e61efe3b",
   "metadata": {
    "scrolled": true
   },
   "outputs": [],
   "source": []
  },
  {
   "cell_type": "code",
   "execution_count": 138,
   "id": "1b186556",
   "metadata": {
    "pycharm": {
     "name": "#%%\n"
    }
   },
   "outputs": [],
   "source": [
    "# def from_icsd_cif(cif_file):    \n",
    "#     struct = CifParser(cif_file, occupancy_tolerance=1.1).get_structures(primitive=False)[0]\n",
    "#     entry_id = cif_file.split('Code')[1].split('.')[0]    \n",
    "#     empirical_formula = Composition(struct.formula).reduced_formula\n",
    "#     common_name = empirical_formula   \n",
    "#     structure = struct\n",
    "#     status = quality_mark = pressure_temperature = database_comments = spgr = cross_refs =  name = leader = data = None\n",
    "    "
   ]
  },
  {
   "cell_type": "code",
   "execution_count": 139,
   "id": "c345bc12",
   "metadata": {},
   "outputs": [
    {
     "name": "stdout",
     "output_type": "stream",
     "text": [
      "Full Formula (Li10 Al2 O8)\n",
      "Reduced Formula: Li5AlO4\n",
      "abc   :   6.302000   6.420000   4.620000\n",
      "angles:  90.000000  90.000000  90.000000\n",
      "Sites (20)\n",
      "  #  SP        a      b      c\n",
      "---  ----  -----  -----  -----\n",
      "  0  Li+   0.551  0.555  0.254\n",
      "  1  Li+   0.949  0.555  0.254\n",
      "  2  Li+   0.551  0.945  0.254\n",
      "  3  Li+   0.949  0.945  0.254\n",
      "  4  Li+   0.449  0.445  0.746\n",
      "  5  Li+   0.051  0.445  0.746\n",
      "  6  Li+   0.449  0.055  0.746\n",
      "  7  Li+   0.051  0.055  0.746\n",
      "  8  Li+   0.75   0.25   0.212\n",
      "  9  Li+   0.25   0.75   0.788\n",
      " 10  Al3+  0.75   0.75   0.774\n",
      " 11  Al3+  0.25   0.25   0.226\n",
      " 12  O2-   0.516  0.75   0.57\n",
      " 13  O2-   0.984  0.75   0.57\n",
      " 14  O2-   0.484  0.25   0.43\n",
      " 15  O2-   0.016  0.25   0.43\n",
      " 16  O2-   0.75   0.518  0.985\n",
      " 17  O2-   0.75   0.982  0.985\n",
      " 18  O2-   0.25   0.482  0.015\n",
      " 19  O2-   0.25   0.018  0.015\n"
     ]
    }
   ],
   "source": [
    "from_icsd_cif(pdfs[0])\n"
   ]
  },
  {
   "cell_type": "code",
   "execution_count": 93,
   "id": "048acfde",
   "metadata": {},
   "outputs": [
    {
     "data": {
      "text/plain": [
       "'Li3.984Al20O32'"
      ]
     },
     "execution_count": 93,
     "metadata": {},
     "output_type": "execute_result"
    }
   ],
   "source": []
  },
  {
   "cell_type": "code",
   "execution_count": 130,
   "id": "5e3dfdf5",
   "metadata": {},
   "outputs": [],
   "source": [
    "# import os #导入模块\n",
    "# filename = 'C:\\\\Users\\\\dell\\\\Desktop\\\\phasemapy\\\\ICSD\\\\V-Mn-Nb-O' #文件地址\n",
    "# list_path = os.listdir(filename)  #读取文件夹里面的名字\n",
    "# for index in list_path:  #list_path返回的是一个列表   通过for循环遍历提取元素\n",
    "#     path = filename + '\\\\' + index\n",
    "#     new_path = filename + '\\\\' + index.split('O_')[-1]\n",
    "#     os.rename(path, new_path) #重新命名\n",
    "\n",
    "\n",
    "\n"
   ]
  },
  {
   "cell_type": "code",
   "execution_count": 4,
   "id": "de754cc3",
   "metadata": {
    "scrolled": true
   },
   "outputs": [
    {
     "name": "stderr",
     "output_type": "stream",
     "text": [
      "C:\\Users\\dell\\anaconda3\\envs\\myPymatgen\\lib\\site-packages\\pymatgen\\io\\cif.py:1164: UserWarning: Issues encountered while parsing CIF: Some fractional co-ordinates rounded to ideal values to avoid issues with finite precision.\n",
      "  warnings.warn(\"Issues encountered while parsing CIF: %s\" % \"\\n\".join(self.warnings))\n"
     ]
    },
    {
     "name": "stdout",
     "output_type": "stream",
     "text": [
      "[ICDD] Total (Li-Sr-Al) - O:  37\n",
      "[ICDD] after remove Deleted: 35\n",
      "[ICDD] after remove Hypothetical: 35\n",
      "[ICDD] after remove Blank/Low-Precision: 35\n",
      "[ICDD] after remove non-Ambient: 29\n",
      "[ICDD] after remove weird-valence entries 26\n",
      "[ICDD] after merging cross-ref entries 22\n",
      "[ICDD] after merging XRD-polymorph entries 20\n",
      "[ICDD] after merging XRD-group entries 20 []\n",
      "13 ordered structures\n",
      "7 disordered structures\n",
      "       entry_id          name pressure_temperature                                         cross_refs     status quality_mark           spgr                          common_name       leader\n",
      "0   00-026-0031        Al2 O3              Ambient                                      [04-007-2253]    Primary      Indexed    P63mc (186)                            κ`-Al2 O3  00-026-0031\n",
      "1   00-050-0741        Al2 O3              Ambient                         [00-010-0425, 04-007-2478]    Primary      Indexed    Fd-3m (227)                             γ-Al2 O3  00-050-0741\n",
      "2   01-074-2232      Al Li O2              Ambient                         [04-002-2224, 04-002-8213]    Primary      Indexed     R-3m (166)                           α-Li Al O2  01-074-2232\n",
      "3   01-075-6979          O Sr              Ambient  [00-001-0886, 00-006-0520, 00-048-1477, 01-071...  Alternate         Star    Fm-3m (225)                                       01-075-6979\n",
      "4   01-081-8158   Al12 O19 Sr              Ambient  [01-084-8593, 04-002-2675, 04-007-6069, 04-008...  Alternate  Prototyping  P63/mmc (194)            strontium dodecaaluminate  01-081-8158\n",
      "5   01-089-7717        Al2 O3              Ambient  [00-001-1243, 00-002-1227, 00-002-1373, 00-003...  Alternate         Star     R-3c (167)          α-Al2 O3, dialuminium oxide  01-089-7717\n",
      "6   04-005-4662         Al2O3              Ambient  [00-047-1292, 04-003-3818, 04-005-9696, 04-006...    Primary         Star    Fd-3m (227)                          γ-Al2.67 O4  04-005-4662\n",
      "7   04-007-0646        Li2 O2              Ambient  [01-074-0115, 04-012-0079, 04-013-3506, 01-073...    Primary      Indexed      P-6 (174)                                       04-007-0646\n",
      "8   04-007-5368     Al4 O7 Sr              Ambient            [00-025-1208, 04-007-5096, 01-070-1479]    Primary      Indexed      C2/c (15)                                       04-007-5368\n",
      "9   04-007-5481    Al2 O6 Sr3              Ambient  [00-024-1187, 04-002-4462, 04-010-9251, 01-081...    Primary         Star     Pa-3 (205)        tristrontium dialuminum oxide  04-007-5481\n",
      "10  04-009-6438      Al Li O2              Ambient  [00-018-0714, 01-075-0905, 01-085-3652, 01-085...    Primary         Star    P41212 (92)  γ-Li Al O2, lithium aluminium oxide  04-009-6438\n",
      "11  04-010-5791  Al6 O19 Sr10              Ambient                                      [01-070-9237]    Primary         Star      C2/c (15)      decatrontium hexaaluminum oxide  04-010-5791\n",
      "12  04-011-3095     Al4 O7 Sr              Ambient                                      [01-076-0839]    Primary         Star      Cmme (67)                                       04-011-3095\n",
      "13  04-012-5215  Al12 O25 Sr7              Ambient            [04-011-3135, 01-076-0497, 01-083-2427]  Alternate      Indexed       P3 (143)                                       04-012-5215\n",
      "14  04-012-6907        Al2 O3              Ambient  [00-052-0803, 01-076-8886, 04-012-1443, 01-088...    Primary         Star     Pna21 (33)                             κ-Al2 O3  04-012-6907\n",
      "15  04-013-3940  Al14 O25 Sr4              Ambient            [01-074-1810, 04-012-3717, 01-089-8206]    Primary         Star      Pmma (51)                                       04-013-3940\n",
      "16  04-014-2682      Al Li O2              Ambient                                      [01-074-4328]    Primary      Indexed  I41/amd (141)                                       04-014-2682\n",
      "17  04-014-9711   Al6 O11 Sr2              Ambient                                      [01-072-7796]    Primary         Star      Pnnm (58)                                       04-014-9711\n",
      "18  04-014-9788     Al5 Li O8              Ambient  [04-002-2622, 04-002-2668, 04-002-8214, 04-002...    Primary         Star    P4332 (212)                                       04-014-9788\n",
      "19  04-018-1382      Li2Al4O7              Ambient                                      [01-087-1279]    Primary         Star    Fd-3m (227)                                       04-018-1382\n"
     ]
    }
   ],
   "source": [
    "\n",
    "#sys.path.append('/Users/yizhou/PycharmProjects/phasemapy')\n",
    "import json\n",
    "import pandas as pd\n",
    "from copy import deepcopy\n",
    "from glob import glob\n",
    "\n",
    "from monty.json import MontyEncoder\n",
    "from pymatgen.core import Element\n",
    "\n",
    "from phasemapy.parser import ICDDEntry, ICDDEntryPreprocessor\n",
    "\n",
    "\n",
    "chemsys = ['Li', 'Sr', 'Al']\n",
    "oxide_system = True\n",
    "\n",
    "def main():\n",
    "    def get_dataframe(icdd_entries, keys):\n",
    "        data = {}\n",
    "        for key in keys:\n",
    "            data[key] = [e.as_dict()[key] for e in icdd_entries]\n",
    "        df = pd.DataFrame(data)\n",
    "        return df\n",
    "\n",
    "    pdfs = glob('./data/icdd/*.xml')\n",
    "    icdd_entries = [ICDDEntry.from_icdd_xml(pdf) for pdf in pdfs]\n",
    "    icdd_entries = [_ for _ in icdd_entries if _.name != 'O2']    \n",
    "\n",
    "    precess = ICDDEntryPreprocessor(deepcopy(icdd_entries), chemsys, oxide_system)\n",
    "    df = get_dataframe(precess.entries,\n",
    "                       ['entry_id', 'name', 'pressure_temperature', 'cross_refs', 'status', 'quality_mark', 'name',\n",
    "                        'spgr', 'common_name'])\n",
    "\n",
    "    print('[ICDD] Total (Li-Sr-Al) - O: ', len(icdd_entries))  # Total\n",
    "\n",
    "    icdd_entries = [_ for _ in icdd_entries if _.status != 'Deleted']\n",
    "    print('[ICDD] after remove Deleted:', len(icdd_entries))\n",
    "\n",
    "    icdd_entries = [_ for _ in icdd_entries if _.quality_mark != 'Hypothetical']\n",
    "    print('[ICDD] after remove Hypothetical:', len(icdd_entries))\n",
    "\n",
    "    icdd_entries = [_ for _ in icdd_entries if _.quality_mark not in ['Blank', 'Low-Precision']]\n",
    "    print('[ICDD] after remove Blank/Low-Precision:', len(icdd_entries))\n",
    "\n",
    "    icdd_entries = [_ for _ in icdd_entries if _.pressure_temperature == 'Ambient']\n",
    "    print('[ICDD] after remove non-Ambient:', len(icdd_entries))\n",
    "\n",
    "#     icdd_entries = [_ for _ in icdd_entries if _.structure]\n",
    "#     print('[ICDD] after remove no-struct entries', len(icdd_entries))\n",
    "\n",
    "    def check_oxi(comp):\n",
    "        # comp = {el.symbol: comp[el] for el in comp}\n",
    "        c1 = comp[Element('Li')] * 2 + comp[Element('Sr')] * 2 + comp[Element('Al')] * 2 - comp[Element('O')] * 2\n",
    "        c2 = comp[Element('Li')] * 5 + comp[Element('Sr')] * 4 + comp[Element('Al')] * 5 - comp[Element('O')] * 2\n",
    "\n",
    "        return c1 * c2 <= 0\n",
    "\n",
    "    icdd_entries = [_ for _ in icdd_entries if check_oxi(_.composition)]\n",
    "    print('[ICDD] after remove weird-valence entries', len(icdd_entries))\n",
    "\n",
    "    precess = ICDDEntryPreprocessor(deepcopy(icdd_entries), chemsys, oxide_system)\n",
    "    precess.process_frac_name()\n",
    "    precess.process_disorder()  \n",
    "    precess.merge_by_cross_ref()\n",
    "    print('[ICDD] after merging cross-ref entries', len(precess.entries))\n",
    "    precess.get_xrd()\n",
    "    precess.merge_by_polymorph(bin_number=1000, gaussian_filter=4, R_cutoff=0.2)\n",
    "    print('[ICDD] after merging XRD-polymorph entries', len(precess.entries))\n",
    "    s=precess.merge_by_xrd(bin_number=1000, gaussian_filter=4, R_cutoff=0.15)\n",
    "    print('[ICDD] after merging XRD-group entries', len(precess.entries),s)\n",
    "\n",
    "    print(len([_ for _ in precess.entries if _.structure.is_ordered]), 'ordered structures')\n",
    "    print(len([_ for _ in precess.entries if not _.structure.is_ordered]), 'disordered structures')\n",
    "#     print(len([_ for _ in precess.entries if _.structure.composition.as_dict().keys() == {'V', 'O'}]))\n",
    "\n",
    "\n",
    "\n",
    "    all_entries = precess.entries\n",
    "    df = get_dataframe([_ for _ in all_entries ],\n",
    "                       ['entry_id', 'name', 'pressure_temperature', 'cross_refs', 'status', 'quality_mark', 'name',\n",
    "                        'spgr', 'common_name', 'leader'])\n",
    "    print(df)\n",
    "    df.to_excel(\"output_candidate_pool.xlsx\")\n",
    "\n",
    "    with open('./data/icdd_entries.json', 'w') as f:\n",
    "        json.dump(all_entries, f, cls=MontyEncoder)\n",
    "\n",
    "if __name__ == \"__main__\":\n",
    "    main()\n",
    "\n"
   ]
  },
  {
   "cell_type": "code",
   "execution_count": 6,
   "id": "c3373139",
   "metadata": {
    "scrolled": true
   },
   "outputs": [
    {
     "name": "stderr",
     "output_type": "stream",
     "text": [
      "C:\\Users\\dell\\anaconda3\\envs\\myPymatgen\\lib\\site-packages\\pymatgen\\io\\cif.py:1164: UserWarning: Issues encountered while parsing CIF: Some fractional co-ordinates rounded to ideal values to avoid issues with finite precision.\n",
      "  warnings.warn(\"Issues encountered while parsing CIF: %s\" % \"\\n\".join(self.warnings))\n"
     ]
    },
    {
     "name": "stdout",
     "output_type": "stream",
     "text": [
      "[ICDD] Total (Li-Sr-Al) - O:  37\n",
      "[ICDD] after remove Deleted: 35\n",
      "[ICDD] after remove Hypothetical: 35\n",
      "[ICDD] after remove Blank/Low-Precision: 35\n",
      "[ICDD] after remove non-Ambient: 29\n",
      "[ICDD] after remove weird-valence entries 26\n",
      "[ICDD] after merging cross-ref entries 22\n",
      "[ICDD] after merging XRD-polymorph entries 20\n",
      "[ICDD] after merging XRD-group entries 19 [[6, 19]]\n",
      "13 ordered structures\n",
      "6 disordered structures\n",
      "       entry_id          name pressure_temperature                                         cross_refs     status quality_mark           spgr                          common_name       leader\n",
      "0   00-026-0031        Al2 O3              Ambient                                      [04-007-2253]    Primary      Indexed    P63mc (186)                            κ`-Al2 O3  00-026-0031\n",
      "1   00-050-0741        Al2 O3              Ambient                         [00-010-0425, 04-007-2478]    Primary      Indexed    Fd-3m (227)                             γ-Al2 O3  00-050-0741\n",
      "2   01-074-2232      Al Li O2              Ambient                         [04-002-2224, 04-002-8213]    Primary      Indexed     R-3m (166)                           α-Li Al O2  01-074-2232\n",
      "3   01-075-6979          O Sr              Ambient  [00-001-0886, 00-006-0520, 00-048-1477, 01-071...  Alternate         Star    Fm-3m (225)                                       01-075-6979\n",
      "4   01-081-8158   Al12 O19 Sr              Ambient  [01-084-8593, 04-002-2675, 04-007-6069, 04-008...  Alternate  Prototyping  P63/mmc (194)            strontium dodecaaluminate  01-081-8158\n",
      "5   01-089-7717        Al2 O3              Ambient  [00-001-1243, 00-002-1227, 00-002-1373, 00-003...  Alternate         Star     R-3c (167)          α-Al2 O3, dialuminium oxide  01-089-7717\n",
      "6   04-005-4662         Al2O3              Ambient  [00-047-1292, 04-003-3818, 04-005-9696, 04-006...    Primary         Star    Fd-3m (227)                          γ-Al2.67 O4  04-005-4662\n",
      "7   04-007-0646        Li2 O2              Ambient  [01-074-0115, 04-012-0079, 04-013-3506, 01-073...    Primary      Indexed      P-6 (174)                                       04-007-0646\n",
      "8   04-007-5368     Al4 O7 Sr              Ambient            [00-025-1208, 04-007-5096, 01-070-1479]    Primary      Indexed      C2/c (15)                                       04-007-5368\n",
      "9   04-007-5481    Al2 O6 Sr3              Ambient  [00-024-1187, 04-002-4462, 04-010-9251, 01-081...    Primary         Star     Pa-3 (205)        tristrontium dialuminum oxide  04-007-5481\n",
      "10  04-009-6438      Al Li O2              Ambient  [00-018-0714, 01-075-0905, 01-085-3652, 01-085...    Primary         Star    P41212 (92)  γ-Li Al O2, lithium aluminium oxide  04-009-6438\n",
      "11  04-010-5791  Al6 O19 Sr10              Ambient                                      [01-070-9237]    Primary         Star      C2/c (15)      decatrontium hexaaluminum oxide  04-010-5791\n",
      "12  04-011-3095     Al4 O7 Sr              Ambient                                      [01-076-0839]    Primary         Star      Cmme (67)                                       04-011-3095\n",
      "13  04-012-5215  Al12 O25 Sr7              Ambient            [04-011-3135, 01-076-0497, 01-083-2427]  Alternate      Indexed       P3 (143)                                       04-012-5215\n",
      "14  04-012-6907        Al2 O3              Ambient  [00-052-0803, 01-076-8886, 04-012-1443, 01-088...    Primary         Star     Pna21 (33)                             κ-Al2 O3  04-012-6907\n",
      "15  04-013-3940  Al14 O25 Sr4              Ambient            [01-074-1810, 04-012-3717, 01-089-8206]    Primary         Star      Pmma (51)                                       04-013-3940\n",
      "16  04-014-2682      Al Li O2              Ambient                                      [01-074-4328]    Primary      Indexed  I41/amd (141)                                       04-014-2682\n",
      "17  04-014-9711   Al6 O11 Sr2              Ambient                                      [01-072-7796]    Primary         Star      Pnnm (58)                                       04-014-9711\n",
      "18  04-014-9788     Al5 Li O8              Ambient  [04-002-2622, 04-002-2668, 04-002-8214, 04-002...    Primary         Star    P4332 (212)                                       04-014-9788\n"
     ]
    }
   ],
   "source": [
    "\n",
    "#sys.path.append('/Users/yizhou/PycharmProjects/phasemapy')\n",
    "import json\n",
    "import pandas as pd\n",
    "from copy import deepcopy\n",
    "from glob import glob\n",
    "\n",
    "from monty.json import MontyEncoder\n",
    "from pymatgen.core import Element\n",
    "\n",
    "from phasemapy.parser import ICDDEntry, ICDDEntryPreprocessor\n",
    "\n",
    "\n",
    "chemsys = ['Li', 'Sr', 'Al']\n",
    "oxide_system = True\n",
    "\n",
    "def main():\n",
    "    def get_dataframe(icdd_entries, keys):\n",
    "        data = {}\n",
    "        for key in keys:\n",
    "            data[key] = [e.as_dict()[key] for e in icdd_entries]\n",
    "        df = pd.DataFrame(data)\n",
    "        return df\n",
    "\n",
    "    pdfs = glob('./data/icdd/*.xml')\n",
    "    icdd_entries = [ICDDEntry.from_icdd_xml(pdf) for pdf in pdfs]\n",
    "    icdd_entries = [_ for _ in icdd_entries if _.name != 'O2']    \n",
    "\n",
    "    precess = ICDDEntryPreprocessor(deepcopy(icdd_entries), chemsys, oxide_system)\n",
    "    df = get_dataframe(precess.entries,\n",
    "                       ['entry_id', 'name', 'pressure_temperature', 'cross_refs', 'status', 'quality_mark', 'name',\n",
    "                        'spgr', 'common_name'])\n",
    "\n",
    "    print('[ICDD] Total (Li-Sr-Al) - O: ', len(icdd_entries))  # Total\n",
    "\n",
    "    icdd_entries = [_ for _ in icdd_entries if _.status != 'Deleted']\n",
    "    print('[ICDD] after remove Deleted:', len(icdd_entries))\n",
    "\n",
    "    icdd_entries = [_ for _ in icdd_entries if _.quality_mark != 'Hypothetical']\n",
    "    print('[ICDD] after remove Hypothetical:', len(icdd_entries))\n",
    "\n",
    "    icdd_entries = [_ for _ in icdd_entries if _.quality_mark not in ['Blank', 'Low-Precision']]\n",
    "    print('[ICDD] after remove Blank/Low-Precision:', len(icdd_entries))\n",
    "\n",
    "    icdd_entries = [_ for _ in icdd_entries if _.pressure_temperature == 'Ambient']\n",
    "    print('[ICDD] after remove non-Ambient:', len(icdd_entries))\n",
    "\n",
    "#     icdd_entries = [_ for _ in icdd_entries if _.structure]\n",
    "#     print('[ICDD] after remove no-struct entries', len(icdd_entries))\n",
    "\n",
    "    def check_oxi(comp):\n",
    "        # comp = {el.symbol: comp[el] for el in comp}\n",
    "        c1 = comp[Element('Li')] * 2 + comp[Element('Sr')] * 2 + comp[Element('Al')] * 2 - comp[Element('O')] * 2\n",
    "        c2 = comp[Element('Li')] * 5 + comp[Element('Sr')] * 4 + comp[Element('Al')] * 5 - comp[Element('O')] * 2\n",
    "\n",
    "        return c1 * c2 <= 0\n",
    "\n",
    "    icdd_entries = [_ for _ in icdd_entries if check_oxi(_.composition)]\n",
    "    print('[ICDD] after remove weird-valence entries', len(icdd_entries))\n",
    "\n",
    "    precess = ICDDEntryPreprocessor(deepcopy(icdd_entries), chemsys, oxide_system)\n",
    "    precess.process_frac_name()\n",
    "    precess.process_disorder()  \n",
    "    precess.merge_by_cross_ref()\n",
    "    print('[ICDD] after merging cross-ref entries', len(precess.entries))\n",
    "    precess.get_xrd()\n",
    "    precess.merge_by_polymorph(bin_number=1000, gaussian_filter=4, R_cutoff=0.2)\n",
    "    print('[ICDD] after merging XRD-polymorph entries', len(precess.entries))\n",
    "    s=precess.merge_by_xrd(bin_number=1000, gaussian_filter=4, R_cutoff=0.22)\n",
    "    print('[ICDD] after merging XRD-group entries', len(precess.entries),s)\n",
    "\n",
    "    print(len([_ for _ in precess.entries if _.structure.is_ordered]), 'ordered structures')\n",
    "    print(len([_ for _ in precess.entries if not _.structure.is_ordered]), 'disordered structures')\n",
    "#     print(len([_ for _ in precess.entries if _.structure.composition.as_dict().keys() == {'V', 'O'}]))\n",
    "\n",
    "\n",
    "\n",
    "    all_entries = precess.entries\n",
    "    df = get_dataframe([_ for _ in all_entries ],\n",
    "                       ['entry_id', 'name', 'pressure_temperature', 'cross_refs', 'status', 'quality_mark', 'name',\n",
    "                        'spgr', 'common_name', 'leader'])\n",
    "    print(df)\n",
    "    df.to_excel('./data/output_candidate_pool.xlsx')\n",
    "\n",
    "    with open('./data/icdd_entries.json', 'w') as f:\n",
    "        json.dump(all_entries, f, cls=MontyEncoder)\n",
    "\n",
    "if __name__ == \"__main__\":\n",
    "    main()\n",
    "\n"
   ]
  },
  {
   "cell_type": "code",
   "execution_count": 4,
   "id": "36860558",
   "metadata": {},
   "outputs": [
    {
     "ename": "NameError",
     "evalue": "name 'precess' is not defined",
     "output_type": "error",
     "traceback": [
      "\u001b[1;31m---------------------------------------------------------------------------\u001b[0m",
      "\u001b[1;31mNameError\u001b[0m                                 Traceback (most recent call last)",
      "\u001b[1;32m~\\AppData\\Local\\Temp\\ipykernel_24112\\1553338722.py\u001b[0m in \u001b[0;36m<module>\u001b[1;34m\u001b[0m\n\u001b[1;32m----> 1\u001b[1;33m \u001b[0mprecess\u001b[0m\u001b[1;33m.\u001b[0m\u001b[0mentries\u001b[0m\u001b[1;33m\u001b[0m\u001b[1;33m\u001b[0m\u001b[0m\n\u001b[0m",
      "\u001b[1;31mNameError\u001b[0m: name 'precess' is not defined"
     ]
    }
   ],
   "source": [
    "precess.entries"
   ]
  },
  {
   "cell_type": "code",
   "execution_count": null,
   "id": "e187f43c",
   "metadata": {},
   "outputs": [],
   "source": []
  },
  {
   "cell_type": "code",
   "execution_count": null,
   "id": "697a90a4",
   "metadata": {},
   "outputs": [],
   "source": []
  },
  {
   "cell_type": "code",
   "execution_count": 3,
   "id": "cecf110a",
   "metadata": {},
   "outputs": [],
   "source": [
    "#load entry pool: 20 ICDD entries\n",
    "with open('./data/icdd_entries.json') as f:\n",
    "    entries_Li_Sr_Al = json.load(f, cls=MontyDecoder)\n",
    "\n",
    "# entries = [ICDDEntry.from_icdd_json (en) for en in entries_Li_Sr_Al]"
   ]
  },
  {
   "cell_type": "code",
   "execution_count": 10,
   "id": "08f904cf",
   "metadata": {},
   "outputs": [
    {
     "name": "stdout",
     "output_type": "stream",
     "text": [
      "17 04-005-4662\n",
      "04-005-4662\n"
     ]
    }
   ],
   "source": [
    "groups_index = [[6,17]]\n",
    "for i in range(len(groups_index)):\n",
    "    for j in groups_index[i][1:]:\n",
    "        print(j,entries_Li_Sr_Al[groups_index[i][0]].entry_id)\n",
    "        entries_Li_Sr_Al[j].leader = entries_Li_Sr_Al[groups_index[i][0]].entry_id\n",
    "        print(entries_Li_Sr_Al[j].leader)\n"
   ]
  },
  {
   "cell_type": "code",
   "execution_count": null,
   "id": "9da215f5",
   "metadata": {},
   "outputs": [],
   "source": []
  },
  {
   "cell_type": "code",
   "execution_count": null,
   "id": "5a051219",
   "metadata": {},
   "outputs": [],
   "source": []
  }
 ],
 "metadata": {
  "kernelspec": {
   "display_name": "Python 3 (ipykernel)",
   "language": "python",
   "name": "python3"
  },
  "language_info": {
   "codemirror_mode": {
    "name": "ipython",
    "version": 3
   },
   "file_extension": ".py",
   "mimetype": "text/x-python",
   "name": "python",
   "nbconvert_exporter": "python",
   "pygments_lexer": "ipython3",
   "version": "3.7.13"
  }
 },
 "nbformat": 4,
 "nbformat_minor": 5
}
