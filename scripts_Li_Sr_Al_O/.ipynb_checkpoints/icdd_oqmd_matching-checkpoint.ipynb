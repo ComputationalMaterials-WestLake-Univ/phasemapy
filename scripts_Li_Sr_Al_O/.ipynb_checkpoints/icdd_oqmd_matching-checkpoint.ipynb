{
 "cells": [
  {
   "cell_type": "code",
   "execution_count": 2,
   "id": "4208bdd5",
   "metadata": {},
   "outputs": [],
   "source": [
    "import json\n",
    "import sys\n",
    "\n",
    "sys.path += ['..']\n",
    "\n",
    "import qmpy\n",
    "\n",
    "from monty.json import MontyDecoder, MontyEncoder\n",
    "import pandas as pd\n",
    "import pyautogui\n",
    "from collections import defaultdict\n",
    "from pymatgen.core import Lattice, Structure, PeriodicSite\n",
    "from pymatgen.analysis.structure_matcher import StructureMatcher\n",
    "\n",
    "with open('./data/icdd_entries.json') as f:\n",
    "    all_entries = json.load(f, cls=MontyDecoder)\n",
    "ordered_entries = [_ for _ in all_entries if _.structure.is_ordered]\n",
    "\n",
    "\n",
    "def pymatgen2oqmd_struct(s):\n",
    "    s.to('poscar', 'temp.poscar')\n",
    "    new_s = qmpy.io.poscar.read('temp.poscar')\n",
    "    new_s.make_primitive()\n",
    "    return new_s\n",
    "\n",
    "\n",
    "def oqmd2pymatgen_struct(d):\n",
    "    sites = []\n",
    "    lat = Lattice(d['unit_cell'])\n",
    "    for s in d['sites']:\n",
    "        sp, _, x, y, z = s.split()\n",
    "        x, y, z = map(float, [x, y, z])\n",
    "        site = PeriodicSite(sp, [x, y, z], lat)\n",
    "        sites.append(site)\n",
    "    struct = Structure.from_sites(sites)\n",
    "    return struct\n",
    "\n",
    "\n",
    "\n"
   ]
  },
  {
   "cell_type": "code",
   "execution_count": 32,
   "id": "7439060f",
   "metadata": {
    "scrolled": false
   },
   "outputs": [],
   "source": [
    "import qmpy_rester as qr\n",
    "## Return list of data\n",
    "oqmd_data = []\n",
    "with qr.QMPYRester() as q:\n",
    "    for i in range(len(ordered_entries)):        \n",
    "        kwargs = {\n",
    "            \"composition\": ordered_entries[i].name,                 \n",
    "            }\n",
    "        list_of_data = q.get_oqmd_phases(verbose=False,**kwargs)        \n",
    "        oqmd_data.append(list_of_data)"
   ]
  },
  {
   "cell_type": "code",
   "execution_count": 35,
   "id": "e3717530",
   "metadata": {
    "scrolled": true
   },
   "outputs": [],
   "source": [
    "sm=StructureMatcher()\n",
    "for i in range(len(ordered_entries)):    \n",
    "    s1 = ordered_entries[i].structure\n",
    "    for j in range(len(oqmd_data[i]['data'])):         \n",
    "        s2=oqmd2pymatgen_struct(oqmd_data[i]['data'][j])\n",
    "        groups = sm.group_structures([s1,s2])\n",
    "        if len(groups)==1:\n",
    "            ordered_entries[i].stability = oqmd_data[i]['data'][j]['stability']\n",
    "            break"
   ]
  },
  {
   "cell_type": "code",
   "execution_count": 36,
   "id": "36e8ca3d",
   "metadata": {},
   "outputs": [
    {
     "name": "stdout",
     "output_type": "stream",
     "text": [
      "0.0\n",
      "0.017927401875000193\n",
      "0.0009359800000001695\n",
      "0.0045623750000003405\n",
      "0.000149495000000055\n",
      "0.0\n",
      "None\n",
      "0.00332585750000014\n",
      "None\n",
      "0.13769025583332972\n",
      "0.018443785249999678\n",
      "0.0019419519135750463\n",
      "0.0009359800000001695\n",
      "0.003951603689902328\n",
      "0.0\n"
     ]
    }
   ],
   "source": [
    "for i in range(len(ordered_entries)):\n",
    "    print(ordered_entries[i].stability)"
   ]
  },
  {
   "cell_type": "code",
   "execution_count": 90,
   "id": "ddc1893e",
   "metadata": {},
   "outputs": [
    {
     "name": "stdout",
     "output_type": "stream",
     "text": [
      "0.0\n",
      "0.017927401875000193\n",
      "0.00037587500000224594\n",
      "0.0016409462500002192\n",
      "0.0015426729999998834\n",
      "0.0\n",
      "None\n",
      "0.00332585750000014\n",
      "None\n",
      "0.13769025583332972\n",
      "0.018443785249999678\n",
      "0.0019419519135750463\n",
      "0.00037587500000224594\n",
      "0.003951603689902328\n",
      "0.0\n"
     ]
    }
   ],
   "source": [
    "\n",
    "for i in range(len(ordered_entries)):\n",
    "    print(ordered_entries[i].stability)\n"
   ]
  },
  {
   "cell_type": "code",
   "execution_count": 98,
   "id": "a6524706",
   "metadata": {},
   "outputs": [],
   "source": [
    "import pyautogui\n"
   ]
  },
  {
   "cell_type": "code",
   "execution_count": 95,
   "id": "526452a4",
   "metadata": {
    "scrolled": true
   },
   "outputs": [
    {
     "data": {
      "text/plain": [
       "Structure Summary\n",
       "Lattice\n",
       "    abc : 6.307703 6.362365 4.60421\n",
       " angles : 90.0 90.0 90.0\n",
       " volume : 184.77573580497486\n",
       "      A : 6.307703 0.0 0.0\n",
       "      B : 0.0 6.362365 0.0\n",
       "      C : 0.0 0.0 4.60421\n",
       "PeriodicSite: Al (1.5769, 1.5906, 1.0406) [0.2500, 0.2500, 0.2260]\n",
       "PeriodicSite: Al (4.7308, 4.7718, 3.5637) [0.7500, 0.7500, 0.7740]\n",
       "PeriodicSite: Li (4.7308, 1.5906, 0.9531) [0.7500, 0.2500, 0.2070]\n",
       "PeriodicSite: Li (3.2232, 3.5120, 1.1695) [0.5110, 0.5520, 0.2540]\n",
       "PeriodicSite: Li (6.2383, 3.5120, 1.1695) [0.9890, 0.5520, 0.2540]\n",
       "PeriodicSite: Li (3.2232, 6.0315, 1.1695) [0.5110, 0.9480, 0.2540]\n",
       "PeriodicSite: Li (6.2383, 6.0315, 1.1695) [0.9890, 0.9480, 0.2540]\n",
       "PeriodicSite: Li (0.0688, 0.3340, 3.4347) [0.0109, 0.0525, 0.7460]\n",
       "PeriodicSite: Li (3.0845, 0.3340, 3.4347) [0.4890, 0.0525, 0.7460]\n",
       "PeriodicSite: Li (0.0688, 2.8503, 3.4347) [0.0109, 0.4480, 0.7460]\n",
       "PeriodicSite: Li (3.0845, 2.8503, 3.4347) [0.4890, 0.4480, 0.7460]\n",
       "PeriodicSite: Li (1.5769, 4.7718, 3.6511) [0.2500, 0.7500, 0.7930]\n",
       "PeriodicSite: O (1.5769, 0.0986, 0.0723) [0.2500, 0.0155, 0.0157]\n",
       "PeriodicSite: O (1.5769, 3.0794, 0.0723) [0.2500, 0.4840, 0.0157]\n",
       "PeriodicSite: O (0.0820, 1.5906, 1.9844) [0.0130, 0.2500, 0.4310]\n",
       "PeriodicSite: O (3.0719, 1.5906, 1.9844) [0.4870, 0.2500, 0.4310]\n",
       "PeriodicSite: O (3.2359, 4.7718, 2.6198) [0.5130, 0.7500, 0.5690]\n",
       "PeriodicSite: O (6.2257, 4.7718, 2.6198) [0.9870, 0.7500, 0.5690]\n",
       "PeriodicSite: O (4.7308, 3.2830, 4.5305) [0.7500, 0.5160, 0.9840]\n",
       "PeriodicSite: O (4.7308, 6.2606, 4.5305) [0.7500, 0.9840, 0.9840]"
      ]
     },
     "execution_count": 95,
     "metadata": {},
     "output_type": "execute_result"
    }
   ],
   "source": [
    "s2=oqmd2pymatgen_struct(list_of_data['data'][0])\n",
    "s2.get_primitive_structure()\n",
    "s3=oqmd2pymatgen_struct(list_of_data['data'][2])\n",
    "s3.get_primitive_structure()"
   ]
  },
  {
   "cell_type": "code",
   "execution_count": 76,
   "id": "bb4c7be0",
   "metadata": {
    "scrolled": true
   },
   "outputs": [],
   "source": [
    "s=[]\n",
    "s.append([all_entries[0].structure])\n",
    "for i in range(len(list_of_data['data'])):\n",
    "    s1=oqmd2pymatgen_struct(list_of_data['data'][i])\n",
    "    s.append([s1])"
   ]
  },
  {
   "cell_type": "code",
   "execution_count": 24,
   "id": "b4e4695a",
   "metadata": {
    "scrolled": true
   },
   "outputs": [
    {
     "data": {
      "text/plain": [
       "0.003433155624999795"
      ]
     },
     "execution_count": 24,
     "metadata": {},
     "output_type": "execute_result"
    }
   ],
   "source": [
    "list_of_data['data'][0]['stability']"
   ]
  },
  {
   "cell_type": "code",
   "execution_count": 71,
   "id": "c5b98a5e",
   "metadata": {},
   "outputs": [],
   "source": [
    "from pymatgen.analysis.structure_matcher import StructureMatcher\n",
    "sm=StructureMatcher()"
   ]
  },
  {
   "cell_type": "code",
   "execution_count": 96,
   "id": "44db8c58",
   "metadata": {
    "scrolled": true
   },
   "outputs": [],
   "source": [
    "b = sm.group_structures([s1,s2,s3,s5])"
   ]
  },
  {
   "cell_type": "code",
   "execution_count": 25,
   "id": "cbf8a630",
   "metadata": {
    "scrolled": true
   },
   "outputs": [
    {
     "ename": "NameError",
     "evalue": "name 'b' is not defined",
     "output_type": "error",
     "traceback": [
      "\u001b[1;31m---------------------------------------------------------------------------\u001b[0m",
      "\u001b[1;31mNameError\u001b[0m                                 Traceback (most recent call last)",
      "\u001b[1;32m~\\AppData\\Local\\Temp\\ipykernel_19520\\2246413324.py\u001b[0m in \u001b[0;36m<module>\u001b[1;34m\u001b[0m\n\u001b[1;32m----> 1\u001b[1;33m \u001b[0mlen\u001b[0m\u001b[1;33m(\u001b[0m\u001b[0mb\u001b[0m\u001b[1;33m)\u001b[0m\u001b[1;33m\u001b[0m\u001b[1;33m\u001b[0m\u001b[0m\n\u001b[0m",
      "\u001b[1;31mNameError\u001b[0m: name 'b' is not defined"
     ]
    }
   ],
   "source": [
    "len(b)"
   ]
  },
  {
   "cell_type": "code",
   "execution_count": null,
   "id": "bbb46d82",
   "metadata": {},
   "outputs": [],
   "source": []
  },
  {
   "cell_type": "code",
   "execution_count": null,
   "id": "65a1ed06",
   "metadata": {},
   "outputs": [],
   "source": []
  },
  {
   "cell_type": "code",
   "execution_count": null,
   "id": "3325de32",
   "metadata": {},
   "outputs": [],
   "source": []
  },
  {
   "cell_type": "code",
   "execution_count": null,
   "id": "32c5764f",
   "metadata": {},
   "outputs": [],
   "source": []
  },
  {
   "cell_type": "code",
   "execution_count": null,
   "id": "e0cbb21d",
   "metadata": {},
   "outputs": [],
   "source": []
  },
  {
   "cell_type": "code",
   "execution_count": 44,
   "id": "65c5e663",
   "metadata": {},
   "outputs": [],
   "source": [
    "import pandas as pd\n",
    "import pymysql\n"
   ]
  },
  {
   "cell_type": "code",
   "execution_count": 45,
   "id": "4787e979",
   "metadata": {},
   "outputs": [],
   "source": [
    "sql_connection = pymysql.connect(host='127.0.0.1', user='root', password='ydf109126',db='oqmd', port=3306, autocommit=False, charset='utf8mb4')\n"
   ]
  },
  {
   "cell_type": "code",
   "execution_count": 52,
   "id": "b827e951",
   "metadata": {},
   "outputs": [],
   "source": [
    "sql = \"select * from oqmd.structures\"\n"
   ]
  },
  {
   "cell_type": "code",
   "execution_count": 61,
   "id": "b8eb33b9",
   "metadata": {},
   "outputs": [],
   "source": [
    "# df_sql = pd.read_sql(sql,sql_connection)#参数：查询语句+连接配置\n"
   ]
  },
  {
   "cell_type": "code",
   "execution_count": 60,
   "id": "b9d057d9",
   "metadata": {},
   "outputs": [],
   "source": [
    "# df_sql[:100]"
   ]
  },
  {
   "cell_type": "code",
   "execution_count": 58,
   "id": "bfee9406",
   "metadata": {},
   "outputs": [],
   "source": [
    "# sql1 = \"select * from oqmd.calculations\"\n",
    "# df_sql1 = pd.read_sql(sql1,sql_connection)#参数：查询语句+连接配置\n",
    "# df_sql1[:100]"
   ]
  },
  {
   "cell_type": "code",
   "execution_count": 59,
   "id": "cd3b167e",
   "metadata": {},
   "outputs": [],
   "source": [
    "# df_sql1['id']"
   ]
  }
 ],
 "metadata": {
  "kernelspec": {
   "display_name": "Python 3 (ipykernel)",
   "language": "python",
   "name": "python3"
  },
  "language_info": {
   "codemirror_mode": {
    "name": "ipython",
    "version": 3
   },
   "file_extension": ".py",
   "mimetype": "text/x-python",
   "name": "python",
   "nbconvert_exporter": "python",
   "pygments_lexer": "ipython3",
   "version": "3.7.13"
  }
 },
 "nbformat": 4,
 "nbformat_minor": 5
}
