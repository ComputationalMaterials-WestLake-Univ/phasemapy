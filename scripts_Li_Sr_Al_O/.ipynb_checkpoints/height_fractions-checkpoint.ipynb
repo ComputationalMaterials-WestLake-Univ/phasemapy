{
 "cells": [
  {
   "cell_type": "code",
   "execution_count": 2,
   "id": "811a1058",
   "metadata": {},
   "outputs": [],
   "source": [
    "import warnings\n",
    "warnings.filterwarnings('ignore')\n",
    "import json, os\n",
    "import numpy as np\n",
    "from monty.json import MontyDecoder, MontyEncoder\n",
    "from copy import deepcopy\n",
    "from scipy.spatial import distance_matrix\n",
    "import sys\n",
    "sys.path.append('..')\n",
    "\n",
    "from phasemapy.dataio import InstanceData\n",
    "from phasemapy.parser import ICDDEntry\n",
    "from phasemapy.solver import Phase, Sample,Texture\n",
    "\n",
    "chemsys = ['Li', 'Sr', 'Al']\n",
    "oxide_system = True\n",
    "photon_e = 13e3\n",
    "max_q_shift = 0.01\n",
    "resample_density = 1000\n",
    "initial_alphagamma = 0.1\n",
    "SUM_NORM = 6000\n",
    "loss_weight = {'xrd_loss': 6.0, 'comp_loss': 2.0, 'entropy_loss': 0.01}"
   ]
  },
  {
   "cell_type": "code",
   "execution_count": 3,
   "id": "339df455",
   "metadata": {},
   "outputs": [],
   "source": [
    "# 1.Load the instance data and ICDD entries pool in Li-Sr-Al system\n",
    "\n",
    "#load instance data:50 instances\n",
    "instance_data = InstanceData.from_json('./data/Instance_data', chemsys, photon_e)\n",
    "instance_data = instance_data.resample_xrd(resample_density)\n",
    "instance_data.renormalize(norm=SUM_NORM)\n",
    "instance_data.normalize()\n"
   ]
  },
  {
   "cell_type": "code",
   "execution_count": 4,
   "id": "6f0f33f8",
   "metadata": {},
   "outputs": [],
   "source": [
    "samples = []\n",
    "for i in range(instance_data.sample_num):\n",
    "    solution_file = f'solution/samples{i}.json'\n",
    "    with open(solution_file) as f:\n",
    "        sample = json.load(f, cls=MontyDecoder)\n",
    "    if sample.sample_id !=i:\n",
    "        print (i)    \n",
    "    samples.append(sample)   "
   ]
  },
  {
   "cell_type": "code",
   "execution_count": 24,
   "id": "d52ffb2b",
   "metadata": {
    "scrolled": true
   },
   "outputs": [],
   "source": [
    "height_fractions = []\n",
    "# fraction = {}\n",
    "for i in range(instance_data.sample_num):\n",
    "    for j in range(3):\n",
    "        if samples[i].solution[j].entry.name == 'Li2O':\n",
    "            Li= max(samples[i].current_model[j])\n",
    "        elif samples[i].solution[j].entry.name == 'SrO':\n",
    "            Sr= max(samples[i].current_model[j])\n",
    "        elif samples[i].solution[j].entry.name == 'Al2O3':\n",
    "            Al= max(samples[i].current_model[j])\n",
    "#     fraction \n",
    "    height_fractions.append([Li,Sr,Al])"
   ]
  },
  {
   "cell_type": "code",
   "execution_count": 16,
   "id": "6dae9db0",
   "metadata": {},
   "outputs": [],
   "source": [
    "height_fractions = []\n",
    "fraction = {}\n",
    "height_fractions.append(fraction)"
   ]
  },
  {
   "cell_type": "code",
   "execution_count": 83,
   "id": "0af19508",
   "metadata": {
    "scrolled": true
   },
   "outputs": [
    {
     "data": {
      "text/plain": [
       "array([[0.111893, 0.64834 , 0.239767],\n",
       "       [0.348666, 0.47571 , 0.175624],\n",
       "       [0.366786, 0.566106, 0.067108],\n",
       "       [0.238336, 0.325784, 0.43588 ],\n",
       "       [0.205564, 0.360246, 0.434191],\n",
       "       [0.111893, 0.64834 , 0.239767],\n",
       "       [0.278003, 0.555484, 0.166513],\n",
       "       [0.148379, 0.46121 , 0.390412],\n",
       "       [0.139288, 0.28509 , 0.575622],\n",
       "       [0.187484, 0.303246, 0.50927 ],\n",
       "       [0.427206, 0.161564, 0.41123 ],\n",
       "       [0.148477, 0.271978, 0.579545],\n",
       "       [0.174445, 0.468072, 0.357483],\n",
       "       [0.12314 , 0.540639, 0.336221],\n",
       "       [0.197069, 0.564233, 0.238698],\n",
       "       [0.162814, 0.578621, 0.258565],\n",
       "       [0.096026, 0.600233, 0.30374 ],\n",
       "       [0.102449, 0.587486, 0.310065],\n",
       "       [0.208144, 0.316427, 0.475429],\n",
       "       [0.267144, 0.463357, 0.269499],\n",
       "       [0.195147, 0.469162, 0.335691],\n",
       "       [0.218767, 0.258162, 0.523072],\n",
       "       [0.058123, 0.380588, 0.561289],\n",
       "       [0.244207, 0.618022, 0.137771],\n",
       "       [0.101833, 0.435179, 0.462987],\n",
       "       [0.296279, 0.48699 , 0.216731],\n",
       "       [0.351654, 0.23689 , 0.411455],\n",
       "       [0.29492 , 0.42175 , 0.28333 ],\n",
       "       [0.254548, 0.135794, 0.609659],\n",
       "       [0.21262 , 0.174379, 0.613   ],\n",
       "       [0.259454, 0.098931, 0.641614],\n",
       "       [0.081644, 0.486028, 0.432328],\n",
       "       [0.245171, 0.119772, 0.635057],\n",
       "       [0.342321, 0.432708, 0.224971],\n",
       "       [0.275965, 0.136703, 0.587332],\n",
       "       [0.177246, 0.399538, 0.423216],\n",
       "       [0.313966, 0.136365, 0.549669],\n",
       "       [0.271228, 0.624672, 0.1041  ],\n",
       "       [0.211443, 0.629126, 0.159431],\n",
       "       [0.354994, 0.420124, 0.224883],\n",
       "       [0.126395, 0.437719, 0.435886],\n",
       "       [0.462607, 0.192442, 0.344952],\n",
       "       [0.108482, 0.285748, 0.605769],\n",
       "       [0.090138, 0.620738, 0.289124],\n",
       "       [0.146848, 0.244512, 0.608639],\n",
       "       [0.33879 , 0.21676 , 0.44445 ],\n",
       "       [0.064057, 0.627407, 0.308536],\n",
       "       [0.161088, 0.533214, 0.305698],\n",
       "       [0.256609, 0.52519 , 0.218201],\n",
       "       [0.046342, 0.460752, 0.492906]])"
      ]
     },
     "execution_count": 83,
     "metadata": {},
     "output_type": "execute_result"
    }
   ],
   "source": [
    "height_fractions"
   ]
  },
  {
   "cell_type": "code",
   "execution_count": 165,
   "id": "829a104d",
   "metadata": {
    "scrolled": true
   },
   "outputs": [
    {
     "data": {
      "text/plain": [
       "array([[0.105643, 0.640795, 0.253562],\n",
       "       [0.37191 , 0.451791, 0.176299],\n",
       "       [0.298022, 0.600327, 0.101651],\n",
       "       [0.242582, 0.30677 , 0.450648],\n",
       "       [0.165836, 0.421637, 0.412526],\n",
       "       [0.105643, 0.640795, 0.253562],\n",
       "       [0.248872, 0.57612 , 0.175008],\n",
       "       [0.141891, 0.469663, 0.388447],\n",
       "       [0.169027, 0.304878, 0.526094],\n",
       "       [0.181277, 0.320942, 0.497781],\n",
       "       [0.467314, 0.172518, 0.360168],\n",
       "       [0.123918, 0.295427, 0.580655],\n",
       "       [0.16698 , 0.488324, 0.344696],\n",
       "       [0.141282, 0.551386, 0.307331],\n",
       "       [0.191931, 0.572263, 0.235806],\n",
       "       [0.219022, 0.55638 , 0.224598],\n",
       "       [0.12457 , 0.597766, 0.277663],\n",
       "       [0.095211, 0.592437, 0.312351],\n",
       "       [0.194556, 0.333149, 0.472295],\n",
       "       [0.175261, 0.484078, 0.340661],\n",
       "       [0.162603, 0.497299, 0.340098],\n",
       "       [0.234176, 0.318265, 0.447559],\n",
       "       [0.060449, 0.434217, 0.505335],\n",
       "       [0.144819, 0.487276, 0.367906],\n",
       "       [0.133455, 0.45362 , 0.412925],\n",
       "       [0.190239, 0.448246, 0.361516],\n",
       "       [0.285939, 0.287189, 0.426872],\n",
       "       [0.301118, 0.448974, 0.249908],\n",
       "       [0.262683, 0.199909, 0.537408],\n",
       "       [0.188516, 0.187908, 0.623576],\n",
       "       [0.237938, 0.170975, 0.591087],\n",
       "       [0.105057, 0.495886, 0.399057],\n",
       "       [0.206601, 0.163091, 0.630308],\n",
       "       [0.327497, 0.45455 , 0.217954],\n",
       "       [0.275275, 0.163204, 0.561521],\n",
       "       [0.150595, 0.417706, 0.431699],\n",
       "       [0.277067, 0.163355, 0.559578],\n",
       "       [0.230942, 0.625341, 0.143717],\n",
       "       [0.118859, 0.518414, 0.362728],\n",
       "       [0.296882, 0.468954, 0.234164],\n",
       "       [0.108152, 0.434944, 0.456904],\n",
       "       [0.408791, 0.215914, 0.375295],\n",
       "       [0.17807 , 0.310514, 0.511416],\n",
       "       [0.081416, 0.656083, 0.262501],\n",
       "       [0.186533, 0.284013, 0.529454],\n",
       "       [0.303667, 0.269862, 0.426471],\n",
       "       [0.072135, 0.588779, 0.339086],\n",
       "       [0.170387, 0.44128 , 0.388333],\n",
       "       [0.238282, 0.406989, 0.35473 ],\n",
       "       [0.081151, 0.452713, 0.466136]])"
      ]
     },
     "execution_count": 165,
     "metadata": {},
     "output_type": "execute_result"
    }
   ],
   "source": [
    "ground_truth_real"
   ]
  },
  {
   "cell_type": "code",
   "execution_count": 66,
   "id": "2db043f9",
   "metadata": {},
   "outputs": [],
   "source": [
    "import numpy as np\n",
    "height_fractions = np.array(height_fractions)\n",
    "row_sums = np.sum(height_fractions, axis=1)\n",
    "row_sums = [[e] for e in row_sums]"
   ]
  },
  {
   "cell_type": "code",
   "execution_count": 74,
   "id": "9b87ebb6",
   "metadata": {},
   "outputs": [],
   "source": [
    "height_fractions = height_fractions/row_sums"
   ]
  },
  {
   "cell_type": "code",
   "execution_count": 160,
   "id": "bcbbc667",
   "metadata": {},
   "outputs": [],
   "source": [
    "ground_truth_real = []\n",
    "for i in range(len(samples)):\n",
    "    ground_truth_real.append([max(samples[i].exp_xrd[550:556]),max(samples[i].exp_xrd[558:570]),max(samples[i].exp_xrd[570:580])])"
   ]
  },
  {
   "cell_type": "code",
   "execution_count": 222,
   "id": "4c2b33bc",
   "metadata": {},
   "outputs": [],
   "source": [
    "ground_truth_real = np.array(ground_truth_real)\n",
    "r_sums = np.sum(ground_truth_real, axis=1)\n",
    "r_sums = [[e] for e in r_sums]\n",
    "ground_truth_real = ground_truth_real/r_sums"
   ]
  },
  {
   "cell_type": "code",
   "execution_count": 223,
   "id": "812d3f65",
   "metadata": {},
   "outputs": [],
   "source": [
    "Li_gt_real = [row[0] for row in ground_truth_real]\n",
    "Sr_gt_real = [row[1] for row in ground_truth_real]\n",
    "Al_gt_real = [row[2] for row in ground_truth_real]"
   ]
  },
  {
   "cell_type": "code",
   "execution_count": null,
   "id": "d51b47fa",
   "metadata": {},
   "outputs": [],
   "source": []
  },
  {
   "cell_type": "code",
   "execution_count": 30,
   "id": "ecdc0aa3",
   "metadata": {},
   "outputs": [],
   "source": [
    "import pandas as pd\n",
    "import numpy as np\n",
    "ground_truth = pd.read_excel('./data/ground truth.xlsx')\n",
    "ground_truth = np.array(ground_truth)\n",
    "\n",
    "ground_truth_height = [ground_truth[i][6:] for i in range(len(ground_truth))]"
   ]
  },
  {
   "cell_type": "code",
   "execution_count": 327,
   "id": "e6f54f6b",
   "metadata": {},
   "outputs": [],
   "source": [
    "import csv\n",
    "\n",
    "with open(\"ground truth_evaluated_again.csv\", mode='w', newline='') as file:\n",
    "    writer = csv.writer(file)\n",
    "    writer.writerows(ground_truth_real)\n",
    "\n",
    "\n"
   ]
  },
  {
   "cell_type": "code",
   "execution_count": null,
   "id": "ddb7b1c3",
   "metadata": {},
   "outputs": [],
   "source": []
  },
  {
   "cell_type": "code",
   "execution_count": 326,
   "id": "6756f796",
   "metadata": {},
   "outputs": [
    {
     "data": {
      "image/png": "[encoded data removed]",
      "text/plain": [
       "<Figure size 425.197x425.197 with 6 Axes>"
      ]
     },
     "metadata": {
      "needs_background": "light"
     },
     "output_type": "display_data"
    }
   ],
   "source": [
    "cm=1/2.54\n",
    "fig, axes = plt.subplots(3, 2, figsize=(5*3*cm,15*cm), gridspec_kw=dict(hspace=0.0, wspace=0.3))\n",
    "# fig.delaxes(axes[4][2])\n",
    "if 6>1:\n",
    "    axes = axes.flatten()\n",
    "else:\n",
    "    axes = [axes]\n",
    "for ax in axes[:4]:\n",
    "    ax.set_xticks([])\n",
    "axes[0].scatter(x=Li20_column_gt, y=Li20_column,s=15, label='Li20 by us', color='#75bbfd', marker='o',alpha=0.8, )\n",
    "\n",
    "axes[2].scatter(x=Sr0_column_gt, y=Sr0_column, s=15,label='Li20 by us', color='#ffb07c', marker='o',alpha=0.8,)\n",
    "axes[4].scatter(x=Al0_column_gt, y=Al0_column, s=15,label='Li20 by us', color='#ffbacd', marker='o',alpha=0.8,)\n",
    "axes[1].scatter(x=Li_gt_real, y=Li20_column, s=15,label='Li20 by us', color='#75bbfd', marker='o')\n",
    "axes[3].scatter(x=Sr_gt_real, y=Sr0_column, s=15,label='Li20 by us', color='#ffb07c', marker='o')\n",
    "axes[5].scatter(x=Al_gt_real, y=Al0_column, s=15,label='Li20 by us', color='#ffbacd', marker='o')\n",
    "\n",
    "\n",
    "\n",
    "\n",
    "x = [0, 0.75]\n",
    "y = [0, 0.75]\n",
    "for ax in axes:\n",
    "    ax.plot(x, y,  color='k',alpha=0.2)\n",
    "\n",
    "for ax in axes:\n",
    "    ax.set_ylim(ymin = 0, ymax = 0.75)\n",
    "    ax.set_xlim(xmin = 0, xmax = 0.75)\n",
    "    \n",
    "axes[4].set_xlabel('Ground truth by Lee et al.')\n",
    "axes[5].set_xlabel('Ground truth by real data')\n",
    "axes[2].set_ylabel('height fraction of this work')\n",
    "\n",
    "fig.text(x=0.15,y=0.85,s='Li₂O',  )\n",
    "fig.text(x=0.15,y=0.6,s='SrO', )\n",
    "fig.text(x=0.15,y=0.35,s='Al₂O₃',  )\n",
    "fig.text(x=0.59,y=0.85,s='Li₂O',  )\n",
    "fig.text(x=0.59,y=0.6,s='SrO', )\n",
    "fig.text(x=0.59,y=0.35,s='Al₂O₃',  )\n",
    "\n",
    "fig.text(x=0.23,y=0.56,s='#0',  )\n",
    "fig.text(x=0.37,y=0.17,s='#0',  )\n",
    "fig.text(x=0.18,y=0.24,s='#4',  )\n",
    "\n",
    "fig.text(x=0.37,y=0.25,s='R=0.88',  )\n",
    "fig.text(x=0.37,y=0.45,s='R=0.91',  )\n",
    "fig.text(x=0.37,y=0.7,s='R=0.89',  )\n",
    "fig.text(x=0.8,y=0.25,s='R=0.98',  )\n",
    "fig.text(x=0.8,y=0.45,s='R=0.98',  )\n",
    "fig.text(x=0.8,y=0.7,s='R=0.93',  )\n",
    "\n",
    "axes[2].scatter(x=Sr0_column_gt[0], y=Sr0_column[0], s=15, color='k', marker='x',)\n",
    "axes[4].scatter(x=Al0_column_gt[0], y=Al0_column[0], s=15, color='k', marker='x',)\n",
    "# axes[2].scatter(x=Sr0_column_gt[4], y=Sr0_column[4], s=40, color='#ffb07c', marker='*',)\n",
    "axes[4].scatter(x=Al0_column_gt[4], y=Al0_column[4], s=15, color='k', marker='x',)\n",
    "\n",
    "plt.savefig('fig_S5.pdf',format='pdf',bbox_inches='tight',transparent=True)\n",
    "plt.savefig('fig_S5.svg',format='svg',bbox_inches='tight',transparent=True)"
   ]
  },
  {
   "cell_type": "code",
   "execution_count": 308,
   "id": "fbff8bd6",
   "metadata": {},
   "outputs": [],
   "source": [
    "import numpy as np\n",
    "\n",
    "def R_Person (x,y):\n",
    "    correlation_matrix = np.corrcoef(x, y)\n",
    "    correlation_coefficient = correlation_matrix[0, 1]\n",
    "    print(correlation_coefficient)\n",
    "    \n",
    "    return correlation_coefficient\n",
    "\n",
    "\n"
   ]
  },
  {
   "cell_type": "code",
   "execution_count": 309,
   "id": "e0cc91f5",
   "metadata": {},
   "outputs": [
    {
     "name": "stdout",
     "output_type": "stream",
     "text": [
      "0.9328734662736526\n"
     ]
    },
    {
     "data": {
      "text/plain": [
       "0.9328734662736526"
      ]
     },
     "execution_count": 309,
     "metadata": {},
     "output_type": "execute_result"
    }
   ],
   "source": [
    "R_Person(x=Li_gt_real, y=Li20_column)"
   ]
  },
  {
   "cell_type": "code",
   "execution_count": 310,
   "id": "31b65b77",
   "metadata": {},
   "outputs": [
    {
     "name": "stdout",
     "output_type": "stream",
     "text": [
      "0.98244188299738\n"
     ]
    },
    {
     "data": {
      "text/plain": [
       "0.98244188299738"
      ]
     },
     "execution_count": 310,
     "metadata": {},
     "output_type": "execute_result"
    }
   ],
   "source": [
    "R_Person(x=Sr_gt_real, y=Sr0_column)"
   ]
  },
  {
   "cell_type": "code",
   "execution_count": 311,
   "id": "a2d3d7f9",
   "metadata": {},
   "outputs": [
    {
     "name": "stdout",
     "output_type": "stream",
     "text": [
      "0.9750232146065307\n"
     ]
    },
    {
     "data": {
      "text/plain": [
       "0.9750232146065307"
      ]
     },
     "execution_count": 311,
     "metadata": {},
     "output_type": "execute_result"
    }
   ],
   "source": [
    "R_Person(x=Al_gt_real, y=Al0_column)"
   ]
  },
  {
   "cell_type": "code",
   "execution_count": 312,
   "id": "4aea420d",
   "metadata": {},
   "outputs": [
    {
     "name": "stdout",
     "output_type": "stream",
     "text": [
      "0.8851446844569867\n"
     ]
    },
    {
     "data": {
      "text/plain": [
       "0.8851446844569867"
      ]
     },
     "execution_count": 312,
     "metadata": {},
     "output_type": "execute_result"
    }
   ],
   "source": [
    "R_Person(x=Li20_column_gt, y=Li20_column)"
   ]
  },
  {
   "cell_type": "code",
   "execution_count": 313,
   "id": "481ac5af",
   "metadata": {},
   "outputs": [
    {
     "name": "stdout",
     "output_type": "stream",
     "text": [
      "0.9092551585142824\n"
     ]
    },
    {
     "data": {
      "text/plain": [
       "0.9092551585142824"
      ]
     },
     "execution_count": 313,
     "metadata": {},
     "output_type": "execute_result"
    }
   ],
   "source": [
    "R_Person(x=Sr0_column_gt, y=Sr0_column)"
   ]
  },
  {
   "cell_type": "code",
   "execution_count": 314,
   "id": "ff910570",
   "metadata": {},
   "outputs": [
    {
     "name": "stdout",
     "output_type": "stream",
     "text": [
      "0.8813439368198721\n"
     ]
    },
    {
     "data": {
      "text/plain": [
       "0.8813439368198721"
      ]
     },
     "execution_count": 314,
     "metadata": {},
     "output_type": "execute_result"
    }
   ],
   "source": [
    "R_Person(x=Al0_column_gt, y=Al0_column)"
   ]
  },
  {
   "cell_type": "code",
   "execution_count": null,
   "id": "c19c573a",
   "metadata": {},
   "outputs": [],
   "source": []
  },
  {
   "cell_type": "code",
   "execution_count": null,
   "id": "1c227e5a",
   "metadata": {},
   "outputs": [],
   "source": []
  },
  {
   "cell_type": "code",
   "execution_count": 82,
   "id": "44ccec05",
   "metadata": {
    "scrolled": true
   },
   "outputs": [
    {
     "data": {
      "image/png": "[encoded data removed]",
      "text/plain": [
       "<Figure size 432x288 with 1 Axes>"
      ]
     },
     "metadata": {
      "needs_background": "light"
     },
     "output_type": "display_data"
    }
   ],
   "source": [
    "Li20_column = [row[0] for row in height_fractions]\n",
    "plt.scatter(x=range(50), y=Li20_column, label='Li20 by us', color='blue', marker='o')\n",
    "Li20_column_gt = [row[0] for row in ground_truth_height]\n",
    "plt.scatter(x=range(50), y=Li20_column_gt, label='Li20 by Lee', color='r', marker='*')\n",
    "plt.ylabel('Height fraction')\n",
    "plt.legend()\n",
    "plt.show()"
   ]
  },
  {
   "cell_type": "code",
   "execution_count": 81,
   "id": "8c1abbca",
   "metadata": {},
   "outputs": [
    {
     "data": {
      "image/png": "[encoded data removed]",
      "text/plain": [
       "<Figure size 432x288 with 1 Axes>"
      ]
     },
     "metadata": {
      "needs_background": "light"
     },
     "output_type": "display_data"
    }
   ],
   "source": [
    "Sr0_column = [row[1] for row in height_fractions]\n",
    "plt.scatter(x=range(50), y=Sr0_column, label='Sr0 by us', color='blue', marker='o')\n",
    "Sr0_column_gt = [row[1] for row in ground_truth_height]\n",
    "plt.scatter(x=range(50), y=Sr0_column_gt, label='Sr0 by Lee', color='r', marker='*')\n",
    "plt.ylabel('Height fraction')\n",
    "plt.legend()\n",
    "plt.show()"
   ]
  },
  {
   "cell_type": "code",
   "execution_count": 80,
   "id": "10cfd51f",
   "metadata": {
    "scrolled": true
   },
   "outputs": [
    {
     "data": {
      "image/png": "[encoded data removed]",
      "text/plain": [
       "<Figure size 432x288 with 1 Axes>"
      ]
     },
     "metadata": {
      "needs_background": "light"
     },
     "output_type": "display_data"
    }
   ],
   "source": [
    "Al0_column = [row[2] for row in height_fractions]\n",
    "plt.scatter(x=range(50), y=Al0_column, label='Al203 by us', color='blue', marker='o')\n",
    "Al0_column_gt = [row[2] for row in ground_truth_height]\n",
    "plt.scatter(x=range(50), y=Al0_column_gt, label='Al203 by Lee', color='r', marker='*')\n",
    "plt.ylabel('Height fraction')\n",
    "plt.legend()\n",
    "plt.show()"
   ]
  },
  {
   "cell_type": "code",
   "execution_count": 154,
   "id": "49bb26a0",
   "metadata": {},
   "outputs": [],
   "source": [
    "ground_truth_real = []\n",
    "for i in range(len(samples)):\n",
    "    ground_truth_real.append([max(samples[i].exp_xrd[550:558]),max(samples[i].exp_xrd[558:571]),max(samples[i].exp_xrd[571:580])])"
   ]
  },
  {
   "cell_type": "code",
   "execution_count": 208,
   "id": "f7a1c1a3",
   "metadata": {},
   "outputs": [
    {
     "data": {
      "text/plain": [
       "[<matplotlib.lines.Line2D at 0x189b29a83c8>]"
      ]
     },
     "execution_count": 208,
     "metadata": {},
     "output_type": "execute_result"
    },
    {
     "data": {
      "image/png": "[encoded data removed]",
      "text/plain": [
       "<Figure size 432x288 with 1 Axes>"
      ]
     },
     "metadata": {
      "needs_background": "light"
     },
     "output_type": "display_data"
    }
   ],
   "source": [
    "plt.plot(samples[32].q[551:580], samples[32].exp_xrd[551:580])"
   ]
  },
  {
   "cell_type": "code",
   "execution_count": 209,
   "id": "a482ab3d",
   "metadata": {},
   "outputs": [
    {
     "data": {
      "text/plain": [
       "[<matplotlib.lines.Line2D at 0x189b2a243c8>]"
      ]
     },
     "execution_count": 209,
     "metadata": {},
     "output_type": "execute_result"
    },
    {
     "data": {
      "image/png": "[encoded data removed]",
      "text/plain": [
       "<Figure size 432x288 with 1 Axes>"
      ]
     },
     "metadata": {
      "needs_background": "light"
     },
     "output_type": "display_data"
    }
   ],
   "source": [
    "plt.plot(samples[31].q[551:580], samples[31].exp_xrd[551:580])"
   ]
  },
  {
   "cell_type": "code",
   "execution_count": 206,
   "id": "2a15c3e3",
   "metadata": {},
   "outputs": [
    {
     "data": {
      "text/plain": [
       "array([ 4, 23], dtype=int64)"
      ]
     },
     "execution_count": 206,
     "metadata": {},
     "output_type": "execute_result"
    }
   ],
   "source": [
    "peaks, _ = find_peaks(samples[32].exp_xrd[550:580],height=0.0)\n",
    "peaks"
   ]
  },
  {
   "cell_type": "code",
   "execution_count": 218,
   "id": "3e72faf0",
   "metadata": {},
   "outputs": [
    {
     "data": {
      "text/plain": [
       "[<matplotlib.lines.Line2D at 0x189b0c54288>]"
      ]
     },
     "execution_count": 218,
     "metadata": {},
     "output_type": "execute_result"
    },
    {
     "data": {
      "image/png": "[encoded data removed]",
      "text/plain": [
       "<Figure size 432x288 with 1 Axes>"
      ]
     },
     "metadata": {
      "needs_background": "light"
     },
     "output_type": "display_data"
    }
   ],
   "source": [
    "plt.plot(samples[32].q[570:580], samples[32].exp_xrd[570:580])"
   ]
  },
  {
   "cell_type": "code",
   "execution_count": 219,
   "id": "a6c12fd5",
   "metadata": {},
   "outputs": [
    {
     "data": {
      "text/plain": [
       "0.9183410156826194"
      ]
     },
     "execution_count": 219,
     "metadata": {},
     "output_type": "execute_result"
    }
   ],
   "source": [
    "max(samples[32].exp_xrd[570:580])"
   ]
  },
  {
   "cell_type": "code",
   "execution_count": 220,
   "id": "38726cd1",
   "metadata": {
    "scrolled": true
   },
   "outputs": [
    {
     "name": "stdout",
     "output_type": "stream",
     "text": [
      "3\n",
      "3\n",
      "3\n",
      "3\n",
      "3\n",
      "3\n",
      "3\n",
      "3\n",
      "3\n",
      "3\n",
      "3\n",
      "3\n",
      "3\n",
      "4\n",
      "[ 3 17 22]\n",
      "13\n",
      "3\n",
      "3\n",
      "3\n",
      "3\n",
      "3\n",
      "3\n",
      "3\n",
      "3\n",
      "3\n",
      "3\n",
      "3\n",
      "4\n",
      "[ 5 19 24]\n",
      "25\n",
      "3\n",
      "3\n",
      "3\n",
      "3\n",
      "3\n",
      "3\n",
      "2\n",
      "3\n",
      "3\n",
      "3\n",
      "3\n",
      "3\n",
      "3\n",
      "3\n",
      "3\n",
      "3\n",
      "4\n",
      "[ 6 19 25]\n",
      "42\n",
      "3\n",
      "3\n",
      "3\n",
      "3\n",
      "4\n",
      "[ 4 18 24]\n",
      "47\n",
      "3\n",
      "3\n"
     ]
    }
   ],
   "source": [
    "ground_truth_real = []\n",
    "for i in range(len(samples)):\n",
    "    peaks, _ = find_peaks(samples[i].exp_xrd[550:580],height=0.05)\n",
    "    print(len(peaks))\n",
    "    if len(peaks)==2 and i ==32:\n",
    "        ground_truth_real.append([0.207,0.159,0.634])\n",
    "        continue\n",
    "    if len(peaks)>3:\n",
    "        peaks = peaks[1:]\n",
    "        print(peaks)\n",
    "        print(i)\n",
    "    ground_truth_real.append([samples[i].exp_xrd[550:580][peaks[0]],samples[i].exp_xrd[550:580][peaks[1]],samples[i].exp_xrd[550:580][peaks[2]]])\n",
    "\n",
    "    "
   ]
  },
  {
   "cell_type": "code",
   "execution_count": 221,
   "id": "82f91eab",
   "metadata": {
    "scrolled": true
   },
   "outputs": [
    {
     "data": {
      "text/plain": [
       "[[0.16486295557577008, 1.0, 0.3956995584731453],\n",
       " [0.8231913965868037, 1.0, 0.39022250049200896],\n",
       " [0.49643229288493346, 1.0, 0.16932657673943585],\n",
       " [0.5382956488430894, 0.6807309045503258, 1.0],\n",
       " [0.3878088795575952, 0.9860019805478808, 0.9646960854305636],\n",
       " [0.16486295557577008, 1.0, 0.3956995584731453],\n",
       " [0.4319796500518204, 1.0, 0.3020457704508745],\n",
       " [0.3021120259475198, 1.0, 0.8270758944459652],\n",
       " [0.2792699049146329, 0.50372603764639, 0.869223458796332],\n",
       " [0.3383429342405847, 0.5990175991208534, 0.9290773403451034],\n",
       " [1.0, 0.36916821425917307, 0.7707184153160581],\n",
       " [0.2043251170635885, 0.48711972492377875, 0.9574226398425303],\n",
       " [0.3419449489154548, 1.0, 0.7058739990246365],\n",
       " [0.25623053035485, 1.0, 0.5573794510347517],\n",
       " [0.33538867224822977, 1.0, 0.4088037373933806],\n",
       " [0.3936561566621616, 1.0, 0.403676582805907],\n",
       " [0.20839325144666232, 1.0, 0.46450121105994213],\n",
       " [0.1607114573992682, 1.0, 0.5272309070882122],\n",
       " [0.38386392043922474, 0.6573114373639534, 0.9318503325247033],\n",
       " [0.36205228271213463, 1.0, 0.4123902864498724],\n",
       " [0.3269723478894838, 1.0, 0.6838895834842363],\n",
       " [0.4613276649141821, 0.6269844924506415, 0.8816948954825333],\n",
       " [0.1872928928008457, 0.9038136625586548, 0.9300645162360126],\n",
       " [0.2972008874206115, 1.0, 0.1882121242101403],\n",
       " [0.28134866913322204, 0.9563180613093248, 0.8705243895562178],\n",
       " [0.42440705702453674, 1.0, 0.27824643178554964],\n",
       " [0.6361908093736502, 0.638971043314173, 0.9497543994212303],\n",
       " [0.6706808367793238, 1.0, 0.5566208868198352],\n",
       " [0.4512782315908687, 0.2346331406396657, 0.9232432322430262],\n",
       " [0.3023151229091774, 0.301339019454715, 1.0],\n",
       " [0.40254251592577944, 0.20831804118212882, 1.0],\n",
       " [0.21185789225255736, 1.0, 0.804735948276337],\n",
       " [0.207, 0.159, 0.634],\n",
       " [0.7204863734622431, 1.0, 0.47949366450307074],\n",
       " [0.4902313215720207, 0.2906473849066778, 1.0],\n",
       " [0.3143690768475526, 0.8719650580222482, 0.901177222469839],\n",
       " [0.43426583280319697, 0.2560373389054131, 0.8770640315041578],\n",
       " [0.36930637702275576, 1.0, 0.16263966298568905],\n",
       " [0.22927369798461225, 1.0, 0.2748593554911762],\n",
       " [0.6330726731597467, 1.0, 0.49933168473890244],\n",
       " [0.23670558216842624, 0.9519360859448984, 1.0],\n",
       " [1.0, 0.5281754085722139, 0.9180605597576036],\n",
       " [0.38228946876998066, 0.5435850017863075, 0.8952847739672967],\n",
       " [0.12409402764137337, 1.0, 0.4001039737107669],\n",
       " [0.30500070836428367, 0.46439144340919114, 0.8657134173800869],\n",
       " [0.674292983473406, 0.5992301779958519, 0.9469814533979759],\n",
       " [0.12251691757429133, 1.0, 0.4937898557342643],\n",
       " [0.38612040253841406, 1.0, 0.8800163484915561],\n",
       " [0.5854756295759844, 1.0, 0.2827411188659545],\n",
       " [0.15050157281230991, 0.8395970726404155, 0.8644921259199209]]"
      ]
     },
     "execution_count": 221,
     "metadata": {},
     "output_type": "execute_result"
    }
   ],
   "source": [
    "ground_truth_real"
   ]
  },
  {
   "cell_type": "code",
   "execution_count": null,
   "id": "674ddc84",
   "metadata": {},
   "outputs": [],
   "source": [
    "\n"
   ]
  }
 ],
 "metadata": {
  "kernelspec": {
   "display_name": "Python 3 (ipykernel)",
   "language": "python",
   "name": "python3"
  },
  "language_info": {
   "codemirror_mode": {
    "name": "ipython",
    "version": 3
   },
   "file_extension": ".py",
   "mimetype": "text/x-python",
   "name": "python",
   "nbconvert_exporter": "python",
   "pygments_lexer": "ipython3",
   "version": "3.7.13"
  }
 },
 "nbformat": 4,
 "nbformat_minor": 5
}
