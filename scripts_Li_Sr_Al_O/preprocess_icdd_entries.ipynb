{
 "cells": [
  {
   "cell_type": "code",
   "execution_count": 2,
   "id": "6eed3ed4",
   "metadata": {},
   "outputs": [],
   "source": [
    "import numpy as np\n",
    "import matplotlib.pyplot as plt\n",
    "import sys\n",
    "sys.path.append('..')\n",
    "import os\n",
    "from copy import deepcopy\n",
    "from scipy.constants import h, c, e\n",
    "from monty.json import MontyDecoder, MontyEncoder\n",
    "import json\n",
    "import pandas as pd\n",
    "\n",
    "from phasemapy.parser import ICDDEntry, ICDDEntryPreprocessor\n",
    "from phasemapy.solver import Phase, Sample\n",
    "from pymatgen.core import Element\n",
    "\n",
    "chemsys = ['Li', 'Sr', 'Al']\n",
    "oxide_system = True"
   ]
  },
  {
   "cell_type": "code",
   "execution_count": 32,
   "id": "8288dfc1",
   "metadata": {},
   "outputs": [],
   "source": [
    "def get_dataframe(icdd_entries, keys):\n",
    "    data = {}\n",
    "    for key in keys:\n",
    "        data[key] = [e.as_dict()[key] for e in icdd_entries]\n",
    "    df = pd.DataFrame(data)\n",
    "    return df\n",
    "\n",
    "def plot_merge_xrd(entries_sum,entries_index):\n",
    "    from scipy.ndimage import gaussian_filter1d\n",
    "    def smooth_hist(q, amp, bins):\n",
    "        hist, bin_edges = np.histogram(q, bins=bins, weights=amp)\n",
    "        smoothed = gaussian_filter1d(hist, 4)\n",
    "        return smoothed\n",
    "    bins = np.linspace(min([_.data['xrd'][0][0] for _ in entries_sum]) - 0.01,\n",
    "                           max([_.data['xrd'][0][-1] for _ in entries_sum]) + 0.01, 1000)\n",
    "    smooth_xrd_data = []\n",
    "    for i in entries_index:        \n",
    "        q, amp = entries_sum[i].data['xrd'][0],entries_sum[i].data['xrd'][1]\n",
    "        smooth_xrds_i = smooth_hist(q, amp, bins)\n",
    "        smooth_xrds_i = smooth_xrds_i / np.max(smooth_xrds_i) * 100\n",
    "        smooth_xrd_data.append(smooth_xrds_i)    \n",
    "    \n",
    "    for j in range(len(smooth_xrd_data)):\n",
    "        plt.plot(bins[0:-1],smooth_xrd_data[j],label = f\"{entries_index[j]}+{entries_sum[entries_index[j]].name}+{entries_sum[entries_index[j]].entry_id}\")\n",
    "        plt.legend()\n",
    "\n",
    "        "
   ]
  },
  {
   "cell_type": "code",
   "execution_count": 34,
   "id": "91442acf",
   "metadata": {},
   "outputs": [],
   "source": [
    "#load entry pool: 100 ICDD entries\n",
    "with open('./data/ICDD_entries_raw.json') as f:\n",
    "    entries_Li_Sr_Al = json.load(f, cls=MontyDecoder)\n",
    "\n",
    "entries = [ICDDEntry.from_icdd_json (en) for en in entries_Li_Sr_Al]"
   ]
  },
  {
   "cell_type": "code",
   "execution_count": null,
   "id": "7306b910",
   "metadata": {
    "pycharm": {
     "name": "#%%\n"
    }
   },
   "outputs": [],
   "source": [
    "precess = ICDDEntryPreprocessor(deepcopy(entries), chemsys, oxide_system)\n",
    "groups = precess.merge_by_xrd(bin_number=1000, gaussian_filter=4, R_cutoff=0.15)"
   ]
  },
  {
   "cell_type": "code",
   "execution_count": null,
   "id": "8b2d56ac",
   "metadata": {
    "pycharm": {
     "name": "#%%\n"
    }
   },
   "outputs": [],
   "source": [
    "df = get_dataframe([_ for _ in precess.entries ],\n",
    "                       ['entry_id', 'name', 'leader'])\n",
    "# print(df)\n",
    "df.to_excel(\"./data/output_candidate_pool.xlsx\")\n",
    "\n",
    "with open('./data/icdd_entries.json', 'w') as f:\n",
    "    json.dump(precess.entries, f, cls=MontyEncoder)"
   ]
  },
  {
   "cell_type": "code",
   "execution_count": null,
   "id": "c1d63df1",
   "metadata": {
    "pycharm": {
     "name": "#%%\n"
    }
   },
   "outputs": [],
   "source": [
    "plot_merge_xrd(entries, groups[0])"
   ]
  },
  {
   "cell_type": "code",
   "execution_count": null,
   "id": "c1fc0493",
   "metadata": {
    "pycharm": {
     "name": "#%%\n"
    }
   },
   "outputs": [],
   "source": [
    "plot_merge_xrd(entries, groups[1])"
   ]
  },
  {
   "cell_type": "code",
   "execution_count": 4,
   "id": "b71b66c2",
   "metadata": {},
   "outputs": [],
   "source": [
    "from glob import glob\n",
    "from pymatgen.io.cif import CifParser\n",
    "from pymatgen.analysis.diffraction.xrd import XRDCalculator\n",
    "pdfs = glob('../ICSD/Li_Sr_Al_O/*.cif')\n",
    "icsd_entries = [ICDDEntry.from_icsd_cif(pdf) for pdf in pdfs]"
   ]
  },
  {
   "cell_type": "code",
   "execution_count": 7,
   "id": "a5c8c778",
   "metadata": {},
   "outputs": [],
   "source": [
    "def check_oxi(comp,chemsys):    \n",
    "    c1 = comp[Element(chemsys[0])] * np.min(Element(chemsys[0]).common_oxidation_states)\\\n",
    "        + comp[Element(chemsys[1])] * np.min(Element(chemsys[1]).common_oxidation_states)\\\n",
    "        + comp[Element(chemsys[2])] * np.min(Element(chemsys[2]).common_oxidation_states)\\\n",
    "        - comp[Element('O')] * 2\n",
    "    c2 = comp[Element(chemsys[0])] * np.max(Element(chemsys[0]).common_oxidation_states)\\\n",
    "        + comp[Element(chemsys[1])] * np.max(Element(chemsys[1]).common_oxidation_states)\\\n",
    "        + comp[Element(chemsys[2])] * np.max(Element(chemsys[2]).common_oxidation_states)\\\n",
    "        - comp[Element('O')] * 2\n",
    "\n",
    "    return c1 * c2 <= 0"
   ]
  },
  {
   "cell_type": "code",
   "execution_count": 5,
   "id": "66625d09",
   "metadata": {},
   "outputs": [
    {
     "data": {
      "text/plain": [
       "Comp: Li5 Al1 O4"
      ]
     },
     "execution_count": 5,
     "metadata": {},
     "output_type": "execute_result"
    }
   ],
   "source": [
    "icsd_entries[0].composition"
   ]
  },
  {
   "cell_type": "code",
   "execution_count": 6,
   "id": "e7ccbf86",
   "metadata": {},
   "outputs": [],
   "source": [
    "precess = ICDDEntryPreprocessor(deepcopy(icsd_entries), chemsys, oxide_system)\n",
    "precess.get_xrd()\n",
    "icsd_entries = precess.entries"
   ]
  },
  {
   "cell_type": "code",
   "execution_count": 11,
   "id": "537e5ef4",
   "metadata": {},
   "outputs": [
    {
     "name": "stdout",
     "output_type": "stream",
     "text": [
      "[ICSD] after remove weird-valence entries 152\n"
     ]
    }
   ],
   "source": [
    "# def check_oxi(comp):\n",
    "#         # comp = {el.symbol: comp[el] for el in comp}\n",
    "#         c1 = comp[Element('Li')] * 2 + comp[Element('Sr')] * 2 + comp[Element('Al')] * 2 - comp[Element('O')] * 2\n",
    "#         c2 = comp[Element('Li')] * 5 + comp[Element('Sr')] * 4 + comp[Element('Al')] * 5 - comp[Element('O')] * 2\n",
    "\n",
    "#         return c1 * c2 <= 0\n",
    "\n",
    "icsd_entries = [_ for _ in icsd_entries if check_oxi(_.composition,chemsys)]\n",
    "print('[ICSD] after remove weird-valence entries', len(icsd_entries))"
   ]
  },
  {
   "cell_type": "code",
   "execution_count": null,
   "id": "65d46441",
   "metadata": {},
   "outputs": [],
   "source": []
  },
  {
   "cell_type": "code",
   "execution_count": 30,
   "id": "064d1267",
   "metadata": {},
   "outputs": [
    {
     "data": {
      "text/plain": [
       "Structure Summary\n",
       "Lattice\n",
       "    abc : 6.302 6.42 4.62\n",
       " angles : 90.0 90.0 90.0\n",
       " volume : 186.91984079999997\n",
       "      A : 6.302 0.0 3.8588620641133097e-16\n",
       "      B : 1.0324147410924007e-15 6.42 3.9311162252630037e-16\n",
       "      C : 0.0 0.0 4.62\n",
       "PeriodicSite: Li+ (3.4724, 3.5631, 1.1735) [0.5510, 0.5550, 0.2540]\n",
       "PeriodicSite: Li+ (5.9806, 3.5631, 1.1735) [0.9490, 0.5550, 0.2540]\n",
       "PeriodicSite: Li+ (3.4724, 6.0669, 1.1735) [0.5510, 0.9450, 0.2540]\n",
       "PeriodicSite: Li+ (5.9806, 6.0669, 1.1735) [0.9490, 0.9450, 0.2540]\n",
       "PeriodicSite: Li+ (2.8296, 2.8569, 3.4465) [0.4490, 0.4450, 0.7460]\n",
       "PeriodicSite: Li+ (0.3214, 2.8569, 3.4465) [0.0510, 0.4450, 0.7460]\n",
       "PeriodicSite: Li+ (2.8296, 0.3531, 3.4465) [0.4490, 0.0550, 0.7460]\n",
       "PeriodicSite: Li+ (0.3214, 0.3531, 3.4465) [0.0510, 0.0550, 0.7460]\n",
       "PeriodicSite: Li+ (4.7265, 1.6050, 0.9794) [0.7500, 0.2500, 0.2120]\n",
       "PeriodicSite: Li+ (1.5755, 4.8150, 3.6406) [0.2500, 0.7500, 0.7880]\n",
       "PeriodicSite: Al3+ (4.7265, 4.8150, 3.5759) [0.7500, 0.7500, 0.7740]\n",
       "PeriodicSite: Al3+ (1.5755, 1.6050, 1.0441) [0.2500, 0.2500, 0.2260]\n",
       "PeriodicSite: O2- (3.2518, 4.8150, 2.6334) [0.5160, 0.7500, 0.5700]\n",
       "PeriodicSite: O2- (6.2012, 4.8150, 2.6334) [0.9840, 0.7500, 0.5700]\n",
       "PeriodicSite: O2- (3.0502, 1.6050, 1.9866) [0.4840, 0.2500, 0.4300]\n",
       "PeriodicSite: O2- (0.1008, 1.6050, 1.9866) [0.0160, 0.2500, 0.4300]\n",
       "PeriodicSite: O2- (4.7265, 3.3256, 4.5507) [0.7500, 0.5180, 0.9850]\n",
       "PeriodicSite: O2- (4.7265, 6.3044, 4.5507) [0.7500, 0.9820, 0.9850]\n",
       "PeriodicSite: O2- (1.5755, 3.0944, 0.0693) [0.2500, 0.4820, 0.0150]\n",
       "PeriodicSite: O2- (1.5755, 0.1156, 0.0693) [0.2500, 0.0180, 0.0150]"
      ]
     },
     "execution_count": 30,
     "metadata": {},
     "output_type": "execute_result"
    }
   ],
   "source": [
    "    def get_dataframe(icdd_entries, keys):\n",
    "        data = {}\n",
    "        for key in keys:\n",
    "            data[key] = [e.as_dict()[key] for e in icdd_entries]\n",
    "        df = pd.DataFrame(data)\n",
    "        return df\n",
    "\n",
    "    pdfs = glob('./data/icdd/*.xml')\n",
    "    icdd_entries = [ICDDEntry.from_icdd_xml(pdf) for pdf in pdfs]\n",
    "    icdd_entries = [_ for _ in icdd_entries if _.name != 'O2']    \n",
    "\n",
    "    precess = ICDDEntryPreprocessor(deepcopy(icdd_entries), chemsys, oxide_system)\n",
    "    df = get_dataframe(precess.entries,\n",
    "                       ['entry_id', 'name', 'pressure_temperature', 'cross_refs', 'status', 'quality_mark', 'name',\n",
    "                        'spgr', 'common_name'])\n",
    "\n",
    "    print('[ICDD] Total (Li-Sr-Al) - O: ', len(icdd_entries))  # Total\n",
    "\n",
    "    icdd_entries = [_ for _ in icdd_entries if _.status != 'Deleted']\n",
    "    print('[ICDD] after remove Deleted:', len(icdd_entries))\n",
    "\n",
    "    icdd_entries = [_ for _ in icdd_entries if _.quality_mark != 'Hypothetical']\n",
    "    print('[ICDD] after remove Hypothetical:', len(icdd_entries))\n",
    "\n",
    "    icdd_entries = [_ for _ in icdd_entries if _.quality_mark not in ['Blank', 'Low-Precision']]\n",
    "    print('[ICDD] after remove Blank/Low-Precision:', len(icdd_entries))\n",
    "\n",
    "    icdd_entries = [_ for _ in icdd_entries if _.pressure_temperature == 'Ambient']\n",
    "    print('[ICDD] after remove non-Ambient:', len(icdd_entries))\n",
    "\n",
    "#     icdd_entries = [_ for _ in icdd_entries if _.structure]\n",
    "#     print('[ICDD] after remove no-struct entries', len(icdd_entries))\n",
    "\n",
    "    def check_oxi(comp):        \n",
    "        c1 = comp[Element('Li')] * 1 + comp[Element('Sr')] * 1 + comp[Element('Al')] * 3 - comp[Element('O')] * 2\n",
    "        c2 = comp[Element('Li')] * 1 + comp[Element('Sr')] * 2 + comp[Element('Al')] * 3 - comp[Element('O')] * 2\n",
    "\n",
    "        return c1 * c2 <= 0\n",
    "\n",
    "    icdd_entries = [_ for _ in icdd_entries if check_oxi(_.composition)]\n",
    "    print('[ICDD] after remove weird-valence entries', len(icdd_entries))\n",
    "\n",
    "    precess = ICDDEntryPreprocessor(deepcopy(icdd_entries), chemsys, oxide_system)\n",
    "    precess.process_frac_name()\n",
    "    precess.process_disorder()  \n",
    "    precess.merge_by_cross_ref()\n",
    "    print('[ICDD] after merging cross-ref entries', len(precess.entries))\n",
    "    precess.get_xrd()\n",
    "    precess.merge_by_polymorph(bin_number=1000, gaussian_filter=4, R_cutoff=0.2)\n",
    "    print('[ICDD] after merging XRD-polymorph entries', len(precess.entries))\n",
    "    precess.merge_by_xrd(bin_number=1000, gaussian_filter=4, R_cutoff=0.22)\n",
    "    print('[ICDD] after merging XRD-group entries', len(precess.entries))\n",
    "\n",
    "    print(len([_ for _ in precess.entries if _.structure.is_ordered]), 'ordered structures')\n",
    "    print(len([_ for _ in precess.entries if not _.structure.is_ordered]), 'disordered structures')\n",
    "#     print(len([_ for _ in precess.entries if _.structure.composition.as_dict().keys() == {'V', 'O'}]))\n",
    "\n",
    "\n",
    "\n",
    "    all_entries = precess.entries\n",
    "    df = get_dataframe([_ for _ in all_entries ],\n",
    "                       ['entry_id', 'name', 'pressure_temperature', 'cross_refs', 'status', 'quality_mark', 'name',\n",
    "                        'spgr', 'common_name', 'leader'])\n",
    "    print(df)\n",
    "    df.to_excel('./data/output_candidate_pool.xlsx')\n",
    "\n",
    "    with open('./data/icdd_entries.json', 'w') as f:\n",
    "        json.dump(all_entries, f, cls=MontyEncoder)\n",
    "\n"
   ]
  },
  {
   "cell_type": "code",
   "execution_count": 56,
   "id": "77323c09",
   "metadata": {},
   "outputs": [
    {
     "data": {
      "text/plain": [
       "2"
      ]
     },
     "execution_count": 56,
     "metadata": {},
     "output_type": "execute_result"
    }
   ],
   "source": [
    "\n",
    "\n"
   ]
  },
  {
   "cell_type": "code",
   "execution_count": 57,
   "id": "24006e89",
   "metadata": {},
   "outputs": [
    {
     "data": {
      "text/plain": [
       "7"
      ]
     },
     "execution_count": 57,
     "metadata": {},
     "output_type": "execute_result"
    }
   ],
   "source": []
  },
  {
   "cell_type": "code",
   "execution_count": 61,
   "id": "e61efe3b",
   "metadata": {
    "scrolled": true
   },
   "outputs": [],
   "source": [
    "def check_oxi(comp,chemsys):    \n",
    "    c1 = comp[Element(chemsys[0])] * np.min(Element(chemsys[0]).common_oxidation_states)\\\n",
    "        + comp[Element(chemsys[1])] * np.min(Element(chemsys[1]).common_oxidation_states)\\\n",
    "        + comp[Element(chemsys[2])] * np.min(Element(chemsys[2]).common_oxidation_states)\\\n",
    "        - comp[Element('O')] * 2\n",
    "    c2 = comp[Element(chemsys[0])] * np.max(Element(chemsys[0]).common_oxidation_states)\\\n",
    "        + comp[Element(chemsys[1])] * np.max(Element(chemsys[1]).common_oxidation_states)\\\n",
    "        + comp[Element(chemsys[2])] * np.max(Element(chemsys[2]).common_oxidation_states)\\\n",
    "        - comp[Element('O')] * 2\n",
    "\n",
    "    return c1 * c2 <= 0"
   ]
  },
  {
   "cell_type": "code",
   "execution_count": null,
   "id": "31d1bcbf",
   "metadata": {},
   "outputs": [],
   "source": []
  },
  {
   "cell_type": "code",
   "execution_count": 6,
   "id": "c00b7804",
   "metadata": {
    "scrolled": true
   },
   "outputs": [
    {
     "name": "stderr",
     "output_type": "stream",
     "text": [
      "C:\\Users\\dell\\anaconda3\\envs\\myPymatgen\\lib\\site-packages\\pymatgen\\io\\cif.py:1164: UserWarning: Issues encountered while parsing CIF: Some fractional co-ordinates rounded to ideal values to avoid issues with finite precision.\n",
      "  warnings.warn(\"Issues encountered while parsing CIF: %s\" % \"\\n\".join(self.warnings))\n"
     ]
    },
    {
     "name": "stdout",
     "output_type": "stream",
     "text": [
      "[ICDD] Total (Li-Sr-Al) - O:  37\n",
      "[ICDD] after remove Deleted: 35\n",
      "[ICDD] after remove Hypothetical: 35\n",
      "[ICDD] after remove Blank/Low-Precision: 35\n",
      "[ICDD] after remove non-Ambient: 29\n",
      "[ICDD] after remove weird-valence entries 26\n",
      "[ICDD] after merging cross-ref entries 22\n",
      "[ICDD] after merging XRD-polymorph entries 20\n",
      "[ICDD] after merging XRD-group entries 19 [[6, 19]]\n",
      "13 ordered structures\n",
      "6 disordered structures\n",
      "       entry_id          name pressure_temperature                                         cross_refs     status quality_mark           spgr                          common_name       leader\n",
      "0   00-026-0031        Al2 O3              Ambient                                      [04-007-2253]    Primary      Indexed    P63mc (186)                            κ`-Al2 O3  00-026-0031\n",
      "1   00-050-0741        Al2 O3              Ambient                         [00-010-0425, 04-007-2478]    Primary      Indexed    Fd-3m (227)                             γ-Al2 O3  00-050-0741\n",
      "2   01-074-2232      Al Li O2              Ambient                         [04-002-2224, 04-002-8213]    Primary      Indexed     R-3m (166)                           α-Li Al O2  01-074-2232\n",
      "3   01-075-6979          O Sr              Ambient  [00-001-0886, 00-006-0520, 00-048-1477, 01-071...  Alternate         Star    Fm-3m (225)                                       01-075-6979\n",
      "4   01-081-8158   Al12 O19 Sr              Ambient  [01-084-8593, 04-002-2675, 04-007-6069, 04-008...  Alternate  Prototyping  P63/mmc (194)            strontium dodecaaluminate  01-081-8158\n",
      "5   01-089-7717        Al2 O3              Ambient  [00-001-1243, 00-002-1227, 00-002-1373, 00-003...  Alternate         Star     R-3c (167)          α-Al2 O3, dialuminium oxide  01-089-7717\n",
      "6   04-005-4662         Al2O3              Ambient  [00-047-1292, 04-003-3818, 04-005-9696, 04-006...    Primary         Star    Fd-3m (227)                          γ-Al2.67 O4  04-005-4662\n",
      "7   04-007-0646        Li2 O2              Ambient  [01-074-0115, 04-012-0079, 04-013-3506, 01-073...    Primary      Indexed      P-6 (174)                                       04-007-0646\n",
      "8   04-007-5368     Al4 O7 Sr              Ambient            [00-025-1208, 04-007-5096, 01-070-1479]    Primary      Indexed      C2/c (15)                                       04-007-5368\n",
      "9   04-007-5481    Al2 O6 Sr3              Ambient  [00-024-1187, 04-002-4462, 04-010-9251, 01-081...    Primary         Star     Pa-3 (205)        tristrontium dialuminum oxide  04-007-5481\n",
      "10  04-009-6438      Al Li O2              Ambient  [00-018-0714, 01-075-0905, 01-085-3652, 01-085...    Primary         Star    P41212 (92)  γ-Li Al O2, lithium aluminium oxide  04-009-6438\n",
      "11  04-010-5791  Al6 O19 Sr10              Ambient                                      [01-070-9237]    Primary         Star      C2/c (15)      decatrontium hexaaluminum oxide  04-010-5791\n",
      "12  04-011-3095     Al4 O7 Sr              Ambient                                      [01-076-0839]    Primary         Star      Cmme (67)                                       04-011-3095\n",
      "13  04-012-5215  Al12 O25 Sr7              Ambient            [04-011-3135, 01-076-0497, 01-083-2427]  Alternate      Indexed       P3 (143)                                       04-012-5215\n",
      "14  04-012-6907        Al2 O3              Ambient  [00-052-0803, 01-076-8886, 04-012-1443, 01-088...    Primary         Star     Pna21 (33)                             κ-Al2 O3  04-012-6907\n",
      "15  04-013-3940  Al14 O25 Sr4              Ambient            [01-074-1810, 04-012-3717, 01-089-8206]    Primary         Star      Pmma (51)                                       04-013-3940\n",
      "16  04-014-2682      Al Li O2              Ambient                                      [01-074-4328]    Primary      Indexed  I41/amd (141)                                       04-014-2682\n",
      "17  04-014-9711   Al6 O11 Sr2              Ambient                                      [01-072-7796]    Primary         Star      Pnnm (58)                                       04-014-9711\n",
      "18  04-014-9788     Al5 Li O8              Ambient  [04-002-2622, 04-002-2668, 04-002-8214, 04-002...    Primary         Star    P4332 (212)                                       04-014-9788\n"
     ]
    }
   ],
   "source": [
    "\n",
    "#sys.path.append('/Users/yizhou/PycharmProjects/phasemapy')\n",
    "import json\n",
    "import pandas as pd\n",
    "from copy import deepcopy\n",
    "from glob import glob\n",
    "\n",
    "from monty.json import MontyEncoder\n",
    "from pymatgen.core import Element\n",
    "\n",
    "from phasemapy.parser import ICDDEntry, ICDDEntryPreprocessor\n",
    "\n",
    "\n",
    "chemsys = ['Li', 'Sr', 'Al']\n",
    "oxide_system = True\n",
    "\n",
    "def main():\n",
    "    def get_dataframe(icdd_entries, keys):\n",
    "        data = {}\n",
    "        for key in keys:\n",
    "            data[key] = [e.as_dict()[key] for e in icdd_entries]\n",
    "        df = pd.DataFrame(data)\n",
    "        return df\n",
    "\n",
    "    pdfs = glob('./data/icdd/*.xml')\n",
    "    icdd_entries = [ICDDEntry.from_icdd_xml(pdf) for pdf in pdfs]\n",
    "    icdd_entries = [_ for _ in icdd_entries if _.name != 'O2']    \n",
    "\n",
    "    precess = ICDDEntryPreprocessor(deepcopy(icdd_entries), chemsys, oxide_system)\n",
    "    df = get_dataframe(precess.entries,\n",
    "                       ['entry_id', 'name', 'pressure_temperature', 'cross_refs', 'status', 'quality_mark', 'name',\n",
    "                        'spgr', 'common_name'])\n",
    "\n",
    "    print('[ICDD] Total (Li-Sr-Al) - O: ', len(icdd_entries))  # Total\n",
    "\n",
    "    icdd_entries = [_ for _ in icdd_entries if _.status != 'Deleted']\n",
    "    print('[ICDD] after remove Deleted:', len(icdd_entries))\n",
    "\n",
    "    icdd_entries = [_ for _ in icdd_entries if _.quality_mark != 'Hypothetical']\n",
    "    print('[ICDD] after remove Hypothetical:', len(icdd_entries))\n",
    "\n",
    "    icdd_entries = [_ for _ in icdd_entries if _.quality_mark not in ['Blank', 'Low-Precision']]\n",
    "    print('[ICDD] after remove Blank/Low-Precision:', len(icdd_entries))\n",
    "\n",
    "    icdd_entries = [_ for _ in icdd_entries if _.pressure_temperature == 'Ambient']\n",
    "    print('[ICDD] after remove non-Ambient:', len(icdd_entries))\n",
    "\n",
    "#     icdd_entries = [_ for _ in icdd_entries if _.structure]\n",
    "#     print('[ICDD] after remove no-struct entries', len(icdd_entries))\n",
    "\n",
    "    def check_oxi(comp):\n",
    "        # comp = {el.symbol: comp[el] for el in comp}\n",
    "        c1 = comp[Element('Li')] * 2 + comp[Element('Sr')] * 2 + comp[Element('Al')] * 2 - comp[Element('O')] * 2\n",
    "        c2 = comp[Element('Li')] * 5 + comp[Element('Sr')] * 4 + comp[Element('Al')] * 5 - comp[Element('O')] * 2\n",
    "\n",
    "        return c1 * c2 <= 0\n",
    "\n",
    "    icdd_entries = [_ for _ in icdd_entries if check_oxi(_.composition)]\n",
    "    print('[ICDD] after remove weird-valence entries', len(icdd_entries))\n",
    "\n",
    "    precess = ICDDEntryPreprocessor(deepcopy(icdd_entries), chemsys, oxide_system)\n",
    "    precess.process_frac_name()\n",
    "    precess.process_disorder()  \n",
    "    precess.merge_by_cross_ref()\n",
    "    print('[ICDD] after merging cross-ref entries', len(precess.entries))\n",
    "    precess.get_xrd()\n",
    "    precess.merge_by_polymorph(bin_number=1000, gaussian_filter=4, R_cutoff=0.2)\n",
    "    print('[ICDD] after merging XRD-polymorph entries', len(precess.entries))\n",
    "    s=precess.merge_by_xrd(bin_number=1000, gaussian_filter=4, R_cutoff=0.22)\n",
    "    print('[ICDD] after merging XRD-group entries', len(precess.entries),s)\n",
    "\n",
    "    print(len([_ for _ in precess.entries if _.structure.is_ordered]), 'ordered structures')\n",
    "    print(len([_ for _ in precess.entries if not _.structure.is_ordered]), 'disordered structures')\n",
    "#     print(len([_ for _ in precess.entries if _.structure.composition.as_dict().keys() == {'V', 'O'}]))\n",
    "\n",
    "\n",
    "\n",
    "    all_entries = precess.entries\n",
    "    df = get_dataframe([_ for _ in all_entries ],\n",
    "                       ['entry_id', 'name', 'pressure_temperature', 'cross_refs', 'status', 'quality_mark', 'name',\n",
    "                        'spgr', 'common_name', 'leader'])\n",
    "    print(df)\n",
    "    df.to_excel('./data/output_candidate_pool.xlsx')\n",
    "\n",
    "    with open('./data/icdd_entries.json', 'w') as f:\n",
    "        json.dump(all_entries, f, cls=MontyEncoder)\n",
    "\n",
    "if __name__ == \"__main__\":\n",
    "    main()\n",
    "\n"
   ]
  },
  {
   "cell_type": "code",
   "execution_count": null,
   "id": "87bbc427",
   "metadata": {},
   "outputs": [],
   "source": []
  },
  {
   "cell_type": "code",
   "execution_count": null,
   "id": "07d8540a",
   "metadata": {},
   "outputs": [],
   "source": []
  },
  {
   "cell_type": "code",
   "execution_count": 8,
   "id": "cecf110a",
   "metadata": {},
   "outputs": [],
   "source": [
    "#load entry pool: 19 ICDD entries\n",
    "with open('./data/icdd_entries.json') as f:\n",
    "    entries_icdd = json.load(f, cls=MontyDecoder)\n",
    "\n"
   ]
  },
  {
   "cell_type": "code",
   "execution_count": 15,
   "id": "08f904cf",
   "metadata": {},
   "outputs": [],
   "source": [
    "icdd_entries_nostruct = [_ for _ in entries_icdd if _.structure==None]"
   ]
  },
  {
   "cell_type": "code",
   "execution_count": 16,
   "id": "d187276f",
   "metadata": {},
   "outputs": [
    {
     "data": {
      "text/plain": [
       "0"
      ]
     },
     "execution_count": 16,
     "metadata": {},
     "output_type": "execute_result"
    }
   ],
   "source": [
    "if icdd_entries_nostruct:\n",
    "    entries = entries_icdd\n",
    "    \n",
    "else:\n",
    "    "
   ]
  },
  {
   "cell_type": "code",
   "execution_count": null,
   "id": "b0d391ad",
   "metadata": {},
   "outputs": [],
   "source": []
  }
 ],
 "metadata": {
  "kernelspec": {
   "display_name": "Python 3 (ipykernel)",
   "language": "python",
   "name": "python3"
  },
  "language_info": {
   "codemirror_mode": {
    "name": "ipython",
    "version": 3
   },
   "file_extension": ".py",
   "mimetype": "text/x-python",
   "name": "python",
   "nbconvert_exporter": "python",
   "pygments_lexer": "ipython3",
   "version": "3.7.13"
  }
 },
 "nbformat": 4,
 "nbformat_minor": 5
}
