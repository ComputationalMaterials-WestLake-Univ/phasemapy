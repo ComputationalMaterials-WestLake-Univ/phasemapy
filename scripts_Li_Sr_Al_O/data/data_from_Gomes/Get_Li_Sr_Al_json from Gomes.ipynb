{
 "cells": [
  {
   "cell_type": "code",
   "execution_count": 3,
   "id": "1a03a1f0",
   "metadata": {
    "pycharm": {
     "name": "#%%\n"
    }
   },
   "outputs": [],
   "source": [
    "import numpy as np\n",
    "import matplotlib.pyplot as plt\n",
    "import sys\n",
    "import os\n",
    "from copy import deepcopy\n",
    "from scipy.constants import h, c, e\n",
    "from monty.json import MontyDecoder, MontyEncoder\n",
    "import json"
   ]
  },
  {
   "cell_type": "code",
   "execution_count": 4,
   "id": "64b28903",
   "metadata": {
    "pycharm": {
     "name": "#%%\n"
    }
   },
   "outputs": [],
   "source": [
    "\"\"\"\n",
    "The Li-Sr-Al dataset is from \"Automating crystal-structure phase mapping by combining deep learning with constraint reasoning\" \n",
    "and its github:https://github.com/gomes-lab/DRNets-Nature-Machine-Intelligence\n",
    "\n",
    "In the following, **P** is the number of pure phases provided in the ICDD library,\n",
    "**M** is the number of elements in the system, \n",
    "**N** is the number of data points, \n",
    "**Q** is the number of diffraction scattering vector magnitudes (angles) with measurements in each XRD pattern, \n",
    "**Q'** is the downsampled length, and **K** is the expected maximum number of phases present in the solution.\n",
    "\n",
    "ICDD Library-37 entries:\n",
    "    **bases_comp.npy** :a matrix of size (**P**, **M**), e.g., (37, 3) for Li-Sr-Al.\n",
    "        The elemental compositions of the possible pure phases in the ICDD library.\n",
    "    **bases_edge.npy** : a matrix of size (**P**, **P**), e.g., (37, 37) for Li-Sr-Al.  \n",
    "        The similarity matrix of possible phases. If two phases are linked, then they are very similar to each other and can be considered interchangeable.\n",
    "    **bases_name.npy** : a vector of size (**P**), e.g., (37) for Li-Sr-Al.  \n",
    "        The names of the possible pure phases in the ICDD library.\n",
    "    **sticks_lib.npy** : an object array of size (**P**).  \n",
    "        The stick pattern or list of peaks (Q, intensity) for each ICDD library phase.\n",
    "\n",
    "    \n",
    "Instance_data-50 samples:\n",
    "    **composition.npy** : a matrix of size (**N**, **M**), e.g., (50, 3) for Li-Sr-Al.  \n",
    "        The elemental composition of the mixed material in each data point.\n",
    "    **data.npy** : a matrix of size (**N**, **M**+**Q**), e.g., (50, 3 + 4501) for Li-Sr-Al.  \n",
    "        For each row, the composition (length **M**) is concatenated with the XRD pattern (length **Q**), i.e. the XRD intensity at each diffraction angle.\n",
    "    **lib_comp.npy** : a matrix of size (**P**, **M**), e.g., (50, 3) for Li-Sr-Al.  \n",
    "        The elemental compositions of the possible pure phases in the ICDD library. This is the same as bases_comp.npy.\n",
    "    **Q.npy** : a vector of length (**Q**).  \n",
    "        The XRD scattering vector magnitudes (angles) for the XRD patterns.\n",
    "\n",
    "\n",
    "\"\"\"\n",
    "# ICDD Library-37 entries:\n",
    "bases_comp = np.load('bases_comp.npy', allow_pickle = True)\n",
    "bases_edge = np.load('bases_edge.npy',allow_pickle = True)\n",
    "bases_name = np.load('bases_name.npy',allow_pickle = True)\n",
    "sticks_lib = np.load('sticks_lib.npy',allow_pickle = True)\n",
    "\n",
    "# Instance_data-50 samples:\n",
    "composition = np.load('composition.npy',allow_pickle = True)\n",
    "data_com_xrd = np.load('data.npy',allow_pickle = True)\n",
    "lib_comp = np.load('lib_comp.npy',allow_pickle = True)\n",
    "Q= np.load('Q.npy',allow_pickle = True)\n",
    "ground_truth= np.load('gt_weights.npy',allow_pickle = True)\n",
    "\n",
    "# Q_300= np.load('Q_300.npy',allow_pickle = True)\n",
    "# Q_idx_300 = np.load('Q_idx_300.npy',allow_pickle = True)\n",
    "# XRD = np.load('XRD.npy',allow_pickle = True)\n"
   ]
  },
  {
   "cell_type": "code",
   "execution_count": null,
   "id": "cb5c49d6",
   "metadata": {},
   "outputs": [],
   "source": []
  },
  {
   "cell_type": "code",
   "execution_count": 6,
   "id": "518c3184",
   "metadata": {
    "pycharm": {
     "name": "#%%\n"
    }
   },
   "outputs": [],
   "source": [
    "import json\n",
    "\n",
    "def creat_Instance_data_Bi_Cu_V(index, q,sample_xrd,comp):\n",
    "    dict_Instance_data_info = {\n",
    "                       'q': q,                      \n",
    "                       'sample_xrd': sample_xrd, \n",
    "                       'comp': comp                       \n",
    "                      }\n",
    "    dict_connection = {'Instance_data_info': dict_Instance_data_info}\n",
    "    dict_index = {'index': index}  \n",
    "    data_instance = dict( dict_index, **dict_connection)\n",
    "    return data_instance\n",
    "\n",
    "\n",
    "if __name__ == '__main__':\n",
    "    Instance_data_Li_Sr_Al=[]\n",
    "    for i in range(len(composition)):        \n",
    "        index = i\n",
    "        q = Q.tolist()      \n",
    "        sample_xrd = data_com_xrd[i][3:].tolist()\n",
    "        comp = composition[i].tolist()  \n",
    "        json_founc = creat_Instance_data_Bi_Cu_V\n",
    "        data_instance = json_founc(index, q, sample_xrd,comp)         \n",
    "        Instance_data_Li_Sr_Al.append(data_instance)\n",
    "        \n",
    "    Instance_data_Li_Sr_Al = json.dumps(Instance_data_Li_Sr_Al,cls = MontyEncoder)\n",
    "    with open('Instance_data_Li_Sr_Al.json','w+') as file:\n",
    "            file.write(Instance_data_Li_Sr_Al)  "
   ]
  },
  {
   "cell_type": "code",
   "execution_count": 7,
   "id": "2c8fc41e",
   "metadata": {
    "pycharm": {
     "name": "#%%\n"
    }
   },
   "outputs": [],
   "source": [
    "#load instance data: 50 instance of Li_Sr_Al\n",
    "with open('Instance_data_Li_Sr_Al.json') as f:\n",
    "    Instance_data_Li_Sr_Al = json.load(f, cls=MontyDecoder)"
   ]
  },
  {
   "cell_type": "code",
   "execution_count": 19,
   "id": "a0a26d56",
   "metadata": {
    "pycharm": {
     "name": "#%%\n"
    }
   },
   "outputs": [
    {
     "data": {
      "text/plain": [
       "[0.44434001670843776, 0.04427736006683375, 0.5113826232247285]"
      ]
     },
     "execution_count": 19,
     "metadata": {},
     "output_type": "execute_result"
    }
   ],
   "source": [
    "Instance_data_Li_Sr_Al[0]['Instance_data_info']['comp']"
   ]
  },
  {
   "cell_type": "code",
   "execution_count": 8,
   "id": "6be8ab46",
   "metadata": {
    "pycharm": {
     "name": "#%%\n"
    }
   },
   "outputs": [],
   "source": [
    "#Get the scattering vector q and intensity from the stick_lib in ICDD \n",
    "qs = []\n",
    "amps=[]\n",
    "for i in range(len(sticks_lib)):\n",
    "    q,amp = list(zip(*(sticks_lib[i])))\n",
    "    qs.append(q)\n",
    "    amps.append(amp)"
   ]
  },
  {
   "cell_type": "code",
   "execution_count": 10,
   "id": "2b9b3295",
   "metadata": {
    "pycharm": {
     "name": "#%%\n"
    }
   },
   "outputs": [],
   "source": [
    "# Get the samples' name, ICDD entry_id, crystal_system by spliting bases_name,i.e.bases_name[0]:'0+(Al2O3)1.333_01-075-0921_Cubic.txt'\n",
    "names = []\n",
    "entry_ids = []\n",
    "crystal_systems = []\n",
    "bases_name_copy = deepcopy(bases_name)\n",
    "\n",
    "for i in range(len(bases_name_copy)):\n",
    "    list1 = bases_name_copy[i].split('_')\n",
    "    list2 = list1[0].split('+')\n",
    "    list3 = list1[2].split('.')\n",
    "    names.append(list2[1])\n",
    "    entry_ids.append(list1[1])\n",
    "    crystal_systems.append(list3[0])"
   ]
  },
  {
   "cell_type": "code",
   "execution_count": 11,
   "id": "b716b7d6",
   "metadata": {
    "pycharm": {
     "name": "#%%\n"
    }
   },
   "outputs": [],
   "source": [
    "\n",
    "\n",
    "def creat_ICDD_entries_Bi_Cu_V(index, q,amp, xrd, comp,base_name,name,entry_id,crystal_system):\n",
    "    dict_entries_info = {\n",
    "                       'q': q,\n",
    "                       'amp':amp,\n",
    "                       'xrd': xrd, \n",
    "                       'comp': comp, \n",
    "                        'base_name':base_name, \n",
    "                        'name':name,\n",
    "                        'entry_id':entry_id,\n",
    "                        'crystal_system':crystal_system\n",
    "                      }\n",
    "    dict_connection = {'entries_info': dict_entries_info}\n",
    "    dict_index = {'index': index}  \n",
    "    data = dict( dict_index, **dict_connection)\n",
    "    return data\n",
    "\n",
    "\n",
    "if __name__ == '__main__':\n",
    "    ICDD_entries_Li_Sr_Al=[]\n",
    "    for i in range(len(bases_comp)):        \n",
    "        index = i\n",
    "        q = np.array(qs[i]).tolist()\n",
    "        amp = np.array(amps[i]).tolist()\n",
    "        xrd = sticks_lib[i].tolist()\n",
    "        comp = bases_comp[i].tolist()\n",
    "        base_name = np.array(bases_name[i]).tolist()\n",
    "        name = np.array(names[i]).tolist()\n",
    "        entry_id = np.array(entry_ids[i]).tolist()\n",
    "        crystal_system = np.array(crystal_systems[i]).tolist()\n",
    "        json_founc = creat_ICDD_entries_Bi_Cu_V\n",
    "        data = json_founc(index, q,amp, xrd, comp, base_name,name,entry_id,crystal_system)         \n",
    "        ICDD_entries_Li_Sr_Al.append(data)\n",
    "        \n",
    "    ICDD_entries_Li_Sr_Al = json.dumps(ICDD_entries_Li_Sr_Al)\n",
    "    with open('ICDD_entries_Li_Sr_Al.json','w+') as file:\n",
    "            file.write(ICDD_entries_Li_Sr_Al)  "
   ]
  },
  {
   "cell_type": "code",
   "execution_count": 12,
   "id": "f439e5e6",
   "metadata": {
    "pycharm": {
     "name": "#%%\n"
    }
   },
   "outputs": [],
   "source": [
    "#load entry pool: 37 ICDD entries\n",
    "with open('C:/Users/dell/Desktop/phasemapy/scripts_Li_Sr_Al_O/data/ICDD_entries_Li_Sr_Al.json') as f:\n",
    "    entries_Li_Sr_Al= json.load(f, cls=MontyDecoder)"
   ]
  },
  {
   "cell_type": "code",
   "execution_count": 13,
   "id": "542d2d43",
   "metadata": {
    "pycharm": {
     "name": "#%%\n"
    }
   },
   "outputs": [],
   "source": [
    "import numpy as np\n",
    "import json\n",
    "import matplotlib.pyplot as plt\n",
    "import sys\n",
    "sys.path.append('C:\\\\Users\\\\dell\\\\Desktop\\\\phasemapy')\n",
    "import os\n",
    "from copy import deepcopy\n",
    "from scipy.constants import h, c, e\n",
    "from pymatgen.core import Element\n",
    "from monty.json import MontyDecoder, MontyEncoder\n",
    "from pymatgen.analysis.diffraction.xrd import XRDCalculator\n",
    "import numpy as np\n",
    "from phasemapy.dataio import InstanceData\n",
    "from phasemapy.parser import ICDDEntry,ICDDEntriesBiCuV, ICDDEntryPreprocessor\n",
    "from phasemapy.solver import Phase, Sample\n",
    "import matplotlib.pyplot as plt\n",
    "chemsys = ['Li', 'Sr', 'Al']\n",
    "oxide_system = True\n",
    "photon_e = 13e3\n",
    "max_q_shift = 0.05\n",
    "resample_density = 1000\n",
    "initial_alphagamma = 0.1\n",
    "SUM_NORM = 6000"
   ]
  },
  {
   "cell_type": "code",
   "execution_count": 14,
   "id": "d90693a0",
   "metadata": {
    "pycharm": {
     "name": "#%%\n"
    }
   },
   "outputs": [],
   "source": [
    "entries = [ICDDEntriesBiCuV.from_ICDD_Bi_Cu_V(en) for en in entries_Li_Sr_Al]"
   ]
  },
  {
   "cell_type": "code",
   "execution_count": 13,
   "id": "3b54e761",
   "metadata": {
    "pycharm": {
     "name": "#%%\n"
    }
   },
   "outputs": [],
   "source": [
    "bin_number=1000\n",
    "gaussian_filter=4\n",
    "R_cutoff=0.5\n",
    "from itertools import combinations"
   ]
  },
  {
   "cell_type": "code",
   "execution_count": 15,
   "id": "1c6696ad",
   "metadata": {
    "pycharm": {
     "name": "#%%\n"
    }
   },
   "outputs": [],
   "source": [
    "import os\n",
    "import re\n",
    "import xml.etree.cElementTree as ET\n",
    "from itertools import combinations\n",
    "\n",
    "import matplotlib.pyplot as plt\n",
    "import numpy as np\n",
    "import pandas as pd\n",
    "from pymatgen.analysis.diffraction.xrd import XRDCalculator\n",
    "from pymatgen.analysis.structure_matcher import StructureMatcher, ElementComparator\n",
    "from pymatgen.core import Element, Composition\n",
    "from scipy.cluster.hierarchy import fcluster, linkage\n",
    "from monty.json import MSONable\n",
    "from pymatgen.io.cif import CifParser\n",
    "from scipy.ndimage import gaussian_filter1d\n"
   ]
  },
  {
   "cell_type": "code",
   "execution_count": 4,
   "id": "21856a31",
   "metadata": {
    "pycharm": {
     "name": "#%%\n"
    }
   },
   "outputs": [],
   "source": [
    "def smooth_hist(q, amp, bins):\n",
    "    hist, bin_edges = np.histogram(q, bins=bins, weights=amp)\n",
    "    smoothed = gaussian_filter1d(hist, gaussian_filter)  \n",
    "    return smoothed"
   ]
  },
  {
   "cell_type": "code",
   "execution_count": 17,
   "id": "3b1737aa",
   "metadata": {
    "pycharm": {
     "name": "#%%\n"
    }
   },
   "outputs": [],
   "source": [
    "bins = np.linspace(min([_.data['xrd'][0][0] for _ in entries]) - 0.01,\n",
    "               max([_.data['xrd'][0][-1] for _ in entries]) + 0.01, bin_number)\n",
    "xrd_match_tri =[]\n",
    "for i, j in combinations(range(len(entries)), 2):\n",
    "            e1, e2 = entries[i], entries[j]            \n",
    "            q, amp = e1.data['xrd'][0], e1.data['xrd'][1]\n",
    "            smooth_xrds_i = smooth_hist(q, amp, bins)\n",
    "            q, amp = e2.data['xrd'][0], e2.data['xrd'][1]\n",
    "            smooth_xrds_j = smooth_hist(q , amp, bins)\n",
    "            smooth_xrds_i = smooth_xrds_i / np.max(smooth_xrds_i) * 100\n",
    "            smooth_xrds_j = smooth_xrds_j / np.max(smooth_xrds_j) * 100\n",
    "            \n",
    "            abs_diff = np.abs(smooth_xrds_i - smooth_xrds_j)               \n",
    "            R = np.sqrt(np.sum(abs_diff ** 2) / max(np.sum(smooth_xrds_i ** 2), np.sum(smooth_xrds_j ** 2)))\n",
    "            \n",
    "            if R < 0.5:\n",
    "                xrd_match_tri.append([i,j])"
   ]
  },
  {
   "cell_type": "code",
   "execution_count": 5,
   "id": "5b50c1c6",
   "metadata": {
    "pycharm": {
     "name": "#%%\n"
    }
   },
   "outputs": [],
   "source": [
    "def merge(xrd_match_lst):\n",
    "    sts = [set(l) for l in xrd_match_lst]\n",
    "    i = 0\n",
    "    while i < len(sts):\n",
    "        j = i+1\n",
    "        while j < len(sts):\n",
    "            if len(sts[i].intersection(sts[j])) > 0:\n",
    "                sts[i] = sts[i].union(sts[j])\n",
    "                sts.pop(j)\n",
    "            else: j += 1                     \n",
    "        i += 1\n",
    "    lst = [list(s) for s in sts]\n",
    "    return lst"
   ]
  },
  {
   "cell_type": "code",
   "execution_count": 19,
   "id": "a4c836cb",
   "metadata": {
    "pycharm": {
     "name": "#%%\n"
    }
   },
   "outputs": [],
   "source": [
    "Phase_merge_xrd =merge(xrd_match_tri)"
   ]
  },
  {
   "cell_type": "code",
   "execution_count": 20,
   "id": "faf87e58",
   "metadata": {
    "pycharm": {
     "name": "#%%\n"
    }
   },
   "outputs": [],
   "source": [
    "Phase_examp = [ Phase_merge_xrd[i][0] for i in range(len(Phase_merge_xrd ))]\n",
    "Phase_index = sum(Phase_merge_xrd,[])\n",
    "Phase_pure = list(set(range(len(entries))).difference(set(Phase_index)))   \n",
    "Phase_update = Phase_examp + Phase_pure\n",
    "Phase_update.sort()"
   ]
  },
  {
   "cell_type": "code",
   "execution_count": 21,
   "id": "ff8b88b5",
   "metadata": {
    "pycharm": {
     "name": "#%%\n"
    }
   },
   "outputs": [],
   "source": [
    "entries_update = [ICDDEntriesBiCuV.from_ICDD_Bi_Cu_V(entries[i]) for i in Phase_update]"
   ]
  },
  {
   "cell_type": "code",
   "execution_count": null,
   "id": "922c48fa",
   "metadata": {
    "pycharm": {
     "name": "#%%\n"
    }
   },
   "outputs": [],
   "source": [
    "Phase_update_json = json.dumps(Phase_update,cls = MontyEncoder)\n",
    "with open('Phase_update_merge_by_xrd.json','w+') as file:\n",
    "        file.write(Phase_update_json)"
   ]
  },
  {
   "cell_type": "code",
   "execution_count": 6,
   "id": "de47d214",
   "metadata": {
    "pycharm": {
     "name": "#%%\n"
    }
   },
   "outputs": [],
   "source": [
    "#load entry pool: 100 ICDD entries\n",
    "with open('C:/Users/dell/Desktop/phasemapy/scripts_Bi_Cu_V_O/data/Phase_update_merge_by_xrd.json') as f:\n",
    "    Phase_update = json.load(f, cls=MontyDecoder)"
   ]
  },
  {
   "cell_type": "code",
   "execution_count": 9,
   "id": "f55dc208",
   "metadata": {
    "pycharm": {
     "name": "#%%\n"
    }
   },
   "outputs": [],
   "source": [
    "entries_ud = [ICDDEntriesBiCuV.from_ICDD_Bi_Cu_V(entries[i]) for i in Phase_update]"
   ]
  },
  {
   "cell_type": "code",
   "execution_count": 38,
   "id": "0d4439ff",
   "metadata": {
    "pycharm": {
     "name": "#%%\n"
    }
   },
   "outputs": [
    {
     "name": "stdout",
     "output_type": "stream",
     "text": [
      "0.35464292547644805\n"
     ]
    }
   ],
   "source": [
    "bins = np.linspace(min([_.data['xrd'][0][0] for _ in entries]) - 0.01,\n",
    "               max([_.data['xrd'][0][-1] for _ in entries]) + 0.01, bin_number)\n",
    "xrd_match_tri =[]\n",
    "# for i, j in combinations(range(len(entries)), 2):\n",
    "e1, e2 = entries[23], entries[24]            \n",
    "q, amp = e1.data['xrd'][0]+0.26, e1.data['xrd'][1]\n",
    "smooth_xrds_i = smooth_hist(q, amp, bins)\n",
    "q, amp = e2.data['xrd'][0], e2.data['xrd'][1]\n",
    "smooth_xrds_j = smooth_hist(q , amp, bins)\n",
    "smooth_xrds_i = smooth_xrds_i / np.max(smooth_xrds_i) * 100\n",
    "smooth_xrds_j = smooth_xrds_j / np.max(smooth_xrds_j) * 100\n",
    "\n",
    "abs_diff = np.abs(smooth_xrds_i - smooth_xrds_j)               \n",
    "R = np.sqrt(np.sum(abs_diff ** 2) / max(np.sum(smooth_xrds_i ** 2), np.sum(smooth_xrds_j ** 2)))\n",
    "\n",
    "# if R < 0.5:\n",
    "#     xrd_match_tri.append([i,j])\n",
    "print(R)"
   ]
  },
  {
   "cell_type": "code",
   "execution_count": 39,
   "id": "52df00d1",
   "metadata": {
    "pycharm": {
     "name": "#%%\n"
    }
   },
   "outputs": [
    {
     "data": {
      "text/plain": [
       "[<matplotlib.lines.Line2D at 0x1b517d1ee08>]"
      ]
     },
     "execution_count": 39,
     "metadata": {},
     "output_type": "execute_result"
    },
    {
     "data": {
      "image/png": "[encoded data removed]",
      "text/plain": [
       "<Figure size 432x288 with 1 Axes>"
      ]
     },
     "metadata": {
      "needs_background": "light"
     },
     "output_type": "display_data"
    }
   ],
   "source": [
    "\n",
    "plt.plot(bins[0:-1],smooth_xrds_i)\n",
    "plt.plot(bins[0:-1],smooth_xrds_j)"
   ]
  },
  {
   "cell_type": "code",
   "execution_count": 40,
   "id": "1d800676",
   "metadata": {
    "pycharm": {
     "name": "#%%\n"
    }
   },
   "outputs": [
    {
     "name": "stdout",
     "output_type": "stream",
     "text": [
      "1.2286818296018647\n"
     ]
    }
   ],
   "source": [
    "xrd_match_tri =[]\n",
    "# for i, j in combinations(range(len(entries)), 2):\n",
    "e1, e2 = entries[23], entries[49]            \n",
    "q, amp = e1.data['xrd'][0], e1.data['xrd'][1]\n",
    "smooth_xrds_i = smooth_hist(q, amp, bins)\n",
    "q, amp = e2.data['xrd'][0], e2.data['xrd'][1]\n",
    "smooth_xrds_j = smooth_hist(q , amp, bins)\n",
    "smooth_xrds_i = smooth_xrds_i / np.max(smooth_xrds_i) * 100\n",
    "smooth_xrds_j = smooth_xrds_j / np.max(smooth_xrds_j) * 100\n",
    "\n",
    "abs_diff = np.abs(smooth_xrds_i - smooth_xrds_j)               \n",
    "R = np.sqrt(np.sum(abs_diff ** 2) / max(np.sum(smooth_xrds_i ** 2), np.sum(smooth_xrds_j ** 2)))\n",
    "\n",
    "# if R < 0.5:\n",
    "#     xrd_match_tri.append([i,j])\n",
    "print(R)"
   ]
  },
  {
   "cell_type": "code",
   "execution_count": 41,
   "id": "0d106ea8",
   "metadata": {
    "pycharm": {
     "name": "#%%\n"
    }
   },
   "outputs": [
    {
     "data": {
      "text/plain": [
       "[<matplotlib.lines.Line2D at 0x1b517d8fbc8>]"
      ]
     },
     "execution_count": 41,
     "metadata": {},
     "output_type": "execute_result"
    },
    {
     "data": {
      "image/png": "[encoded data removed]",
      "text/plain": [
       "<Figure size 432x288 with 1 Axes>"
      ]
     },
     "metadata": {
      "needs_background": "light"
     },
     "output_type": "display_data"
    }
   ],
   "source": [
    "plt.plot(bins[0:-1],smooth_xrds_i)\n",
    "plt.plot(bins[0:-1],smooth_xrds_j)"
   ]
  },
  {
   "cell_type": "code",
   "execution_count": null,
   "id": "e267d452",
   "metadata": {
    "pycharm": {
     "name": "#%%\n"
    }
   },
   "outputs": [],
   "source": []
  }
 ],
 "metadata": {
  "kernelspec": {
   "display_name": "Python 3 (ipykernel)",
   "language": "python",
   "name": "python3"
  },
  "language_info": {
   "codemirror_mode": {
    "name": "ipython",
    "version": 3
   },
   "file_extension": ".py",
   "mimetype": "text/x-python",
   "name": "python",
   "nbconvert_exporter": "python",
   "pygments_lexer": "ipython3",
   "version": "3.7.13"
  }
 },
 "nbformat": 4,
 "nbformat_minor": 5
}
