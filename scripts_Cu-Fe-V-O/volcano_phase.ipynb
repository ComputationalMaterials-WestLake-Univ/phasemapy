{
 "cells": [
  {
   "cell_type": "code",
   "execution_count": 2,
   "id": "e06c7f8d",
   "metadata": {
    "pycharm": {
     "name": "#%%\n"
    }
   },
   "outputs": [
    {
     "name": "stdout",
     "output_type": "stream",
     "text": [
      " 驱动器 C 中的卷没有标签。\n",
      " 卷的序列号是 346F-7C10\n",
      "\n",
      " C:\\Users\\dell\\Desktop\\phasemapy\\scripts_Cu-Fe-V-O\\data 的目录\n",
      "\n",
      "2022/09/05  16:23    <DIR>          .\n",
      "2022/09/07  19:42    <DIR>          ..\n",
      "2022/04/19  04:53             6,148 .DS_Store\n",
      "2022/02/21  15:55            14,868 3577_CuFeV_compositions.csv\n",
      "2022/02/21  15:55         3,686,692 Fe-Cu-V-609-Q666-inst_with28.txt\n",
      "2022/05/06  20:41         8,806,997 Fe-Cu-V-O-raw_background.txt\n",
      "2022/09/05  16:23    <DIR>          icdd\n",
      "2022/06/07  17:17         1,264,567 icdd_entries.json\n",
      "2022/04/21  16:38             3,717 kainotropite.cif\n",
      "2022/02/21  15:55            10,638 pdfnames_list.txt\n",
      "2022/02/21  15:55            11,649 pdfnames_list_normalizedComps.csv\n",
      "2022/04/26  15:42        16,292,974 raw_data_Fe_Cu_V.txt\n",
      "2022/05/18  08:49             1,110 SnO2_mp-856_symmetrized.cif\n",
      "2022/02/21  15:55           364,014 VFeCuO_20200615174936.sticks\n",
      "              11 个文件     30,463,374 字节\n",
      "               3 个目录 327,881,781,248 可用字节\n"
     ]
    }
   ],
   "source": [
    "!dir data"
   ]
  },
  {
   "cell_type": "code",
   "execution_count": null,
   "id": "7ec96e41",
   "metadata": {
    "pycharm": {
     "name": "#%%\n"
    }
   },
   "outputs": [],
   "source": []
  },
  {
   "cell_type": "code",
   "execution_count": 262,
   "id": "df791b5a",
   "metadata": {
    "pycharm": {
     "name": "#%%\n"
    }
   },
   "outputs": [],
   "source": [
    "import json, os,sys\n",
    "import numpy as np\n",
    "sys.path.append('/Users/yizhou/PycharmProjects/phasemapy')\n",
    "from copy import deepcopy\n",
    "from pymatgen.core import Composition"
   ]
  },
  {
   "cell_type": "code",
   "execution_count": 263,
   "id": "9d1358f6",
   "metadata": {
    "pycharm": {
     "name": "#%%\n"
    }
   },
   "outputs": [],
   "source": [
    "from pymatgen.core import Element\n",
    "from monty.json import MontyDecoder, MontyEncoder\n",
    "from pymatgen.analysis.diffraction.xrd import XRDCalculator\n",
    "from pymatgen.symmetry.analyzer import SpacegroupAnalyzer\n",
    "from pymatgen.io.cif import CifParser\n",
    "import numpy as np\n",
    "from phasemapy.dataio import InstanceData\n",
    "from phasemapy.parser import ICDDEntry\n",
    "from phasemapy.solver import Phase, Sample\n",
    "import matplotlib.pyplot as plt\n",
    "chemsys = ['Cu', 'Fe', 'V']\n",
    "oxide_system = True\n",
    "photon_e = 13e3\n",
    "max_q_shift = 0.05\n",
    "resample_density = 1000\n",
    "initial_alphagamma = 0.1\n",
    "SUM_NORM = 6000\n",
    "loss_weight = {'xrd_loss': 6.0, 'comp_loss': 2.0, 'entropy_loss': 0.2}\n",
    "instance_data = InstanceData.from_file('./data/Fe-Cu-V-O-raw_background.txt', chemsys, photon_e)"
   ]
  },
  {
   "cell_type": "code",
   "execution_count": 264,
   "id": "7bf52244",
   "metadata": {
    "pycharm": {
     "name": "#%%\n"
    }
   },
   "outputs": [],
   "source": [
    "SnO2_file=np.loadtxt('PDF_Card_01-080-6417_SnO2.xy',skiprows=2).T "
   ]
  },
  {
   "cell_type": "code",
   "execution_count": 265,
   "id": "e01e765c",
   "metadata": {
    "pycharm": {
     "name": "#%%\n"
    }
   },
   "outputs": [
    {
     "data": {
      "text/plain": [
       "[<matplotlib.lines.Line2D at 0x7fe3b8193130>]"
      ]
     },
     "execution_count": 265,
     "metadata": {},
     "output_type": "execute_result"
    },
    {
     "data": {
      "image/png": "[encoded data removed]",
      "text/plain": [
       "<Figure size 432x288 with 1 Axes>"
      ]
     },
     "metadata": {
      "needs_background": "light"
     },
     "output_type": "display_data"
    }
   ],
   "source": [
    "plt.plot(*SnO2_file)"
   ]
  },
  {
   "cell_type": "code",
   "execution_count": 266,
   "id": "0e875f69",
   "metadata": {
    "pycharm": {
     "name": "#%%\n"
    }
   },
   "outputs": [
    {
     "data": {
      "text/plain": [
       "Lattice\n",
       "    abc : 3.243221 4.832336 4.832336\n",
       " angles : 90.0 90.0 90.0\n",
       " volume : 75.73398183153266\n",
       "      A : -0.0 -0.0 3.243221\n",
       "      B : 4.832336 -0.0 2.958952407402262e-16\n",
       "      C : -2.958952407402262e-16 4.832336 2.958952407402262e-16"
      ]
     },
     "execution_count": 266,
     "metadata": {},
     "output_type": "execute_result"
    }
   ],
   "source": [
    "SnO2 = CifParser('./data/SnO2_mp-856_symmetrized.cif').get_structures()[0]\n",
    "\n",
    "spgr = SpacegroupAnalyzer(SnO2).get_space_group_symbol()\n",
    "SnO2.lattice"
   ]
  },
  {
   "cell_type": "code",
   "execution_count": 267,
   "id": "451eb171",
   "metadata": {
    "pycharm": {
     "name": "#%%\n"
    }
   },
   "outputs": [
    {
     "name": "stdout",
     "output_type": "stream",
     "text": [
      "-0.000000 -0.000000 3.243221\n",
      "4.832336 -0.000000 0.000000\n",
      "-0.000000 4.832336 0.000000\n"
     ]
    }
   ],
   "source": [
    "print (SnO2.lattice)"
   ]
  },
  {
   "cell_type": "code",
   "execution_count": 268,
   "id": "7bfd6dc3",
   "metadata": {
    "pycharm": {
     "name": "#%%\n"
    }
   },
   "outputs": [],
   "source": [
    "#SnO2.apply_strain(0.03)"
   ]
  },
  {
   "cell_type": "code",
   "execution_count": 269,
   "id": "7b2f2e5d",
   "metadata": {
    "pycharm": {
     "name": "#%%\n"
    }
   },
   "outputs": [
    {
     "name": "stdout",
     "output_type": "stream",
     "text": [
      "-0.000000 -0.000000 3.243221\n",
      "4.832336 -0.000000 0.000000\n",
      "-0.000000 4.832336 0.000000\n"
     ]
    }
   ],
   "source": [
    "print (SnO2.lattice)"
   ]
  },
  {
   "cell_type": "code",
   "execution_count": 270,
   "id": "3ffe2899",
   "metadata": {
    "pycharm": {
     "name": "#%%\n"
    }
   },
   "outputs": [],
   "source": [
    "SnO2_phase = ICDDEntry('01-000-0000', SnO2.composition.reduced_formula, 'Primary', 'Star', 'Ambient', None, spgr,\n",
    "              'SnO2', [], SnO2)\n",
    "SnO2_phase = ICDDEntry('01-000-0000', 'O2', 'Primary', 'Star', 'Ambient', None, spgr,\n",
    "              'SnO2', [], SnO2)"
   ]
  },
  {
   "cell_type": "code",
   "execution_count": 274,
   "id": "982dbfef",
   "metadata": {
    "pycharm": {
     "name": "#%%\n"
    }
   },
   "outputs": [
    {
     "data": {
      "text/plain": [
       "Lattice\n",
       "    abc : 3.17835658 4.73568928 4.73568928\n",
       " angles : 90.0 90.0 90.0\n",
       " volume : 71.28021782798389\n",
       "      A : 0.0 0.0 3.17835658\n",
       "      B : 4.73568928 0.0 2.8997733592542167e-16\n",
       "      C : -2.8997733592542167e-16 4.73568928 2.8997733592542167e-16"
      ]
     },
     "execution_count": 274,
     "metadata": {},
     "output_type": "execute_result"
    }
   ],
   "source": [
    "with open('./data/icdd_entries.json') as f:\n",
    "    entries = json.load(f, cls=MontyDecoder)\n",
    "   \n",
    "\n",
    "entries[-2].structure.lattice"
   ]
  },
  {
   "cell_type": "code",
   "execution_count": 275,
   "id": "4eb0a431",
   "metadata": {
    "pycharm": {
     "name": "#%%\n"
    }
   },
   "outputs": [
    {
     "data": {
      "text/plain": [
       "Comp: Sn1 O2"
      ]
     },
     "execution_count": 275,
     "metadata": {},
     "output_type": "execute_result"
    }
   ],
   "source": [
    "entries[-2].composition"
   ]
  },
  {
   "cell_type": "code",
   "execution_count": null,
   "id": "7d755169",
   "metadata": {
    "pycharm": {
     "name": "#%%\n"
    }
   },
   "outputs": [],
   "source": [
    "\n"
   ]
  },
  {
   "cell_type": "code",
   "execution_count": null,
   "id": "3470b37f",
   "metadata": {
    "pycharm": {
     "name": "#%%\n"
    }
   },
   "outputs": [],
   "source": []
  },
  {
   "cell_type": "code",
   "execution_count": 276,
   "id": "94ceecc0",
   "metadata": {
    "pycharm": {
     "name": "#%%\n"
    }
   },
   "outputs": [
    {
     "name": "stdout",
     "output_type": "stream",
     "text": [
      "Wavelength = 0.9764Å\n",
      "\n"
     ]
    }
   ],
   "source": [
    "with open ('samples_near_volcano.xy') as f:\n",
    "    lines = f.readlines()\n",
    "print (lines[1])"
   ]
  },
  {
   "cell_type": "code",
   "execution_count": 277,
   "id": "281fe79d",
   "metadata": {
    "pycharm": {
     "name": "#%%\n"
    }
   },
   "outputs": [
    {
     "data": {
      "text/plain": [
       "(10, 1199)"
      ]
     },
     "execution_count": 277,
     "metadata": {},
     "output_type": "execute_result"
    }
   ],
   "source": [
    "data =np.loadtxt('samples_near_volcano.xy',skiprows=2).T\n",
    "data.shape"
   ]
  },
  {
   "cell_type": "code",
   "execution_count": 278,
   "id": "585b596a",
   "metadata": {
    "pycharm": {
     "name": "#%%\n"
    }
   },
   "outputs": [],
   "source": [
    "twotheta = data[0]\n",
    "new_q = np.sin(twotheta/2/360*np.pi*2)*2/0.9764*10*2*np.pi"
   ]
  },
  {
   "cell_type": "code",
   "execution_count": 279,
   "id": "49229a60",
   "metadata": {
    "pycharm": {
     "name": "#%%\n"
    }
   },
   "outputs": [],
   "source": [
    "new_sample_xrd = data[1:]"
   ]
  },
  {
   "cell_type": "code",
   "execution_count": 280,
   "id": "d848d314",
   "metadata": {
    "pycharm": {
     "name": "#%%\n"
    }
   },
   "outputs": [
    {
     "data": {
      "text/plain": [
       "dict_keys(['V', 'Cu', 'Fe'])"
      ]
     },
     "execution_count": 280,
     "metadata": {},
     "output_type": "execute_result"
    }
   ],
   "source": [
    "instance_data.comp_dict.keys()"
   ]
  },
  {
   "cell_type": "code",
   "execution_count": 281,
   "id": "71c85d6d",
   "metadata": {
    "pycharm": {
     "name": "#%%\n"
    }
   },
   "outputs": [
    {
     "data": {
      "text/plain": [
       "{'V': array([0.38 , 0.348, 0.365, 0.376, 0.388, 0.344, 0.357, 0.367, 0.394]),\n",
       " 'Cu': array([0.504, 0.533, 0.511, 0.491, 0.471, 0.519, 0.497, 0.478, 0.484]),\n",
       " 'Fe': array([0.116, 0.12 , 0.124, 0.132, 0.141, 0.137, 0.145, 0.155, 0.122])}"
      ]
     },
     "execution_count": 281,
     "metadata": {},
     "output_type": "execute_result"
    }
   ],
   "source": [
    "indexes = [83, 107, 108 ,109, 110,134,135,136,84]\n",
    "new_comp_dict=dict()\n",
    "for el in instance_data.comp_dict.keys():\n",
    "    new_comp_dict[el]=np.array([instance_data.comp_dict[el][ i] for i in indexes])\n",
    "new_comp_dict    "
   ]
  },
  {
   "cell_type": "code",
   "execution_count": 282,
   "id": "56c6b315",
   "metadata": {
    "pycharm": {
     "name": "#%%\n"
    }
   },
   "outputs": [],
   "source": [
    "volcano_instance_data = InstanceData(chemsys,photon_e,np.log(new_q),new_sample_xrd,new_comp_dict)"
   ]
  },
  {
   "cell_type": "code",
   "execution_count": 283,
   "id": "fe162458",
   "metadata": {
    "pycharm": {
     "name": "#%%\n"
    }
   },
   "outputs": [
    {
     "data": {
      "text/plain": [
       "Comp: V0.38 Fe0.116 Cu0.504"
      ]
     },
     "execution_count": 283,
     "metadata": {},
     "output_type": "execute_result"
    }
   ],
   "source": [
    "entries[-2].composition = Composition.from_dict({el:amt for el,amt in zip(volcano_instance_data.chemsys,volcano_instance_data.sample_comp[0])})\n",
    "entries[-2].composition\n",
    "# new_q = np.sin(data[:,0]/180*np.pi)*4*np.pi/0.9764\n",
    "# plt.plot(new_q,data[:,1])"
   ]
  },
  {
   "cell_type": "code",
   "execution_count": 284,
   "id": "68de2081",
   "metadata": {
    "pycharm": {
     "name": "#%%\n"
    }
   },
   "outputs": [],
   "source": [
    "#instance_data.sample_xrd[83]=data[:,1]"
   ]
  },
  {
   "cell_type": "code",
   "execution_count": 285,
   "id": "9eb1bb77",
   "metadata": {
    "pycharm": {
     "name": "#%%\n"
    }
   },
   "outputs": [],
   "source": [
    "# x = np.array([1,2,3,4,5,6]).reshape(2,3)\n",
    "# y = np.array([1,2,1])\n",
    "# x,y"
   ]
  },
  {
   "cell_type": "code",
   "execution_count": 286,
   "id": "1caedebb",
   "metadata": {
    "pycharm": {
     "name": "#%%\n"
    }
   },
   "outputs": [],
   "source": [
    "#x [:,np.where(y<2)]"
   ]
  },
  {
   "cell_type": "code",
   "execution_count": 287,
   "id": "e2b7be88",
   "metadata": {
    "pycharm": {
     "name": "#%%\n"
    }
   },
   "outputs": [
    {
     "name": "stdout",
     "output_type": "stream",
     "text": [
      "The autoreload extension is already loaded. To reload it, use:\n",
      "  %reload_ext autoreload\n"
     ]
    }
   ],
   "source": [
    "%load_ext autoreload"
   ]
  },
  {
   "cell_type": "code",
   "execution_count": 288,
   "id": "19e6014f",
   "metadata": {
    "pycharm": {
     "name": "#%%\n"
    }
   },
   "outputs": [],
   "source": [
    "\n",
    "%autoreload 2"
   ]
  },
  {
   "cell_type": "code",
   "execution_count": 336,
   "id": "41c0ac6f",
   "metadata": {
    "pycharm": {
     "name": "#%%\n"
    },
    "scrolled": false
   },
   "outputs": [
    {
     "data": {
      "image/png": "[encoded data removed]",
      "text/plain": [
       "<Figure size 576x432 with 1 Axes>"
      ]
     },
     "metadata": {
      "needs_background": "light"
     },
     "output_type": "display_data"
    },
    {
     "name": "stdout",
     "output_type": "stream",
     "text": [
      "Sample: # 0\n",
      "          Name     Entry_id  fraction     shift  width\n",
      "0         SnO2  01-000-0000  0.075488 -0.006966   0.03\n",
      "1          VO2  04-007-1466  0.161608 -0.048764   0.03\n",
      "2   V3FeCu4O13  00-000-0000  0.100222  0.003483   0.03\n",
      "3   VFe(CuO2)2  04-015-2084  0.065098  0.020899   0.03\n",
      "4        Cu4O3  04-007-2184  0.048095  0.034832   0.03\n",
      "5       VCu3O4  04-016-3668  0.057286 -0.031348   0.03\n",
      "6        Fe2O3  01-083-8470  0.065508  0.020899   0.03\n",
      "7         Cu2O  04-007-9767  0.040961  0.024382   0.03\n",
      "8         V2O3  04-018-2700  0.084080 -0.034832   0.03\n",
      "9      V2Cu2O7  04-014-0715  0.068268  0.010449   0.03\n",
      "10      FeCuO2  04-015-2087  0.046285  0.027865   0.03\n",
      "11      V2CuO6  04-008-9659  0.065394  0.048764   0.03\n",
      "12       V7O13  00-018-1449  0.074834 -0.045281   0.03\n",
      "13    Fe8CuO12  04-008-4424  0.046872  0.027865   0.03\n",
      "Current R^2 = 0.8048039056822317\n"
     ]
    },
    {
     "name": "stderr",
     "output_type": "stream",
     "text": [
      "/Users/yizhou/PycharmProjects/phasemapy/phasemapy/solver.py:382: RuntimeWarning: invalid value encountered in true_divide\n",
      "  basis_comp_np = basis_comp_np / np.sum(basis_comp_np, axis=1, keepdims=True)\n"
     ]
    },
    {
     "name": "stdout",
     "output_type": "stream",
     "text": [
      "x tensor([[0.0785, 0.0658, 0.0662, 0.0623, 0.1007, 0.0750, 0.0737, 0.0552, 0.0825,\n",
      "         0.0740, 0.0692, 0.0570, 0.0587, 0.0814]], grad_fn=<SumBackward1>)\n",
      "entropy tensor([2.6259], grad_fn=<NegBackward0>) tensor(2.6259, grad_fn=<MeanBackward0>)\n",
      "loss tensor(0.8744, grad_fn=<DivBackward0>) tensor(2.6259, grad_fn=<MeanBackward0>) tensor(nan, grad_fn=<MseLossBackward0>)\n",
      "0 nan tensor(0.8744) tensor(nan) tensor(2.6259)\n",
      "x tensor([[nan, nan, nan, nan, nan, nan, nan, nan, nan, nan, nan, nan, nan, nan]],\n",
      "       grad_fn=<SumBackward1>)\n"
     ]
    },
    {
     "ename": "ValueError",
     "evalue": "Expected parameter probs (Tensor of shape (1, 14)) of distribution Categorical(probs: torch.Size([1, 14])) to satisfy the constraint Simplex(), but found invalid values:\ntensor([[nan, nan, nan, nan, nan, nan, nan, nan, nan, nan, nan, nan, nan, nan]],\n       grad_fn=<DivBackward0>)",
     "output_type": "error",
     "traceback": [
      "\u001B[0;31m---------------------------------------------------------------------------\u001B[0m",
      "\u001B[0;31mValueError\u001B[0m                                Traceback (most recent call last)",
      "Input \u001B[0;32mIn [336]\u001B[0m, in \u001B[0;36m<cell line: 1>\u001B[0;34m()\u001B[0m\n\u001B[1;32m     15\u001B[0m sample\u001B[38;5;241m.\u001B[39mprint_solution()\n\u001B[1;32m     16\u001B[0m new_sample \u001B[38;5;241m=\u001B[39m deepcopy(sample)\n\u001B[0;32m---> 17\u001B[0m new_sample \u001B[38;5;241m=\u001B[39m \u001B[43mnew_sample\u001B[49m\u001B[38;5;241;43m.\u001B[39;49m\u001B[43moptimize\u001B[49m\u001B[43m(\u001B[49m\u001B[43mnum_epoch\u001B[49m\u001B[38;5;241;43m=\u001B[39;49m\u001B[38;5;241;43m500\u001B[39;49m\u001B[43m,\u001B[49m\u001B[43m \u001B[49m\u001B[43mprint_prog\u001B[49m\u001B[38;5;241;43m=\u001B[39;49m\u001B[38;5;28;43;01mTrue\u001B[39;49;00m\u001B[43m,\u001B[49m\u001B[43m \u001B[49m\u001B[43mloss_weight\u001B[49m\u001B[38;5;241;43m=\u001B[39;49m\u001B[43mloss_weight\u001B[49m\u001B[43m)\u001B[49m\n\u001B[1;32m     18\u001B[0m new_sample\u001B[38;5;241m.\u001B[39mrefine_one_by_one()\n\u001B[1;32m     19\u001B[0m new_sample\u001B[38;5;241m.\u001B[39mrefine_all_fractions()\n",
      "File \u001B[0;32m~/PycharmProjects/phasemapy/phasemapy/solver.py:399\u001B[0m, in \u001B[0;36mSample.optimize\u001B[0;34m(self, loss_weight, num_epoch, shifts, print_prog)\u001B[0m\n\u001B[1;32m    396\u001B[0m new_model \u001B[38;5;241m=\u001B[39m deepcopy(\u001B[38;5;28mself\u001B[39m)\n\u001B[1;32m    398\u001B[0m model \u001B[38;5;241m=\u001B[39m new_model\u001B[38;5;241m.\u001B[39mto_autoencoder(shifts, loss_weight)\n\u001B[0;32m--> 399\u001B[0m \u001B[43mmodel\u001B[49m\u001B[38;5;241;43m.\u001B[39;49m\u001B[43mtrain\u001B[49m\u001B[43m(\u001B[49m\u001B[43mnum_epoch\u001B[49m\u001B[43m,\u001B[49m\u001B[43m \u001B[49m\u001B[43mprint_prog\u001B[49m\u001B[38;5;241;43m=\u001B[39;49m\u001B[43mprint_prog\u001B[49m\u001B[43m)\u001B[49m\n\u001B[1;32m    400\u001B[0m fractions, shifts, stds \u001B[38;5;241m=\u001B[39m model\u001B[38;5;241m.\u001B[39msolution()\n\u001B[1;32m    402\u001B[0m \u001B[38;5;28;01mfor\u001B[39;00m i \u001B[38;5;129;01min\u001B[39;00m \u001B[38;5;28mrange\u001B[39m(\u001B[38;5;28mlen\u001B[39m(new_model\u001B[38;5;241m.\u001B[39msolution)):\n",
      "File \u001B[0;32m~/PycharmProjects/phasemapy/phasemapy/solver.py:112\u001B[0m, in \u001B[0;36mAutoencoder.train\u001B[0;34m(self, num_epochs, print_prog)\u001B[0m\n\u001B[1;32m    110\u001B[0m optimizer \u001B[38;5;241m=\u001B[39m th\u001B[38;5;241m.\u001B[39moptim\u001B[38;5;241m.\u001B[39mAdam(\u001B[38;5;28mself\u001B[39m\u001B[38;5;241m.\u001B[39mparameters(), lr\u001B[38;5;241m=\u001B[39m\u001B[38;5;241m0.001\u001B[39m, betas\u001B[38;5;241m=\u001B[39m(\u001B[38;5;241m0.9\u001B[39m, \u001B[38;5;241m0.999\u001B[39m), eps\u001B[38;5;241m=\u001B[39m\u001B[38;5;241m1e-06\u001B[39m, weight_decay\u001B[38;5;241m=\u001B[39m\u001B[38;5;241m0\u001B[39m)\n\u001B[1;32m    111\u001B[0m \u001B[38;5;28;01mfor\u001B[39;00m epoch \u001B[38;5;129;01min\u001B[39;00m \u001B[38;5;28mrange\u001B[39m(num_epochs):\n\u001B[0;32m--> 112\u001B[0m     xrd_loss, entropy_loss, comp_loss \u001B[38;5;241m=\u001B[39m \u001B[38;5;28;43mself\u001B[39;49m\u001B[38;5;241;43m.\u001B[39;49m\u001B[43mloss_fn\u001B[49m\u001B[43m(\u001B[49m\u001B[43m)\u001B[49m\n\u001B[1;32m    113\u001B[0m     loss \u001B[38;5;241m=\u001B[39m \u001B[38;5;28mself\u001B[39m\u001B[38;5;241m.\u001B[39mloss_weight[\u001B[38;5;124m'\u001B[39m\u001B[38;5;124mxrd_loss\u001B[39m\u001B[38;5;124m'\u001B[39m] \u001B[38;5;241m*\u001B[39m xrd_loss \u001B[38;5;241m+\u001B[39m \u001B[38;5;28mself\u001B[39m\u001B[38;5;241m.\u001B[39mloss_weight[\u001B[38;5;124m'\u001B[39m\u001B[38;5;124mentropy_loss\u001B[39m\u001B[38;5;124m'\u001B[39m] \u001B[38;5;241m*\u001B[39m entropy_loss \u001B[38;5;241m+\u001B[39m \\\n\u001B[1;32m    114\u001B[0m            \u001B[38;5;28mself\u001B[39m\u001B[38;5;241m.\u001B[39mloss_weight[\u001B[38;5;124m'\u001B[39m\u001B[38;5;124mcomp_loss\u001B[39m\u001B[38;5;124m'\u001B[39m] \u001B[38;5;241m*\u001B[39m comp_loss\n\u001B[1;32m    115\u001B[0m     optimizer\u001B[38;5;241m.\u001B[39mzero_grad()\n",
      "File \u001B[0;32m~/PycharmProjects/phasemapy/phasemapy/solver.py:105\u001B[0m, in \u001B[0;36mAutoencoder.loss_fn\u001B[0;34m(self)\u001B[0m\n\u001B[1;32m    103\u001B[0m xrd_loss \u001B[38;5;241m=\u001B[39m \u001B[38;5;28mself\u001B[39m\u001B[38;5;241m.\u001B[39mcal_xrd_loss()\n\u001B[1;32m    104\u001B[0m comp_loss \u001B[38;5;241m=\u001B[39m \u001B[38;5;28mself\u001B[39m\u001B[38;5;241m.\u001B[39mcal_comp_loss()\n\u001B[0;32m--> 105\u001B[0m entropy_loss \u001B[38;5;241m=\u001B[39m \u001B[38;5;28;43mself\u001B[39;49m\u001B[38;5;241;43m.\u001B[39;49m\u001B[43mcal_entropy_loss\u001B[49m\u001B[43m(\u001B[49m\u001B[43m)\u001B[49m\n\u001B[1;32m    106\u001B[0m \u001B[38;5;28mprint\u001B[39m (\u001B[38;5;124m'\u001B[39m\u001B[38;5;124mloss\u001B[39m\u001B[38;5;124m'\u001B[39m,xrd_loss, entropy_loss, comp_loss)\n\u001B[1;32m    107\u001B[0m \u001B[38;5;28;01mreturn\u001B[39;00m xrd_loss, entropy_loss, comp_loss\n",
      "File \u001B[0;32m~/PycharmProjects/phasemapy/phasemapy/solver.py:98\u001B[0m, in \u001B[0;36mAutoencoder.cal_entropy_loss\u001B[0;34m(self)\u001B[0m\n\u001B[1;32m     96\u001B[0m sample_basis_act \u001B[38;5;241m=\u001B[39m th\u001B[38;5;241m.\u001B[39msum(encoded, dim\u001B[38;5;241m=\u001B[39m\u001B[38;5;241m-\u001B[39m\u001B[38;5;241m1\u001B[39m)\n\u001B[1;32m     97\u001B[0m \u001B[38;5;28mprint\u001B[39m(\u001B[38;5;124m'\u001B[39m\u001B[38;5;124mx\u001B[39m\u001B[38;5;124m'\u001B[39m ,sample_basis_act)\n\u001B[0;32m---> 98\u001B[0m entropy \u001B[38;5;241m=\u001B[39m \u001B[43mCategorical\u001B[49m\u001B[43m(\u001B[49m\u001B[43mprobs\u001B[49m\u001B[38;5;241;43m=\u001B[39;49m\u001B[43msample_basis_act\u001B[49m\u001B[43m)\u001B[49m\u001B[38;5;241m.\u001B[39mentropy()\n\u001B[1;32m     99\u001B[0m \u001B[38;5;28mprint\u001B[39m(\u001B[38;5;124m'\u001B[39m\u001B[38;5;124mentropy\u001B[39m\u001B[38;5;124m'\u001B[39m,entropy,th\u001B[38;5;241m.\u001B[39mmean(entropy))\n\u001B[1;32m    100\u001B[0m \u001B[38;5;28;01mreturn\u001B[39;00m th\u001B[38;5;241m.\u001B[39mmean(entropy)\n",
      "File \u001B[0;32m~/software/miniconda3/envs/torch/lib/python3.9/site-packages/torch/distributions/categorical.py:64\u001B[0m, in \u001B[0;36mCategorical.__init__\u001B[0;34m(self, probs, logits, validate_args)\u001B[0m\n\u001B[1;32m     62\u001B[0m \u001B[38;5;28mself\u001B[39m\u001B[38;5;241m.\u001B[39m_num_events \u001B[38;5;241m=\u001B[39m \u001B[38;5;28mself\u001B[39m\u001B[38;5;241m.\u001B[39m_param\u001B[38;5;241m.\u001B[39msize()[\u001B[38;5;241m-\u001B[39m\u001B[38;5;241m1\u001B[39m]\n\u001B[1;32m     63\u001B[0m batch_shape \u001B[38;5;241m=\u001B[39m \u001B[38;5;28mself\u001B[39m\u001B[38;5;241m.\u001B[39m_param\u001B[38;5;241m.\u001B[39msize()[:\u001B[38;5;241m-\u001B[39m\u001B[38;5;241m1\u001B[39m] \u001B[38;5;28;01mif\u001B[39;00m \u001B[38;5;28mself\u001B[39m\u001B[38;5;241m.\u001B[39m_param\u001B[38;5;241m.\u001B[39mndimension() \u001B[38;5;241m>\u001B[39m \u001B[38;5;241m1\u001B[39m \u001B[38;5;28;01melse\u001B[39;00m torch\u001B[38;5;241m.\u001B[39mSize()\n\u001B[0;32m---> 64\u001B[0m \u001B[38;5;28;43msuper\u001B[39;49m\u001B[43m(\u001B[49m\u001B[43mCategorical\u001B[49m\u001B[43m,\u001B[49m\u001B[43m \u001B[49m\u001B[38;5;28;43mself\u001B[39;49m\u001B[43m)\u001B[49m\u001B[38;5;241;43m.\u001B[39;49m\u001B[38;5;21;43m__init__\u001B[39;49m\u001B[43m(\u001B[49m\u001B[43mbatch_shape\u001B[49m\u001B[43m,\u001B[49m\u001B[43m \u001B[49m\u001B[43mvalidate_args\u001B[49m\u001B[38;5;241;43m=\u001B[39;49m\u001B[43mvalidate_args\u001B[49m\u001B[43m)\u001B[49m\n",
      "File \u001B[0;32m~/software/miniconda3/envs/torch/lib/python3.9/site-packages/torch/distributions/distribution.py:55\u001B[0m, in \u001B[0;36mDistribution.__init__\u001B[0;34m(self, batch_shape, event_shape, validate_args)\u001B[0m\n\u001B[1;32m     53\u001B[0m valid \u001B[38;5;241m=\u001B[39m constraint\u001B[38;5;241m.\u001B[39mcheck(value)\n\u001B[1;32m     54\u001B[0m \u001B[38;5;28;01mif\u001B[39;00m \u001B[38;5;129;01mnot\u001B[39;00m valid\u001B[38;5;241m.\u001B[39mall():\n\u001B[0;32m---> 55\u001B[0m     \u001B[38;5;28;01mraise\u001B[39;00m \u001B[38;5;167;01mValueError\u001B[39;00m(\n\u001B[1;32m     56\u001B[0m         \u001B[38;5;124mf\u001B[39m\u001B[38;5;124m\"\u001B[39m\u001B[38;5;124mExpected parameter \u001B[39m\u001B[38;5;132;01m{\u001B[39;00mparam\u001B[38;5;132;01m}\u001B[39;00m\u001B[38;5;124m \u001B[39m\u001B[38;5;124m\"\u001B[39m\n\u001B[1;32m     57\u001B[0m         \u001B[38;5;124mf\u001B[39m\u001B[38;5;124m\"\u001B[39m\u001B[38;5;124m(\u001B[39m\u001B[38;5;132;01m{\u001B[39;00m\u001B[38;5;28mtype\u001B[39m(value)\u001B[38;5;241m.\u001B[39m\u001B[38;5;18m__name__\u001B[39m\u001B[38;5;132;01m}\u001B[39;00m\u001B[38;5;124m of shape \u001B[39m\u001B[38;5;132;01m{\u001B[39;00m\u001B[38;5;28mtuple\u001B[39m(value\u001B[38;5;241m.\u001B[39mshape)\u001B[38;5;132;01m}\u001B[39;00m\u001B[38;5;124m) \u001B[39m\u001B[38;5;124m\"\u001B[39m\n\u001B[1;32m     58\u001B[0m         \u001B[38;5;124mf\u001B[39m\u001B[38;5;124m\"\u001B[39m\u001B[38;5;124mof distribution \u001B[39m\u001B[38;5;132;01m{\u001B[39;00m\u001B[38;5;28mrepr\u001B[39m(\u001B[38;5;28mself\u001B[39m)\u001B[38;5;132;01m}\u001B[39;00m\u001B[38;5;124m \u001B[39m\u001B[38;5;124m\"\u001B[39m\n\u001B[1;32m     59\u001B[0m         \u001B[38;5;124mf\u001B[39m\u001B[38;5;124m\"\u001B[39m\u001B[38;5;124mto satisfy the constraint \u001B[39m\u001B[38;5;132;01m{\u001B[39;00m\u001B[38;5;28mrepr\u001B[39m(constraint)\u001B[38;5;132;01m}\u001B[39;00m\u001B[38;5;124m, \u001B[39m\u001B[38;5;124m\"\u001B[39m\n\u001B[1;32m     60\u001B[0m         \u001B[38;5;124mf\u001B[39m\u001B[38;5;124m\"\u001B[39m\u001B[38;5;124mbut found invalid values:\u001B[39m\u001B[38;5;130;01m\\n\u001B[39;00m\u001B[38;5;132;01m{\u001B[39;00mvalue\u001B[38;5;132;01m}\u001B[39;00m\u001B[38;5;124m\"\u001B[39m\n\u001B[1;32m     61\u001B[0m     )\n\u001B[1;32m     62\u001B[0m \u001B[38;5;28;01mif\u001B[39;00m \u001B[38;5;129;01mnot\u001B[39;00m constraint\u001B[38;5;241m.\u001B[39mcheck(\u001B[38;5;28mgetattr\u001B[39m(\u001B[38;5;28mself\u001B[39m, param))\u001B[38;5;241m.\u001B[39mall():\n\u001B[1;32m     63\u001B[0m     \u001B[38;5;28;01mraise\u001B[39;00m \u001B[38;5;167;01mValueError\u001B[39;00m(\u001B[38;5;124m\"\u001B[39m\u001B[38;5;124mThe parameter \u001B[39m\u001B[38;5;132;01m{}\u001B[39;00m\u001B[38;5;124m has invalid values\u001B[39m\u001B[38;5;124m\"\u001B[39m\u001B[38;5;241m.\u001B[39mformat(param))\n",
      "\u001B[0;31mValueError\u001B[0m: Expected parameter probs (Tensor of shape (1, 14)) of distribution Categorical(probs: torch.Size([1, 14])) to satisfy the constraint Simplex(), but found invalid values:\ntensor([[nan, nan, nan, nan, nan, nan, nan, nan, nan, nan, nan, nan, nan, nan]],\n       grad_fn=<DivBackward0>)"
     ]
    }
   ],
   "source": [
    "for i in [0]:\n",
    "    solution=[]\n",
    "    for e in entries:\n",
    "        phase = Phase.from_entry_and_instance_data(e, 1 / len(entries), volcano_instance_data)\n",
    "        solution.append(phase)\n",
    "\n",
    "#     solution = [Phase.from_entry_and_instance_data(entries[-2], 0.5, volcano_instance_data,width=0.1),\n",
    "#                 Phase.from_entry_and_instance_data(entries[-1], 0.5, volcano_instance_data,width=0.1)\n",
    "#                ]    \n",
    "\n",
    "    sample = Sample(i, volcano_instance_data.log_q, volcano_instance_data.sample_xrd[i], volcano_instance_data.chemsys,\n",
    "                            volcano_instance_data.sample_comp[i], oxide_system, volcano_instance_data.wavelength, max_q_shift, solution)\n",
    "    # sample.prune_candidates_based_on_composition(cutoff=0.05)\n",
    "    sample.prune_candidate_based_on_xrd(plot=True, cutoff=0.05)\n",
    "    sample.print_solution()\n",
    "    new_sample = deepcopy(sample)\n",
    "    new_sample = new_sample.optimize(num_epoch=500, print_prog=True, loss_weight=loss_weight)\n",
    "    new_sample.refine_one_by_one()\n",
    "    new_sample.refine_all_fractions()\n",
    "    #new_sample = new_sample.optimize(num_epoch=500, print_prog=True, loss_weight=loss_weight)\n",
    "    new_sample.refine_one_by_one()\n",
    "    new_sample.refine_all_fractions()\n",
    "    new_sample.print_solution()\n",
    "    new_sample.plot(perphase=True)\n"
   ]
  },
  {
   "cell_type": "code",
   "execution_count": null,
   "id": "d7acb58a",
   "metadata": {
    "pycharm": {
     "name": "#%%\n"
    }
   },
   "outputs": [],
   "source": []
  },
  {
   "cell_type": "code",
   "execution_count": null,
   "id": "52903eeb",
   "metadata": {
    "pycharm": {
     "name": "#%%\n"
    }
   },
   "outputs": [],
   "source": []
  },
  {
   "cell_type": "code",
   "execution_count": null,
   "id": "6c5dac20",
   "metadata": {
    "pycharm": {
     "name": "#%%\n"
    }
   },
   "outputs": [],
   "source": []
  },
  {
   "cell_type": "code",
   "execution_count": 51,
   "id": "ce08e343",
   "metadata": {
    "pycharm": {
     "name": "#%%\n"
    }
   },
   "outputs": [
    {
     "ename": "ValueError",
     "evalue": "not enough values to unpack (expected 2, got 0)",
     "output_type": "error",
     "traceback": [
      "\u001B[0;31m---------------------------------------------------------------------------\u001B[0m",
      "\u001B[0;31mValueError\u001B[0m                                Traceback (most recent call last)",
      "Input \u001B[0;32mIn [51]\u001B[0m, in \u001B[0;36m<cell line: 4>\u001B[0;34m()\u001B[0m\n\u001B[1;32m      2\u001B[0m \u001B[38;5;66;03m# new_sample = new_sample.optimize(num_epoch=500, print_prog=True, loss_weight=loss_weight)\u001B[39;00m\n\u001B[1;32m      3\u001B[0m new_sample\u001B[38;5;241m.\u001B[39mrefine_one_by_one()\n\u001B[0;32m----> 4\u001B[0m \u001B[43mnew_sample\u001B[49m\u001B[38;5;241;43m.\u001B[39;49m\u001B[43mrefine_all_fractions\u001B[49m\u001B[43m(\u001B[49m\u001B[43m)\u001B[49m\n\u001B[1;32m      5\u001B[0m \u001B[38;5;66;03m#new_sample = new_sample.optimize(num_epoch=500, print_prog=True, loss_weight=loss_weight)\u001B[39;00m\n\u001B[1;32m      6\u001B[0m new_sample\u001B[38;5;241m.\u001B[39mrefine_one_by_one()\n",
      "File \u001B[0;32m~/PycharmProjects/phasemapy/phasemapy/solver.py:515\u001B[0m, in \u001B[0;36mSample.refine_all_fractions\u001B[0;34m(self)\u001B[0m\n\u001B[1;32m    512\u001B[0m     R \u001B[38;5;241m=\u001B[39m np\u001B[38;5;241m.\u001B[39msum(w \u001B[38;5;241m*\u001B[39m (recon \u001B[38;5;241m-\u001B[39m \u001B[38;5;28mself\u001B[39m\u001B[38;5;241m.\u001B[39mexp_xrd) \u001B[38;5;241m*\u001B[39m\u001B[38;5;241m*\u001B[39m \u001B[38;5;241m2\u001B[39m) \u001B[38;5;241m/\u001B[39m np\u001B[38;5;241m.\u001B[39msum(\u001B[38;5;28mself\u001B[39m\u001B[38;5;241m.\u001B[39mexp_xrd)\n\u001B[1;32m    513\u001B[0m     \u001B[38;5;28;01mreturn\u001B[39;00m R\n\u001B[0;32m--> 515\u001B[0m res \u001B[38;5;241m=\u001B[39m \u001B[43mminimize\u001B[49m\u001B[43m(\u001B[49m\u001B[43mfit_function\u001B[49m\u001B[43m,\u001B[49m\u001B[43m \u001B[49m\u001B[43mx0\u001B[49m\u001B[38;5;241;43m=\u001B[39;49m\u001B[43mfractions\u001B[49m\u001B[43m,\u001B[49m\u001B[43m \u001B[49m\u001B[43mbounds\u001B[49m\u001B[38;5;241;43m=\u001B[39;49m\u001B[43m[\u001B[49m\u001B[43m(\u001B[49m\u001B[38;5;241;43m0\u001B[39;49m\u001B[43m,\u001B[49m\u001B[43m \u001B[49m\u001B[43mnp\u001B[49m\u001B[38;5;241;43m.\u001B[39;49m\u001B[43minf\u001B[49m\u001B[43m)\u001B[49m\u001B[43m \u001B[49m\u001B[38;5;28;43;01mfor\u001B[39;49;00m\u001B[43m \u001B[49m\u001B[43m_\u001B[49m\u001B[43m \u001B[49m\u001B[38;5;129;43;01min\u001B[39;49;00m\u001B[43m \u001B[49m\u001B[43mfractions\u001B[49m\u001B[43m]\u001B[49m\u001B[43m)\u001B[49m  \u001B[38;5;66;03m# method='bound'\u001B[39;00m\n\u001B[1;32m    516\u001B[0m \u001B[38;5;28;01mfor\u001B[39;00m i, frac \u001B[38;5;129;01min\u001B[39;00m \u001B[38;5;28menumerate\u001B[39m(res\u001B[38;5;241m.\u001B[39mx):\n\u001B[1;32m    517\u001B[0m     \u001B[38;5;28mself\u001B[39m\u001B[38;5;241m.\u001B[39msolution[i]\u001B[38;5;241m.\u001B[39mfraction \u001B[38;5;241m=\u001B[39m frac\n",
      "File \u001B[0;32m~/software/miniconda3/envs/torch/lib/python3.9/site-packages/scipy/optimize/_minimize.py:631\u001B[0m, in \u001B[0;36mminimize\u001B[0;34m(fun, x0, args, method, jac, hess, hessp, bounds, constraints, tol, callback, options)\u001B[0m\n\u001B[1;32m    624\u001B[0m \u001B[38;5;28;01mif\u001B[39;00m bounds \u001B[38;5;129;01mis\u001B[39;00m \u001B[38;5;129;01mnot\u001B[39;00m \u001B[38;5;28;01mNone\u001B[39;00m:\n\u001B[1;32m    625\u001B[0m     \u001B[38;5;28;01mif\u001B[39;00m meth \u001B[38;5;129;01min\u001B[39;00m {\u001B[38;5;124m\"\u001B[39m\u001B[38;5;124mtnc\u001B[39m\u001B[38;5;124m\"\u001B[39m, \u001B[38;5;124m\"\u001B[39m\u001B[38;5;124mslsqp\u001B[39m\u001B[38;5;124m\"\u001B[39m, \u001B[38;5;124m\"\u001B[39m\u001B[38;5;124ml-bfgs-b\u001B[39m\u001B[38;5;124m\"\u001B[39m}:\n\u001B[1;32m    626\u001B[0m         \u001B[38;5;66;03m# These methods can't take the finite-difference derivatives they\u001B[39;00m\n\u001B[1;32m    627\u001B[0m         \u001B[38;5;66;03m# need when a variable is fixed by the bounds. To avoid this issue,\u001B[39;00m\n\u001B[1;32m    628\u001B[0m         \u001B[38;5;66;03m# remove fixed variables from the problem.\u001B[39;00m\n\u001B[1;32m    629\u001B[0m \n\u001B[1;32m    630\u001B[0m         \u001B[38;5;66;03m# convert to new-style bounds so we only have to consider one case\u001B[39;00m\n\u001B[0;32m--> 631\u001B[0m         bounds \u001B[38;5;241m=\u001B[39m \u001B[43mstandardize_bounds\u001B[49m\u001B[43m(\u001B[49m\u001B[43mbounds\u001B[49m\u001B[43m,\u001B[49m\u001B[43m \u001B[49m\u001B[43mx0\u001B[49m\u001B[43m,\u001B[49m\u001B[43m \u001B[49m\u001B[38;5;124;43m'\u001B[39;49m\u001B[38;5;124;43mnew\u001B[39;49m\u001B[38;5;124;43m'\u001B[39;49m\u001B[43m)\u001B[49m\n\u001B[1;32m    633\u001B[0m         \u001B[38;5;66;03m# determine whether any variables are fixed\u001B[39;00m\n\u001B[1;32m    634\u001B[0m         i_fixed \u001B[38;5;241m=\u001B[39m (bounds\u001B[38;5;241m.\u001B[39mlb \u001B[38;5;241m==\u001B[39m bounds\u001B[38;5;241m.\u001B[39mub)\n",
      "File \u001B[0;32m~/software/miniconda3/envs/torch/lib/python3.9/site-packages/scipy/optimize/_minimize.py:925\u001B[0m, in \u001B[0;36mstandardize_bounds\u001B[0;34m(bounds, x0, meth)\u001B[0m\n\u001B[1;32m    923\u001B[0m \u001B[38;5;28;01mif\u001B[39;00m meth \u001B[38;5;129;01min\u001B[39;00m {\u001B[38;5;124m'\u001B[39m\u001B[38;5;124mtrust-constr\u001B[39m\u001B[38;5;124m'\u001B[39m, \u001B[38;5;124m'\u001B[39m\u001B[38;5;124mpowell\u001B[39m\u001B[38;5;124m'\u001B[39m, \u001B[38;5;124m'\u001B[39m\u001B[38;5;124mnelder-mead\u001B[39m\u001B[38;5;124m'\u001B[39m, \u001B[38;5;124m'\u001B[39m\u001B[38;5;124mnew\u001B[39m\u001B[38;5;124m'\u001B[39m}:\n\u001B[1;32m    924\u001B[0m     \u001B[38;5;28;01mif\u001B[39;00m \u001B[38;5;129;01mnot\u001B[39;00m \u001B[38;5;28misinstance\u001B[39m(bounds, Bounds):\n\u001B[0;32m--> 925\u001B[0m         lb, ub \u001B[38;5;241m=\u001B[39m \u001B[43mold_bound_to_new\u001B[49m\u001B[43m(\u001B[49m\u001B[43mbounds\u001B[49m\u001B[43m)\u001B[49m\n\u001B[1;32m    926\u001B[0m         bounds \u001B[38;5;241m=\u001B[39m Bounds(lb, ub)\n\u001B[1;32m    927\u001B[0m \u001B[38;5;28;01melif\u001B[39;00m meth \u001B[38;5;129;01min\u001B[39;00m (\u001B[38;5;124m'\u001B[39m\u001B[38;5;124ml-bfgs-b\u001B[39m\u001B[38;5;124m'\u001B[39m, \u001B[38;5;124m'\u001B[39m\u001B[38;5;124mtnc\u001B[39m\u001B[38;5;124m'\u001B[39m, \u001B[38;5;124m'\u001B[39m\u001B[38;5;124mslsqp\u001B[39m\u001B[38;5;124m'\u001B[39m, \u001B[38;5;124m'\u001B[39m\u001B[38;5;124mold\u001B[39m\u001B[38;5;124m'\u001B[39m):\n",
      "File \u001B[0;32m~/software/miniconda3/envs/torch/lib/python3.9/site-packages/scipy/optimize/_constraints.py:325\u001B[0m, in \u001B[0;36mold_bound_to_new\u001B[0;34m(bounds)\u001B[0m\n\u001B[1;32m    316\u001B[0m \u001B[38;5;28;01mdef\u001B[39;00m \u001B[38;5;21mold_bound_to_new\u001B[39m(bounds):\n\u001B[1;32m    317\u001B[0m     \u001B[38;5;124;03m\"\"\"Convert the old bounds representation to the new one.\u001B[39;00m\n\u001B[1;32m    318\u001B[0m \n\u001B[1;32m    319\u001B[0m \u001B[38;5;124;03m    The new representation is a tuple (lb, ub) and the old one is a list\u001B[39;00m\n\u001B[0;32m   (...)\u001B[0m\n\u001B[1;32m    323\u001B[0m \u001B[38;5;124;03m    -np.inf/np.inf.\u001B[39;00m\n\u001B[1;32m    324\u001B[0m \u001B[38;5;124;03m    \"\"\"\u001B[39;00m\n\u001B[0;32m--> 325\u001B[0m     lb, ub \u001B[38;5;241m=\u001B[39m \u001B[38;5;28mzip\u001B[39m(\u001B[38;5;241m*\u001B[39mbounds)\n\u001B[1;32m    327\u001B[0m     \u001B[38;5;66;03m# Convert occurrences of None to -inf or inf, and replace occurrences of\u001B[39;00m\n\u001B[1;32m    328\u001B[0m     \u001B[38;5;66;03m# any numpy array x with x.item(). Then wrap the results in numpy arrays.\u001B[39;00m\n\u001B[1;32m    329\u001B[0m     lb \u001B[38;5;241m=\u001B[39m np\u001B[38;5;241m.\u001B[39marray([\u001B[38;5;28mfloat\u001B[39m(_arr_to_scalar(x)) \u001B[38;5;28;01mif\u001B[39;00m x \u001B[38;5;129;01mis\u001B[39;00m \u001B[38;5;129;01mnot\u001B[39;00m \u001B[38;5;28;01mNone\u001B[39;00m \u001B[38;5;28;01melse\u001B[39;00m \u001B[38;5;241m-\u001B[39mnp\u001B[38;5;241m.\u001B[39minf\n\u001B[1;32m    330\u001B[0m                    \u001B[38;5;28;01mfor\u001B[39;00m x \u001B[38;5;129;01min\u001B[39;00m lb])\n",
      "\u001B[0;31mValueError\u001B[0m: not enough values to unpack (expected 2, got 0)"
     ]
    }
   ],
   "source": [
    "new_sample = deepcopy(sample)\n",
    "# new_sample = new_sample.optimize(num_epoch=500, print_prog=True, loss_weight=loss_weight)\n",
    "new_sample.refine_one_by_one()\n",
    "new_sample.refine_all_fractions()\n",
    "#new_sample = new_sample.optimize(num_epoch=500, print_prog=True, loss_weight=loss_weight)\n",
    "new_sample.refine_one_by_one()\n",
    "new_sample.refine_all_fractions()\n",
    "new_sample.print_solution()\n",
    "new_sample.plot(perphase=True)"
   ]
  },
  {
   "cell_type": "code",
   "execution_count": null,
   "id": "b1886dd6",
   "metadata": {
    "pycharm": {
     "name": "#%%\n"
    }
   },
   "outputs": [],
   "source": []
  },
  {
   "cell_type": "code",
   "execution_count": null,
   "id": "138f67b4",
   "metadata": {
    "pycharm": {
     "name": "#%%\n"
    }
   },
   "outputs": [],
   "source": [
    "class InstanceData:\n",
    "\n",
    "    def __init__(self, chemsys, photon_e, log_q, sample_xrd, comp_dict):\n",
    "        self.chemsys = sorted(chemsys)\n",
    "        self.log_q = log_q\n",
    "        self.sample_xrd = sample_xrd\n",
    "        self.comp_dict = comp_dict\n",
    "        self.photon_e = photon_e\n",
    "        self.wavelength = 1e10 * h * c / (self.photon_e * e)  # in A"
   ]
  },
  {
   "cell_type": "code",
   "execution_count": null,
   "id": "c5b77750",
   "metadata": {
    "pycharm": {
     "name": "#%%\n"
    }
   },
   "outputs": [],
   "source": []
  },
  {
   "cell_type": "code",
   "execution_count": null,
   "id": "e8ec8b9f",
   "metadata": {
    "pycharm": {
     "name": "#%%\n"
    }
   },
   "outputs": [],
   "source": [
    "ICDDEntry"
   ]
  },
  {
   "cell_type": "code",
   "execution_count": null,
   "id": "be3d872b",
   "metadata": {
    "pycharm": {
     "name": "#%%\n"
    }
   },
   "outputs": [],
   "source": [
    "PDF_Card_01-080-6417_SnO2.xy"
   ]
  }
 ],
 "metadata": {
  "kernelspec": {
   "display_name": "Python 3 (ipykernel)",
   "language": "python",
   "name": "python3"
  },
  "language_info": {
   "codemirror_mode": {
    "name": "ipython",
    "version": 3
   },
   "file_extension": ".py",
   "mimetype": "text/x-python",
   "name": "python",
   "nbconvert_exporter": "python",
   "pygments_lexer": "ipython3",
   "version": "3.9.12"
  }
 },
 "nbformat": 4,
 "nbformat_minor": 5
}