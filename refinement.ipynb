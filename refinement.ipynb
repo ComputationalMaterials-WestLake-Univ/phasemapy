{
 "cells": [
  {
   "cell_type": "code",
   "execution_count": 1,
   "metadata": {},
   "outputs": [],
   "source": [
    "import json\n",
    "\n",
    "import numpy as np\n",
    "from monty.json import MontyDecoder\n",
    "from phasemapy.dataio import InstanceData\n",
    "import matplotlib.pyplot as plt\n",
    "from scipy.ndimage.filters import generic_filter1d\n",
    "from scipy.special import wofz\n",
    "from pymatgen import Element\n",
    "from scipy.optimize import curve_fit\n",
    "\n",
    "chemsys = ['Mn', 'Nb', 'V']\n",
    "photon_e = 13e3\n",
    "oxide_system = True\n",
    "# resample_density = 2000\n",
    "max_shift = 0.015\n",
    "gaussian_filter = 2\n",
    "\n",
    "header = '_'.join(sorted(chemsys))\n",
    "if oxide_system:\n",
    "    header += '-O'\n",
    "\n",
    "instance_data = InstanceData.from_file('./data/instance_file_24297_NbMnVO_v02.txt', chemsys, photon_e)\n",
    "#resample_instance_data = instance_data.resample_xrd(resample_density)\n",
    "\n",
    "with open(f'./data/{header}_act_short.json')as f:\n",
    "    act = json.load(f, cls=MontyDecoder)\n",
    "\n",
    "fitting_results = np.zeros(np.load('output_solution/round3/load200_250.npy').shape)\n",
    "refine_results = {}"
   ]
  },
  {
   "cell_type": "code",
   "execution_count": 3,
   "metadata": {},
   "outputs": [
    {
     "name": "stdout",
     "output_type": "stream",
     "text": [
      "[  0   1   2   3   4   5   6   7   8   9  10  11  12  13  14  15  16  17\n",
      "  18  19  20  21  22  23  24  25  26  27  28  29  30  31  32  33  34  35\n",
      "  36  37  38  39  40  41  42  43  44  45  46  47  48  49  50  51  52  53\n",
      "  54  55  56  57  58  59  60  61  62  63  64  65  66  67  68  69  70  71\n",
      "  72  73  74  75  76  77  78  79  80  81  82  83  84  85  86  87  88  89\n",
      "  90  91  92  93  94  95  96  97  98  99 100 101 102 103 104 105 106 107\n",
      " 108 109 110 111 112 113 114 115 116 117 118 119 120 121 122 123 124 125\n",
      " 126 127 128 129 130 131 132 133 134 135 136 137 138 139 140 141 142 143\n",
      " 144 145 146 147 148 149 150 151 152 153 154 155 156 157 158 159 160 161\n",
      " 162 163 164 165 166 167 168 169 170 171 172 173 174 175 176 177 178 179\n",
      " 180 181 182 183 184 185 186 187 188 189 190 191 192 193 194 195 196 197\n",
      " 198 199 200 201 202 203 204 205 206 207 208 209 210 211 212 213 214 215\n",
      " 216 217 218 219 220 221 222 223 224 225 226 227 228 229 230 231 232 233\n",
      " 234 235 236 237 238 239 240 241 242 243 244 245 246 247 248 249 250 251\n",
      " 252 253 254 255 256 257 258 259 260 261 262 263 264 265 266 267 268 269\n",
      " 270 271 272 273 274 275 276 277 278 279 280 281 282 283 284 285 286 287\n",
      " 288 289 290 291 292 293 294 295 296 297 298 299 300 301 302 303 304 305\n",
      " 306 307 308 309 310 311 312 313 314 315 316]\n",
      "317.0\n"
     ]
    }
   ],
   "source": [
    "from glob import glob\n",
    "for filename in glob('output_solution/round3/load*.npy'):\n",
    "    load = np.load(filename)\n",
    "    for i in np.where(np.sum(load,axis=(1,2))>0.5)[0]:\n",
    "        if np.sum(fitting_results[i])==0:\n",
    "            #print (f\"loaded {i}\")\n",
    "            fitting_results[i]=load[i]\n",
    "print    (np.where(np.sum(fitting_results,axis=(1,2))>0.5)[0]) \n",
    "print (np.around(np.sum(fitting_results)))\n",
    "   "
   ]
  },
  {
   "cell_type": "code",
   "execution_count": null,
   "metadata": {},
   "outputs": [],
   "source": []
  },
  {
   "cell_type": "code",
   "execution_count": null,
   "metadata": {},
   "outputs": [],
   "source": []
  },
  {
   "cell_type": "code",
   "execution_count": 4,
   "metadata": {},
   "outputs": [
    {
     "data": {
      "text/plain": [
       "[(0.0, 'NbVO5'),\n",
       " (0.0, 'VO2'),\n",
       " (0.0, 'V2O5'),\n",
       " (0.2684017904102802, 'MnNb2O6'),\n",
       " (0.0, 'Mn2V2O7'),\n",
       " (0.0, 'Mn5VO8'),\n",
       " (0.0, 'Mn5VO8'),\n",
       " (0.0, 'Mn4Nb2O9'),\n",
       " (0.0, 'Mn2V2O7'),\n",
       " (0.0, 'Mn3O4'),\n",
       " (0.0, 'MnV2O6'),\n",
       " (0.7315983176231384, 'Mn2O3'),\n",
       " (0.0, 'Mn2V2O7'),\n",
       " (0.0, 'Mn3V2O8'),\n",
       " (0.0, 'Mn5O8'),\n",
       " (0.0, 'NbVO4'),\n",
       " (0.0, 'MnO2'),\n",
       " (0.0, 'Nb18V4O55'),\n",
       " (0.0, 'V8O15')]"
      ]
     },
     "execution_count": 4,
     "metadata": {},
     "output_type": "execute_result"
    }
   ],
   "source": [
    "list(zip(np.sum(fitting_results[37],axis=-1),[_.name for _ in act.group_entries]))"
   ]
  },
  {
   "cell_type": "code",
   "execution_count": null,
   "metadata": {},
   "outputs": [],
   "source": []
  },
  {
   "cell_type": "code",
   "execution_count": null,
   "metadata": {},
   "outputs": [],
   "source": []
  },
  {
   "cell_type": "code",
   "execution_count": null,
   "metadata": {},
   "outputs": [],
   "source": []
  },
  {
   "cell_type": "code",
   "execution_count": null,
   "metadata": {},
   "outputs": [],
   "source": [
    "\n",
    "\n"
   ]
  },
  {
   "cell_type": "code",
   "execution_count": 171,
   "metadata": {},
   "outputs": [],
   "source": [
    "class RefineModel:\n",
    "    def __init__(self,q,sample_xrd,basis_entries,fraction,shift,alpha,gamma,wavelength):\n",
    "        self.q = q\n",
    "        self.sample_xrd = sample_xrd/np.sum(sample_xrd)*6000\n",
    "        self.basis_entries = basis_entries\n",
    "        self.fraction=fraction\n",
    "        self.shift=shift\n",
    "        self.alpha=alpha\n",
    "        self.gamma=gamma\n",
    "        self.wavelength=wavelength\n",
    "        \n",
    "    \n",
    "    @property\n",
    "    def params(self):\n",
    "        params = []\n",
    "        for ge,frac, shift,alpha,gamma in zip(self.basis_entries,self.fraction, self.shift,self.alpha,self.gamma):\n",
    "            e = ge.entries[0]\n",
    "            locs,amps = e.data['xrd']\n",
    "            y=self.get_voigt_xrd(self.q,locs*shift,amps,alpha,gamma,self.wavelength)\n",
    "            amps /= (np.sum(y)/6000)\n",
    "            info = {'qlocs':locs,'amps':amps,'frac':frac,'shift':shift,'alpha':alpha,'gamma':gamma}\n",
    "            params.append(info)\n",
    "        return params\n",
    "    \n",
    "    @property\n",
    "    def current_model(self):\n",
    "        ys = []\n",
    "        for param in self.params:\n",
    "            locs = param['qlocs']\n",
    "            amps = param['amps']\n",
    "            frac = np.abs(param['frac'])\n",
    "            shift = param['shift']\n",
    "            alpha = param['alpha']\n",
    "            gamma = param['gamma']\n",
    "            y=self.get_voigt_xrd(self.q,locs*shift,amps*frac,alpha,gamma,self.wavelength)\n",
    "            ys.append(y)\n",
    "        ys = np.array(ys)    \n",
    "        return ys    \n",
    "            \n",
    "    \n",
    "    @staticmethod    \n",
    "    def Voigt(x, c, alpha,gamma,amps):\n",
    "        x = x[:,None]\n",
    "        c = c[None,:]\n",
    "        amps = np.abs(amps[None,:])\n",
    "        #alphagamma=alphagamma[None,:]\n",
    "        \"\"\" Return the c-centered Voigt line shape at x, scaled to match HWHM of Gaussian and Lorentzian profiles.\"\"\"\n",
    "\n",
    "        alpha = 0.61065 * alpha[None,:]\n",
    "        gamma = 0.61065 * gamma[None,:]\n",
    "        sigma = alpha / np.sqrt(2 * np.log(2))\n",
    "        profile = np.real(wofz(((x - c) + 1j * gamma) / (sigma * np.sqrt(2)))) / (sigma * np.sqrt(2 * np.pi))\n",
    "        profile *= amps\n",
    "        profile = np.sum(profile,axis=1)\n",
    "        return profile\n",
    "    \n",
    "    \n",
    "    @property\n",
    "    def recon(self):\n",
    "        recon = np.sum(self.current_model,axis=0)\n",
    "        return recon\n",
    "    \n",
    "    @property\n",
    "    def current_loss(self):\n",
    "        recon = self.recon\n",
    "        #return np.sum((recon-self.sample_xrd)**2)\n",
    "        return np.sqrt(np.sum((recon-self.sample_xrd)**2)/np.sum(self.sample_xrd**2))\n",
    "    \n",
    "    @staticmethod\n",
    "    def get_voigt_xrd(q_vectors,q_loc,intensity,alpha,gamma,wavelength):\n",
    "        intensity = np.abs(intensity)\n",
    "        widen = 1/np.cos(np.arcsin(np.array(q_loc)/np.pi/2/10*wavelength/2))\n",
    "        alpha = alpha*widen\n",
    "        gamma = alpha*widen       \n",
    "        data = RefineModel.Voigt(q_vectors,q_loc,alpha,gamma,intensity)#*intensity.reshape(1,-1)\n",
    "        return data\n",
    "    \n",
    "    \n",
    "    def refine_param(self,target):\n",
    "        y_data = self.sample_xrd-np.sum(self.current_model,axis=0)\n",
    "        y_data += self.current_model[target]\n",
    "        x_data = self.q\n",
    "        \n",
    "\n",
    "        param = self.params[target]\n",
    "        shift = param['shift']\n",
    "        frac = param['frac']\n",
    "        alpha = param['alpha']\n",
    "        gamma = param['gamma']\n",
    "        \n",
    "\n",
    "        def fit_function(x_data,alpha,gamma,shift,frac): #,shift,sigma\n",
    "            return RefineModel.get_voigt_xrd(x_data,param['qlocs']*shift,param['amps']*np.abs(frac),alpha,gamma,self.wavelength)\n",
    "            \n",
    "        fitresult,_ = curve_fit(fit_function,x_data,y_data,p0=[param['alpha'],param['gamma'],param['shift'],param['frac']])#param['shift'],param['sigma']\n",
    "        self.alpha[target]=fitresult[0]\n",
    "        self.gamma[target]=fitresult[1]\n",
    "        self.shift[target]=fitresult[2]\n",
    "        self.fraction[target]=fitresult[3]\n",
    "        \n",
    "        return y_data\n",
    "    \n",
    "    \n",
    "\n",
    "\n",
    "    \n",
    "    \n",
    "\n",
    "    \n",
    "\n",
    "# params = refine_model.params\n",
    "\n",
    "\n",
    "\n",
    "\n",
    "# ys = refine_model.current_model\n",
    "# plt.plot(refine_model.q,refine_model.sample_xrd,label='exp')\n",
    "# print (refine_model.current_loss)\n",
    "# refine_model.refine_param(1)\n",
    "# refine_model.refine_param(0)\n",
    "# plt.plot(refine_model.q,np.sum(refine_model.current_model,axis=0),label='new',alpha=.6) \n",
    "# print (refine_model.current_loss)\n",
    "\n",
    "# plt.legend()\n",
    "\n",
    "\n",
    "\n",
    "    \n",
    "\n",
    "   "
   ]
  },
  {
   "cell_type": "code",
   "execution_count": 174,
   "metadata": {},
   "outputs": [],
   "source": [
    "q = instance_data.q\n",
    "del refine_results[314]"
   ]
  },
  {
   "cell_type": "code",
   "execution_count": 175,
   "metadata": {},
   "outputs": [
    {
     "name": "stdout",
     "output_type": "stream",
     "text": [
      "Refining sample 314\n",
      "0.8661709565808077\n"
     ]
    },
    {
     "name": "stderr",
     "output_type": "stream",
     "text": [
      "/Users/yizhou/miniconda3/envs/py3k/lib/python3.7/site-packages/scipy/optimize/minpack.py:787: OptimizeWarning: Covariance of the parameters could not be estimated\n",
      "  category=OptimizeWarning)\n"
     ]
    },
    {
     "name": "stdout",
     "output_type": "stream",
     "text": [
      "0.44940432084767357\n",
      "{'phase_indexes': array([10, 12,  0,  1]), 'fractions': [0.5864988468202013, 0.2012073475124667, 0.17355608921678245, -0.1026622858734388], 'shifts': [0.9974126005884617, 1.0215299087870868, 0.9968735113923964, 1.0152694067992278], 'alphas': [0.06354272151256711, 0.07183596171843641, 0.05317035031137604, 0.02960347472042876], 'gammas': [0.096, 0.096, 0.096, 0.096]}\n"
     ]
    }
   ],
   "source": [
    "for sample_index in [314]:\n",
    "    if sample_index in refine_results.keys():\n",
    "        continue\n",
    "    print (f'Refining sample {sample_index}')    \n",
    "    sample_xrd = instance_data.sample_xrd[sample_index]\n",
    "    phase_indexes = np.where(act.amount_matrix[sample_index]>0)[0]    \n",
    "    phase_fraction = act.amount_matrix[sample_index][phase_indexes]\n",
    "    \n",
    "    phase_indexes = phase_indexes[np.argsort(-phase_fraction)]\n",
    "    phase_fraction = phase_fraction[np.argsort(-phase_fraction)]\n",
    "\n",
    "    basis_entries = [act.group_entries[i] for i in phase_indexes]\n",
    "\n",
    "    shift = act.shift_matrix[sample_index][phase_indexes]\n",
    "    alpha = np.array([0.096 for i in shift])\n",
    "    gamma = np.array([0.096 for i in shift])\n",
    "    \n",
    "    refine_model = RefineModel(q,sample_xrd,basis_entries,phase_fraction,\n",
    "                               shift,alpha,gamma,instance_data.wavelength)\n",
    "\n",
    "    print (refine_model.current_loss)\n",
    "    for i in range(len(phase_indexes)):\n",
    "        refine_model.refine_param(i)\n",
    "    params=refine_model.params\n",
    "    print (refine_model.current_loss)\n",
    "    #print (params)\n",
    "    \n",
    "    refine_results[sample_index]={\"phase_indexes\":phase_indexes,\"fractions\":[param['frac'] for param in params],\"shifts\":[param['shift'] for param in params],'alphas':[param['alpha'] for param in params],'gammas':[param['gamma'] for param in params]}\n",
    "    print (refine_results[sample_index])\n",
    "    \n",
    "    "
   ]
  },
  {
   "cell_type": "code",
   "execution_count": 176,
   "metadata": {},
   "outputs": [
    {
     "name": "stdout",
     "output_type": "stream",
     "text": [
      "317\n"
     ]
    }
   ],
   "source": [
    "print (len(refine_results.keys()))\n",
    "import copy\n",
    "keep_record = copy.deepcopy(refine_results)"
   ]
  },
  {
   "cell_type": "code",
   "execution_count": 177,
   "metadata": {},
   "outputs": [
    {
     "data": {
      "text/plain": [
       "dict_keys([0, 1, 2, 3, 4, 5, 6, 7, 8, 9, 10, 11, 12, 13, 14, 15, 16, 17, 18, 19, 20, 21, 22, 23, 24, 25, 26, 27, 28, 29, 30, 31, 32, 33, 34, 35, 36, 37, 38, 39, 40, 41, 42, 43, 44, 45, 46, 47, 48, 49, 50, 51, 52, 53, 54, 55, 56, 57, 58, 59, 60, 61, 62, 63, 64, 65, 66, 67, 68, 69, 70, 71, 72, 73, 74, 75, 76, 77, 78, 79, 80, 81, 82, 83, 84, 85, 86, 87, 88, 89, 90, 91, 92, 93, 94, 95, 96, 97, 98, 99, 100, 101, 102, 103, 104, 105, 106, 107, 108, 109, 110, 111, 112, 113, 114, 115, 116, 117, 118, 119, 120, 121, 122, 123, 124, 125, 126, 127, 128, 129, 130, 131, 132, 133, 134, 135, 136, 137, 138, 139, 140, 141, 142, 143, 144, 145, 146, 147, 148, 149, 150, 151, 152, 153, 154, 155, 156, 157, 158, 159, 160, 161, 162, 163, 164, 165, 166, 167, 168, 169, 170, 171, 172, 173, 174, 175, 176, 177, 178, 179, 180, 181, 182, 183, 184, 185, 186, 187, 188, 189, 190, 191, 192, 193, 194, 195, 196, 197, 198, 199, 200, 201, 202, 203, 204, 205, 206, 207, 208, 209, 210, 211, 212, 213, 214, 215, 216, 217, 218, 219, 220, 221, 222, 223, 224, 225, 226, 227, 228, 229, 230, 231, 232, 233, 234, 235, 236, 237, 238, 239, 240, 241, 242, 243, 244, 245, 246, 247, 248, 249, 250, 251, 252, 253, 254, 255, 256, 257, 258, 259, 260, 261, 262, 263, 264, 265, 266, 267, 268, 269, 270, 271, 272, 273, 274, 275, 276, 277, 278, 279, 280, 281, 282, 283, 284, 285, 286, 287, 288, 289, 290, 291, 292, 293, 294, 295, 296, 297, 298, 299, 300, 301, 302, 303, 304, 305, 306, 307, 308, 309, 310, 311, 312, 313, 315, 316, 314])"
      ]
     },
     "execution_count": 177,
     "metadata": {},
     "output_type": "execute_result"
    }
   ],
   "source": [
    "keep_record.keys()"
   ]
  },
  {
   "cell_type": "code",
   "execution_count": 178,
   "metadata": {},
   "outputs": [],
   "source": [
    "with open ('/Users/yizhou/Pycharmprojects/phasemapy/data/data_Si/K8soltn/Nb-Mn-VO_output_Ori_Rec.txt') as f:\n",
    "    lines = f.readlines()\n",
    "orig_xrd_2016 = []\n",
    "recon_xrd_2016 = []\n",
    "\n",
    "for l in lines[3:317+3]:\n",
    "    orig_xrd_2016.append(list(map(float,l.split('=')[1].split(','))))\n",
    "orig_xrd_2016 = np.array(orig_xrd_2016) \n",
    "for l in lines[317+3:317*2+3]:\n",
    "    recon_xrd_2016.append(list(map(float,l.split('=')[1].split(','))))\n",
    "recon_xrd_2016 = np.array(recon_xrd_2016)  \n",
    "\n",
    "q_2016 = list(map(float,lines[2].split('=')[1].split(',')))\n",
    "\n",
    "recon_xrd_2016=recon_xrd_2016/np.sum(orig_xrd_2016,axis=1,keepdims=True)*6000\n",
    "orig_xrd_2016=orig_xrd_2016/np.sum(orig_xrd_2016,axis=1,keepdims=True)*6000\n"
   ]
  },
  {
   "cell_type": "code",
   "execution_count": 179,
   "metadata": {},
   "outputs": [],
   "source": [
    "model_2016_loss = np.sqrt(np.sum((recon_xrd_2016-orig_xrd_2016)**2,axis=1)/np.sum(orig_xrd_2016**2,axis=1))"
   ]
  },
  {
   "cell_type": "code",
   "execution_count": 182,
   "metadata": {},
   "outputs": [
    {
     "name": "stdout",
     "output_type": "stream",
     "text": [
      "000 0.151775\n",
      "001 0.167404\n",
      "002 0.150384\n",
      "003 0.119580\n",
      "004 0.140956\n",
      "005 0.154105\n",
      "006 0.156670\n",
      "007 0.202118\n",
      "008 0.240831\n",
      "009 0.237219\n",
      "010 0.192292\n",
      "011 0.179945\n",
      "012 0.184215\n",
      "013 0.160743\n",
      "014 0.124334\n",
      "015 0.137950\n",
      "016 0.152158\n",
      "017 0.157210\n",
      "018 0.193761\n",
      "019 0.220864\n",
      "020 0.236010\n",
      "021 0.247526\n",
      "022 0.242533\n",
      "023 0.190431\n",
      "024 0.194739\n",
      "025 0.157139\n",
      "026 0.157282\n",
      "027 0.160135\n",
      "028 0.140426\n",
      "029 0.131963\n",
      "030 0.160583\n",
      "031 0.172996\n",
      "032 0.194498\n",
      "033 0.214209\n",
      "034 0.240139\n",
      "035 0.229589\n",
      "036 0.233846\n",
      "037 0.232840\n",
      "038 0.185442\n",
      "039 0.183848\n",
      "040 0.189375\n",
      "041 0.141242\n",
      "042 0.155156\n",
      "043 0.135606\n",
      "044 0.147946\n",
      "045 0.146431\n",
      "046 0.166999\n",
      "047 0.179397\n",
      "048 0.188312\n",
      "049 0.221744\n",
      "050 0.250167\n",
      "051 0.248662\n",
      "052 0.221573\n",
      "053 0.224045\n",
      "054 0.210711\n",
      "055 0.180967\n",
      "056 0.179077\n",
      "057 0.186962\n",
      "058 0.135403\n",
      "059 0.141718\n",
      "060 0.153631\n",
      "061 0.136909\n",
      "062 0.128748\n",
      "063 0.161309\n",
      "064 0.201769\n",
      "065 0.204047\n",
      "066 0.243423\n",
      "067 0.264242\n",
      "068 0.265873\n",
      "069 0.271754\n",
      "070 0.224563\n",
      "071 0.220803\n",
      "072 0.181231\n",
      "073 0.178245\n",
      "074 0.181998\n",
      "075 0.192345\n",
      "076 0.142260\n",
      "077 0.131721\n",
      "078 0.145403\n",
      "079 0.144300\n",
      "080 0.146065\n",
      "081 0.147938\n",
      "082 0.179886\n",
      "083 0.179747\n",
      "084 0.238688\n",
      "085 0.252219\n",
      "086 0.259393\n",
      "087 0.280240\n",
      "088 0.281820\n",
      "089 0.233587\n",
      "090 0.239878\n",
      "091 0.184189\n",
      "092 0.184169\n",
      "093 0.186356\n",
      "094 0.189061\n",
      "095 0.160314\n",
      "096 0.119909\n",
      "097 0.146465\n",
      "098 0.146409\n",
      "099 0.151368\n",
      "100 0.154130\n",
      "101 0.202299\n",
      "102 0.198243\n",
      "103 0.217065\n",
      "104 0.238768\n",
      "105 0.240983\n",
      "106 0.252164\n",
      "107 0.280423\n",
      "108 0.297695\n",
      "109 0.284726\n",
      "110 0.191468\n",
      "111 0.192787\n",
      "112 0.186840\n",
      "113 0.189740\n",
      "114 0.186883\n",
      "115 0.135175\n",
      "116 0.141234\n",
      "117 0.173250\n",
      "118 0.164822\n",
      "119 0.172712\n",
      "120 0.184025\n",
      "121 0.244453\n",
      "122 0.219738\n",
      "123 0.235571\n",
      "124 0.237618\n",
      "125 0.277338\n",
      "126 0.267700\n",
      "127 0.296004\n",
      "128 0.308280\n",
      "129 0.209004\n",
      "130 0.196193\n",
      "131 0.182278\n",
      "132 0.186450\n",
      "133 0.214307\n",
      "134 0.166857\n",
      "135 0.149421\n",
      "136 0.176911\n",
      "137 0.193481\n",
      "138 0.194659\n",
      "139 0.236689\n",
      "140 0.240318\n",
      "141 0.249829\n",
      "142 0.260050\n",
      "143 0.266267\n",
      "144 0.282719\n",
      "145 0.299622\n",
      "146 0.278196\n",
      "147 0.308662\n",
      "148 0.211938\n",
      "149 0.206230\n",
      "150 0.196844\n",
      "151 0.203688\n",
      "152 0.200298\n",
      "153 0.206797\n",
      "154 0.210560\n",
      "155 0.165937\n",
      "156 0.185436\n",
      "157 0.219012\n",
      "158 0.214778\n",
      "159 0.225578\n",
      "160 0.248068\n",
      "161 0.260272\n",
      "162 0.244945\n",
      "163 0.255994\n",
      "164 0.284931\n",
      "165 0.265117\n",
      "166 0.318198\n",
      "167 0.279450\n",
      "168 0.324516\n",
      "169 0.212065\n",
      "170 0.221284\n",
      "171 0.214439\n",
      "172 0.233248\n",
      "173 0.223002\n",
      "174 0.234631\n",
      "175 0.218652\n",
      "176 0.192509\n",
      "177 0.214093\n",
      "178 0.244655\n",
      "179 0.266526\n",
      "180 0.268641\n",
      "181 0.256000\n",
      "182 0.269455\n",
      "183 0.281751\n",
      "184 0.299684\n",
      "185 0.266012\n",
      "186 0.272060\n",
      "187 0.327541\n",
      "188 0.211486\n",
      "189 0.239775\n",
      "190 0.210092\n",
      "191 0.216155\n",
      "192 0.279454\n",
      "193 0.235750\n",
      "194 0.250822\n",
      "195 0.244356\n",
      "196 0.237632\n",
      "197 0.257231\n",
      "198 0.289971\n",
      "199 0.296332\n",
      "200 0.264265\n",
      "201 0.286380\n",
      "202 0.270638\n",
      "203 0.279190\n",
      "204 0.290043\n",
      "205 0.297819\n",
      "206 0.282833\n",
      "207 0.247431\n",
      "208 0.245398\n",
      "209 0.233385\n",
      "210 0.228513\n",
      "211 0.508068\n",
      "212 0.449904\n",
      "213 0.207355\n",
      "214 0.257144\n",
      "215 0.263378\n",
      "216 0.268199\n",
      "217 0.303963\n",
      "218 0.320560\n",
      "219 0.316680\n",
      "220 0.317760\n",
      "221 0.298514\n",
      "222 0.304841\n",
      "223 0.294290\n",
      "224 0.304734\n",
      "225 0.280052\n",
      "226 0.241398\n",
      "227 0.262278\n",
      "228 0.323448\n",
      "229 0.337391\n",
      "230 0.243750\n",
      "231 0.246678\n",
      "232 0.245200\n",
      "233 0.345606\n",
      "234 0.271835\n",
      "235 0.288100\n",
      "236 0.254945\n",
      "237 0.315587\n",
      "238 0.336420\n",
      "239 0.348187\n",
      "240 0.318754\n",
      "241 0.299827\n",
      "242 0.311381\n",
      "243 0.302772\n",
      "244 0.301828\n",
      "245 0.334602\n",
      "246 0.330989\n",
      "247 0.321510\n",
      "248 0.406421\n",
      "249 0.367942\n",
      "250 0.434712\n",
      "251 0.501488\n",
      "252 0.446190\n",
      "253 0.393559\n",
      "254 0.336161\n",
      "255 0.271063\n",
      "256 0.318111\n",
      "257 0.338366\n",
      "258 0.359373\n",
      "259 0.364477\n",
      "260 0.312184\n",
      "261 0.317144\n",
      "262 0.284478\n",
      "263 0.315604\n",
      "264 0.325102\n",
      "265 0.338119\n",
      "266 0.323431\n",
      "267 0.293341\n",
      "268 0.327436\n",
      "269 0.379454\n",
      "270 0.425041\n",
      "271 0.458458\n",
      "272 0.351827\n",
      "273 0.314084\n",
      "274 0.300297\n",
      "275 0.324672\n",
      "276 0.320299\n",
      "277 0.352648\n",
      "278 0.313278\n",
      "279 0.358467\n",
      "280 0.299305\n",
      "281 0.324404\n",
      "282 0.329548\n",
      "283 0.382543\n",
      "284 0.370932\n",
      "285 0.410617\n",
      "286 0.336496\n",
      "287 0.360776\n",
      "288 0.439669\n",
      "289 0.360339\n",
      "290 0.356703\n",
      "291 0.330728\n",
      "292 0.315167\n",
      "293 0.306816\n",
      "294 0.313585\n",
      "295 0.348341\n",
      "296 0.332716\n",
      "297 0.332613\n",
      "298 0.338618\n",
      "299 0.360954\n",
      "300 0.390505\n",
      "301 0.430022\n",
      "302 0.490882\n",
      "303 0.378656\n",
      "304 0.399012\n",
      "305 0.331025\n",
      "306 0.307275\n",
      "307 0.323234\n",
      "308 0.318339\n",
      "309 0.319827\n",
      "310 0.340473\n",
      "311 0.351190\n",
      "312 0.374648\n",
      "313 0.337719\n",
      "314 0.449404\n",
      "315 0.416442\n",
      "316 0.325163\n"
     ]
    }
   ],
   "source": [
    "recons,origs = [],[]\n",
    "for sample_index in range(317):\n",
    "    #print (refine_results[sample_index])\n",
    "#     if sample_index not in refine_results.keys():\n",
    "#         continue\n",
    "    param = refine_results[sample_index]\n",
    "    sample_xrd = instance_data.sample_xrd[sample_index]\n",
    "    basis_entries = [act.group_entries[i] for i in param['phase_indexes']]\n",
    "    phase_fraction = param['fractions']\n",
    "    shift = param['shifts']\n",
    "    alpha = param['alphas']\n",
    "    gamma = param['gammas']\n",
    "    refine_model = RefineModel(q,sample_xrd,basis_entries,phase_fraction,\n",
    "                               shift,alpha,gamma,instance_data.wavelength)\n",
    "    print (f'{sample_index:03} {refine_model.current_loss:.6f}')\n",
    "    \n",
    "    recons.append(refine_model.recon)\n",
    "    origs.append(refine_model.sample_xrd)\n",
    "    \n",
    "    plt.plot(q,refine_model.sample_xrd,label='orig.')\n",
    "    plt.plot(q,refine_model.recon,alpha=0.5,label='recon.our model')\n",
    "    plt.plot(q,refine_model.recon-refine_model.sample_xrd-20,label='diff. our model')\n",
    "    plt.plot(q_2016,recon_xrd_2016[sample_index],alpha=0.5,label='recon 2016')\n",
    "    \n",
    "\n",
    "    plt.plot(q_2016,recon_xrd_2016[sample_index]-orig_xrd_2016[sample_index]-40,label='diff 2016')\n",
    "    plt.legend(title=f'Sample {sample_index}')\n",
    "    plt.savefig(f'recon_figures/recon_{sample_index:03}.pdf',format='pdf',transparent=True,bbox_inches='tight')\n",
    "    plt.close()\n",
    "    "
   ]
  },
  {
   "cell_type": "code",
   "execution_count": 183,
   "metadata": {},
   "outputs": [],
   "source": [
    "recons = np.array(recons)\n",
    "origs = np.array(origs)\n",
    "model_our_loss = np.sqrt(np.sum((recons-origs)**2,axis=-1)/np.sum(origs**2,axis=1))\n",
    "\n"
   ]
  },
  {
   "cell_type": "code",
   "execution_count": 196,
   "metadata": {},
   "outputs": [
    {
     "name": "stdout",
     "output_type": "stream",
     "text": [
      "0.2715105268059571 0.2544294073926528\n",
      "[221 242 220 222 261]\n",
      "[214 215 194 234 166]\n",
      "[251 211 252 250 302]\n"
     ]
    },
    {
     "data": {
      "text/plain": [
       "Text(0.5, 0, 'Model (current) XRD loss')"
      ]
     },
     "execution_count": 196,
     "metadata": {},
     "output_type": "execute_result"
    },
    {
     "data": {
      "image/png": "[encoded data removed]",
      "text/plain": [
       "<Figure size 288x288 with 1 Axes>"
      ]
     },
     "metadata": {
      "needs_background": "light"
     },
     "output_type": "display_data"
    }
   ],
   "source": [
    "plt.figure(figsize=(4,4))\n",
    "plt.plot(model_our_loss,model_2016_loss,'o',mfc='None')\n",
    "plt.axis('equal')\n",
    "\n",
    "plt.plot([0,1],[0,1],'k--',lw=0.5)\n",
    "plt.xlim(0,1)\n",
    "\n",
    "print (np.average(model_2016_loss),np.average(model_our_loss))\n",
    "\n",
    "print (np.argsort(model_2016_loss-model_our_loss)[:5]) #out worst\n",
    "print (np.argsort(-model_2016_loss+model_our_loss)[:5]) # 2016 worst\n",
    "\n",
    "print (np.argsort(-model_2016_loss*model_our_loss)[:5]) # both worst\n",
    "\n",
    "plt.ylabel('Model (2016) XRD loss')\n",
    "plt.xlabel('Model (current) XRD loss')\n"
   ]
  },
  {
   "cell_type": "code",
   "execution_count": 151,
   "metadata": {},
   "outputs": [
    {
     "data": {
      "text/plain": [
       "array([314, 221, 242, 220, 222, 261, 201, 241, 219, 199, 243, 244, 240,\n",
       "       259, 218, 181, 180, 200, 304, 260, 239, 303, 202, 223, 271, 198,\n",
       "       179, 182, 160, 233, 278, 258, 288, 287, 262, 224, 284, 203, 268,\n",
       "       178, 285, 277, 280, 183, 286, 265, 134, 263, 157, 226, 196, 173,\n",
       "       172, 153, 161,  95, 279, 225, 155, 227, 228, 190, 238, 139, 283,\n",
       "       159, 302, 269, 266, 305, 270, 290, 267, 176,  58, 171, 264, 204,\n",
       "       158, 289, 213, 115, 217, 152, 291, 207, 114, 184, 175,  41, 138,\n",
       "       151, 154, 312, 205, 273, 162, 191, 313, 129,  76, 229, 137, 210,\n",
       "       133, 110, 192, 188,  25, 149, 193, 150, 170, 211,  96, 254, 272,\n",
       "       142, 209, 177,  10, 135, 148, 315, 169, 231, 300, 212, 245, 163,\n",
       "       230, 119,  77,  11, 164, 311, 276, 197, 306, 208, 206, 189, 132,\n",
       "       131, 100, 185, 316, 237, 156, 136, 246, 120, 130, 141,  91, 111,\n",
       "       113, 143,  92, 112, 257,  59, 118, 117,  98, 281, 122, 301, 282,\n",
       "       247,  99,  44, 116, 123,  97, 187,  93, 299, 310,  78,  74, 144,\n",
       "       253, 232,  42,  12, 186,  13,  27,  73,  75,  60,  45,  81,  61,\n",
       "         7,  79,  94,  43,  72,   8,  84,  19, 140,  56,  80, 104,   2,\n",
       "        26, 103,  62,  38,  40,  57, 165,  28, 256,  24,  23,  14, 250,\n",
       "       124,  18,  34, 309,  29,  50,  83,  55,   3,  39,  63,  15,   4,\n",
       "       293,   1, 216, 298,  68, 249, 252,  20, 275, 251, 248, 102, 147,\n",
       "        49,  65,  33,  87,  67,  51,  85, 274,  32,  86, 128, 292, 101,\n",
       "       127, 308, 167,  82, 297, 107, 146,  69,  48,   0,  46, 121,  66,\n",
       "       108, 109,   5,  30,  16, 296, 126, 174,  88, 307,  64, 106,  35,\n",
       "       105, 295, 255,   9, 145, 168,  90, 125,   6,  47, 294, 195,  52,\n",
       "        54,  31, 236,  17,  89, 235,  70,  22,  21,  71,  37,  53,  36,\n",
       "       166, 234, 194, 215, 214])"
      ]
     },
     "execution_count": 151,
     "metadata": {},
     "output_type": "execute_result"
    }
   ],
   "source": [
    "np.argsort(-model_our_loss+model_2016_loss)"
   ]
  },
  {
   "cell_type": "code",
   "execution_count": 152,
   "metadata": {},
   "outputs": [
    {
     "data": {
      "text/plain": [
       "(0.757270884678302, 0.44700706709538846)"
      ]
     },
     "execution_count": 152,
     "metadata": {},
     "output_type": "execute_result"
    }
   ],
   "source": [
    "model_our_loss[314],model_2016_loss[314]"
   ]
  },
  {
   "cell_type": "code",
   "execution_count": 198,
   "metadata": {},
   "outputs": [
    {
     "name": "stdout",
     "output_type": "stream",
     "text": [
      "(317, 19)\n"
     ]
    },
    {
     "data": {
      "text/plain": [
       "308.3849926101654"
      ]
     },
     "execution_count": 198,
     "metadata": {},
     "output_type": "execute_result"
    }
   ],
   "source": [
    "new_amount_matrix=np.zeros(act.amount_matrix.shape)\n",
    "print (new_amount_matrix.shape)\n",
    "for sample_index in refine_results:\n",
    "    new_amount_matrix[sample_index][refine_results[sample_index]['phase_indexes']]=refine_results[sample_index]['fractions']\n",
    "np.sum(new_amount_matrix)    "
   ]
  },
  {
   "cell_type": "code",
   "execution_count": 200,
   "metadata": {},
   "outputs": [
    {
     "data": {
      "text/plain": [
       "317.0"
      ]
     },
     "execution_count": 200,
     "metadata": {},
     "output_type": "execute_result"
    }
   ],
   "source": [
    "new_amount_matrix/=np.sum(new_amount_matrix,axis=1,keepdims=True)\n",
    "np.sum(new_amount_matrix) "
   ]
  },
  {
   "cell_type": "code",
   "execution_count": 201,
   "metadata": {},
   "outputs": [],
   "source": [
    "np.save('refine_amt_matrix.npy',new_amount_matrix)"
   ]
  },
  {
   "cell_type": "code",
   "execution_count": 202,
   "metadata": {},
   "outputs": [
    {
     "name": "stdout",
     "output_type": "stream",
     "text": [
      "refine_amt_matrix.npy                         100%   47KB   3.1MB/s   00:00    \n"
     ]
    }
   ],
   "source": [
    "!scp refine_amt_matrix.npy macmini:~"
   ]
  },
  {
   "cell_type": "code",
   "execution_count": null,
   "metadata": {},
   "outputs": [],
   "source": []
  },
  {
   "cell_type": "code",
   "execution_count": null,
   "metadata": {},
   "outputs": [],
   "source": []
  },
  {
   "cell_type": "code",
   "execution_count": null,
   "metadata": {},
   "outputs": [],
   "source": []
  },
  {
   "cell_type": "code",
   "execution_count": null,
   "metadata": {},
   "outputs": [],
   "source": []
  },
  {
   "cell_type": "code",
   "execution_count": null,
   "metadata": {},
   "outputs": [],
   "source": []
  },
  {
   "cell_type": "code",
   "execution_count": null,
   "metadata": {},
   "outputs": [],
   "source": []
  },
  {
   "cell_type": "code",
   "execution_count": 52,
   "metadata": {},
   "outputs": [
    {
     "ename": "TypeError",
     "evalue": "<_io.TextIOWrapper name='./data/Mn_Nb_V-O_act_short.json' mode='r' encoding='UTF-8'> is not a callable object",
     "output_type": "error",
     "traceback": [
      "\u001b[0;31m---------------------------------------------------------------------------\u001b[0m",
      "\u001b[0;31mTypeError\u001b[0m                                 Traceback (most recent call last)",
      "\u001b[0;32m<ipython-input-52-b5f1b70c936b>\u001b[0m in \u001b[0;36m<module>\u001b[0;34m\u001b[0m\n\u001b[0;32m----> 1\u001b[0;31m \u001b[0mcurve_fit\u001b[0m\u001b[0;34m(\u001b[0m\u001b[0mf\u001b[0m\u001b[0;34m,\u001b[0m \u001b[0mxdata\u001b[0m\u001b[0;34m,\u001b[0m \u001b[0mydata\u001b[0m\u001b[0;34m)\u001b[0m\u001b[0;34m\u001b[0m\u001b[0;34m\u001b[0m\u001b[0m\n\u001b[0m",
      "\u001b[0;32m~/miniconda3/envs/py3k/lib/python3.7/site-packages/scipy/optimize/minpack.py\u001b[0m in \u001b[0;36mcurve_fit\u001b[0;34m(f, xdata, ydata, p0, sigma, absolute_sigma, check_finite, bounds, method, jac, **kwargs)\u001b[0m\n\u001b[1;32m    676\u001b[0m         \u001b[0;31m# determine number of parameters by inspecting the function\u001b[0m\u001b[0;34m\u001b[0m\u001b[0;34m\u001b[0m\u001b[0;34m\u001b[0m\u001b[0m\n\u001b[1;32m    677\u001b[0m         \u001b[0;32mfrom\u001b[0m \u001b[0mscipy\u001b[0m\u001b[0;34m.\u001b[0m\u001b[0m_lib\u001b[0m\u001b[0;34m.\u001b[0m\u001b[0m_util\u001b[0m \u001b[0;32mimport\u001b[0m \u001b[0mgetargspec_no_self\u001b[0m \u001b[0;32mas\u001b[0m \u001b[0m_getargspec\u001b[0m\u001b[0;34m\u001b[0m\u001b[0;34m\u001b[0m\u001b[0m\n\u001b[0;32m--> 678\u001b[0;31m         \u001b[0margs\u001b[0m\u001b[0;34m,\u001b[0m \u001b[0mvarargs\u001b[0m\u001b[0;34m,\u001b[0m \u001b[0mvarkw\u001b[0m\u001b[0;34m,\u001b[0m \u001b[0mdefaults\u001b[0m \u001b[0;34m=\u001b[0m \u001b[0m_getargspec\u001b[0m\u001b[0;34m(\u001b[0m\u001b[0mf\u001b[0m\u001b[0;34m)\u001b[0m\u001b[0;34m\u001b[0m\u001b[0;34m\u001b[0m\u001b[0m\n\u001b[0m\u001b[1;32m    679\u001b[0m         \u001b[0;32mif\u001b[0m \u001b[0mlen\u001b[0m\u001b[0;34m(\u001b[0m\u001b[0margs\u001b[0m\u001b[0;34m)\u001b[0m \u001b[0;34m<\u001b[0m \u001b[0;36m2\u001b[0m\u001b[0;34m:\u001b[0m\u001b[0;34m\u001b[0m\u001b[0;34m\u001b[0m\u001b[0m\n\u001b[1;32m    680\u001b[0m             \u001b[0;32mraise\u001b[0m \u001b[0mValueError\u001b[0m\u001b[0;34m(\u001b[0m\u001b[0;34m\"Unable to determine number of fit parameters.\"\u001b[0m\u001b[0;34m)\u001b[0m\u001b[0;34m\u001b[0m\u001b[0;34m\u001b[0m\u001b[0m\n",
      "\u001b[0;32m~/miniconda3/envs/py3k/lib/python3.7/site-packages/scipy/_lib/_util.py\u001b[0m in \u001b[0;36mgetargspec_no_self\u001b[0;34m(func)\u001b[0m\n\u001b[1;32m    289\u001b[0m             \u001b[0mpython\u001b[0m \u001b[0;36m2.\u001b[0m\u001b[0mx\u001b[0m\u001b[0;34m,\u001b[0m \u001b[0;32mand\u001b[0m \u001b[0minspect\u001b[0m\u001b[0;34m.\u001b[0m\u001b[0msignature\u001b[0m\u001b[0;34m(\u001b[0m\u001b[0;34m)\u001b[0m \u001b[0munder\u001b[0m \u001b[0mpython\u001b[0m \u001b[0;36m3.\u001b[0m\u001b[0mx\u001b[0m\u001b[0;34m.\u001b[0m\u001b[0;34m\u001b[0m\u001b[0;34m\u001b[0m\u001b[0m\n\u001b[1;32m    290\u001b[0m         \"\"\"\n\u001b[0;32m--> 291\u001b[0;31m         \u001b[0msig\u001b[0m \u001b[0;34m=\u001b[0m \u001b[0minspect\u001b[0m\u001b[0;34m.\u001b[0m\u001b[0msignature\u001b[0m\u001b[0;34m(\u001b[0m\u001b[0mfunc\u001b[0m\u001b[0;34m)\u001b[0m\u001b[0;34m\u001b[0m\u001b[0;34m\u001b[0m\u001b[0m\n\u001b[0m\u001b[1;32m    292\u001b[0m         args = [\n\u001b[1;32m    293\u001b[0m             \u001b[0mp\u001b[0m\u001b[0;34m.\u001b[0m\u001b[0mname\u001b[0m \u001b[0;32mfor\u001b[0m \u001b[0mp\u001b[0m \u001b[0;32min\u001b[0m \u001b[0msig\u001b[0m\u001b[0;34m.\u001b[0m\u001b[0mparameters\u001b[0m\u001b[0;34m.\u001b[0m\u001b[0mvalues\u001b[0m\u001b[0;34m(\u001b[0m\u001b[0;34m)\u001b[0m\u001b[0;34m\u001b[0m\u001b[0;34m\u001b[0m\u001b[0m\n",
      "\u001b[0;32m~/miniconda3/envs/py3k/lib/python3.7/inspect.py\u001b[0m in \u001b[0;36msignature\u001b[0;34m(obj, follow_wrapped)\u001b[0m\n\u001b[1;32m   3081\u001b[0m \u001b[0;32mdef\u001b[0m \u001b[0msignature\u001b[0m\u001b[0;34m(\u001b[0m\u001b[0mobj\u001b[0m\u001b[0;34m,\u001b[0m \u001b[0;34m*\u001b[0m\u001b[0;34m,\u001b[0m \u001b[0mfollow_wrapped\u001b[0m\u001b[0;34m=\u001b[0m\u001b[0;32mTrue\u001b[0m\u001b[0;34m)\u001b[0m\u001b[0;34m:\u001b[0m\u001b[0;34m\u001b[0m\u001b[0;34m\u001b[0m\u001b[0m\n\u001b[1;32m   3082\u001b[0m     \u001b[0;34m\"\"\"Get a signature object for the passed callable.\"\"\"\u001b[0m\u001b[0;34m\u001b[0m\u001b[0;34m\u001b[0m\u001b[0m\n\u001b[0;32m-> 3083\u001b[0;31m     \u001b[0;32mreturn\u001b[0m \u001b[0mSignature\u001b[0m\u001b[0;34m.\u001b[0m\u001b[0mfrom_callable\u001b[0m\u001b[0;34m(\u001b[0m\u001b[0mobj\u001b[0m\u001b[0;34m,\u001b[0m \u001b[0mfollow_wrapped\u001b[0m\u001b[0;34m=\u001b[0m\u001b[0mfollow_wrapped\u001b[0m\u001b[0;34m)\u001b[0m\u001b[0;34m\u001b[0m\u001b[0;34m\u001b[0m\u001b[0m\n\u001b[0m\u001b[1;32m   3084\u001b[0m \u001b[0;34m\u001b[0m\u001b[0m\n\u001b[1;32m   3085\u001b[0m \u001b[0;34m\u001b[0m\u001b[0m\n",
      "\u001b[0;32m~/miniconda3/envs/py3k/lib/python3.7/inspect.py\u001b[0m in \u001b[0;36mfrom_callable\u001b[0;34m(cls, obj, follow_wrapped)\u001b[0m\n\u001b[1;32m   2831\u001b[0m         \u001b[0;34m\"\"\"Constructs Signature for the given callable object.\"\"\"\u001b[0m\u001b[0;34m\u001b[0m\u001b[0;34m\u001b[0m\u001b[0m\n\u001b[1;32m   2832\u001b[0m         return _signature_from_callable(obj, sigcls=cls,\n\u001b[0;32m-> 2833\u001b[0;31m                                         follow_wrapper_chains=follow_wrapped)\n\u001b[0m\u001b[1;32m   2834\u001b[0m \u001b[0;34m\u001b[0m\u001b[0m\n\u001b[1;32m   2835\u001b[0m     \u001b[0;34m@\u001b[0m\u001b[0mproperty\u001b[0m\u001b[0;34m\u001b[0m\u001b[0;34m\u001b[0m\u001b[0m\n",
      "\u001b[0;32m~/miniconda3/envs/py3k/lib/python3.7/inspect.py\u001b[0m in \u001b[0;36m_signature_from_callable\u001b[0;34m(obj, follow_wrapper_chains, skip_bound_arg, sigcls)\u001b[0m\n\u001b[1;32m   2206\u001b[0m \u001b[0;34m\u001b[0m\u001b[0m\n\u001b[1;32m   2207\u001b[0m     \u001b[0;32mif\u001b[0m \u001b[0;32mnot\u001b[0m \u001b[0mcallable\u001b[0m\u001b[0;34m(\u001b[0m\u001b[0mobj\u001b[0m\u001b[0;34m)\u001b[0m\u001b[0;34m:\u001b[0m\u001b[0;34m\u001b[0m\u001b[0;34m\u001b[0m\u001b[0m\n\u001b[0;32m-> 2208\u001b[0;31m         \u001b[0;32mraise\u001b[0m \u001b[0mTypeError\u001b[0m\u001b[0;34m(\u001b[0m\u001b[0;34m'{!r} is not a callable object'\u001b[0m\u001b[0;34m.\u001b[0m\u001b[0mformat\u001b[0m\u001b[0;34m(\u001b[0m\u001b[0mobj\u001b[0m\u001b[0;34m)\u001b[0m\u001b[0;34m)\u001b[0m\u001b[0;34m\u001b[0m\u001b[0;34m\u001b[0m\u001b[0m\n\u001b[0m\u001b[1;32m   2209\u001b[0m \u001b[0;34m\u001b[0m\u001b[0m\n\u001b[1;32m   2210\u001b[0m     \u001b[0;32mif\u001b[0m \u001b[0misinstance\u001b[0m\u001b[0;34m(\u001b[0m\u001b[0mobj\u001b[0m\u001b[0;34m,\u001b[0m \u001b[0mtypes\u001b[0m\u001b[0;34m.\u001b[0m\u001b[0mMethodType\u001b[0m\u001b[0;34m)\u001b[0m\u001b[0;34m:\u001b[0m\u001b[0;34m\u001b[0m\u001b[0;34m\u001b[0m\u001b[0m\n",
      "\u001b[0;31mTypeError\u001b[0m: <_io.TextIOWrapper name='./data/Mn_Nb_V-O_act_short.json' mode='r' encoding='UTF-8'> is not a callable object"
     ]
    }
   ],
   "source": [
    "curve_fit(f, xdata, ydata)"
   ]
  },
  {
   "cell_type": "code",
   "execution_count": null,
   "metadata": {},
   "outputs": [],
   "source": []
  },
  {
   "cell_type": "code",
   "execution_count": 21,
   "metadata": {},
   "outputs": [
    {
     "data": {
      "text/plain": [
       "['__class__',\n",
       " '__delattr__',\n",
       " '__dict__',\n",
       " '__dir__',\n",
       " '__doc__',\n",
       " '__eq__',\n",
       " '__format__',\n",
       " '__ge__',\n",
       " '__getattribute__',\n",
       " '__gt__',\n",
       " '__hash__',\n",
       " '__init__',\n",
       " '__init_subclass__',\n",
       " '__le__',\n",
       " '__lt__',\n",
       " '__module__',\n",
       " '__ne__',\n",
       " '__new__',\n",
       " '__reduce__',\n",
       " '__reduce_ex__',\n",
       " '__repr__',\n",
       " '__setattr__',\n",
       " '__sizeof__',\n",
       " '__str__',\n",
       " '__subclasshook__',\n",
       " '__weakref__',\n",
       " 'chemsys',\n",
       " 'comp_dict',\n",
       " 'dim',\n",
       " 'from_file',\n",
       " 'photon_e',\n",
       " 'q',\n",
       " 'qmax',\n",
       " 'qmin',\n",
       " 'resample_xrd',\n",
       " 'sample_comp',\n",
       " 'sample_num',\n",
       " 'sample_xrd',\n",
       " 'twotheta',\n",
       " 'wavelength']"
      ]
     },
     "execution_count": 21,
     "metadata": {},
     "output_type": "execute_result"
    }
   ],
   "source": [
    "dir(resample_instance_data)"
   ]
  },
  {
   "cell_type": "code",
   "execution_count": 24,
   "metadata": {},
   "outputs": [
    {
     "data": {
      "text/plain": [
       "1.0016573758684602"
      ]
     },
     "execution_count": 24,
     "metadata": {},
     "output_type": "execute_result"
    }
   ],
   "source": [
    "resample_instance_data.q[1]/resample_instance_data.q[0]"
   ]
  },
  {
   "cell_type": "code",
   "execution_count": null,
   "metadata": {},
   "outputs": [],
   "source": []
  }
 ],
 "metadata": {
  "kernelspec": {
   "display_name": "Python 3",
   "language": "python",
   "name": "python3"
  },
  "language_info": {
   "codemirror_mode": {
    "name": "ipython",
    "version": 3
   },
   "file_extension": ".py",
   "mimetype": "text/x-python",
   "name": "python",
   "nbconvert_exporter": "python",
   "pygments_lexer": "ipython3",
   "version": "3.7.3"
  }
 },
 "nbformat": 4,
 "nbformat_minor": 2
}
