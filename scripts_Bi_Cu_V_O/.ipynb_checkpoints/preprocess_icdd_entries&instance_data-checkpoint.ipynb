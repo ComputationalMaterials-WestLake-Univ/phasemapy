{
 "cells": [
  {
   "cell_type": "code",
   "execution_count": 3,
   "id": "1a03a1f0",
   "metadata": {
    "pycharm": {
     "name": "#%%\n"
    }
   },
   "outputs": [],
   "source": [
    "import numpy as np\n",
    "import matplotlib.pyplot as plt\n",
    "import sys\n",
    "import os\n",
    "from copy import deepcopy\n",
    "from scipy.constants import h, c, e\n",
    "from monty.json import MontyDecoder, MontyEncoder\n",
    "import json"
   ]
  },
  {
   "cell_type": "code",
   "execution_count": 2,
   "id": "64b28903",
   "metadata": {
    "pycharm": {
     "name": "#%%\n"
    }
   },
   "outputs": [
    {
     "ename": "FileNotFoundError",
     "evalue": "[Errno 2] No such file or directory: 'bases_comp.npy'",
     "output_type": "error",
     "traceback": [
      "\u001b[1;31m---------------------------------------------------------------------------\u001b[0m",
      "\u001b[1;31mFileNotFoundError\u001b[0m                         Traceback (most recent call last)",
      "\u001b[1;32m~\\AppData\\Local\\Temp\\ipykernel_69156\\3349608674.py\u001b[0m in \u001b[0;36m<module>\u001b[1;34m\u001b[0m\n\u001b[0;32m     37\u001b[0m \"\"\"\n\u001b[0;32m     38\u001b[0m \u001b[1;31m# ICDD Library-100 entries:\u001b[0m\u001b[1;33m\u001b[0m\u001b[1;33m\u001b[0m\u001b[1;33m\u001b[0m\u001b[0m\n\u001b[1;32m---> 39\u001b[1;33m \u001b[0mbases_comp\u001b[0m \u001b[1;33m=\u001b[0m \u001b[0mnp\u001b[0m\u001b[1;33m.\u001b[0m\u001b[0mload\u001b[0m\u001b[1;33m(\u001b[0m\u001b[1;34m'bases_comp.npy'\u001b[0m\u001b[1;33m,\u001b[0m \u001b[0mallow_pickle\u001b[0m \u001b[1;33m=\u001b[0m \u001b[1;32mTrue\u001b[0m\u001b[1;33m)\u001b[0m\u001b[1;33m\u001b[0m\u001b[1;33m\u001b[0m\u001b[0m\n\u001b[0m\u001b[0;32m     40\u001b[0m \u001b[0mbases_edge\u001b[0m \u001b[1;33m=\u001b[0m \u001b[0mnp\u001b[0m\u001b[1;33m.\u001b[0m\u001b[0mload\u001b[0m\u001b[1;33m(\u001b[0m\u001b[1;34m'bases_edge.npy'\u001b[0m\u001b[1;33m,\u001b[0m\u001b[0mallow_pickle\u001b[0m \u001b[1;33m=\u001b[0m \u001b[1;32mTrue\u001b[0m\u001b[1;33m)\u001b[0m\u001b[1;33m\u001b[0m\u001b[1;33m\u001b[0m\u001b[0m\n\u001b[0;32m     41\u001b[0m \u001b[0mbases_name\u001b[0m \u001b[1;33m=\u001b[0m \u001b[0mnp\u001b[0m\u001b[1;33m.\u001b[0m\u001b[0mload\u001b[0m\u001b[1;33m(\u001b[0m\u001b[1;34m'bases_name.npy'\u001b[0m\u001b[1;33m,\u001b[0m\u001b[0mallow_pickle\u001b[0m \u001b[1;33m=\u001b[0m \u001b[1;32mTrue\u001b[0m\u001b[1;33m)\u001b[0m\u001b[1;33m\u001b[0m\u001b[1;33m\u001b[0m\u001b[0m\n",
      "\u001b[1;32m~\\anaconda3\\envs\\myPymatgen\\lib\\site-packages\\numpy\\lib\\npyio.py\u001b[0m in \u001b[0;36mload\u001b[1;34m(file, mmap_mode, allow_pickle, fix_imports, encoding)\u001b[0m\n\u001b[0;32m    415\u001b[0m             \u001b[0mown_fid\u001b[0m \u001b[1;33m=\u001b[0m \u001b[1;32mFalse\u001b[0m\u001b[1;33m\u001b[0m\u001b[1;33m\u001b[0m\u001b[0m\n\u001b[0;32m    416\u001b[0m         \u001b[1;32melse\u001b[0m\u001b[1;33m:\u001b[0m\u001b[1;33m\u001b[0m\u001b[1;33m\u001b[0m\u001b[0m\n\u001b[1;32m--> 417\u001b[1;33m             \u001b[0mfid\u001b[0m \u001b[1;33m=\u001b[0m \u001b[0mstack\u001b[0m\u001b[1;33m.\u001b[0m\u001b[0menter_context\u001b[0m\u001b[1;33m(\u001b[0m\u001b[0mopen\u001b[0m\u001b[1;33m(\u001b[0m\u001b[0mos_fspath\u001b[0m\u001b[1;33m(\u001b[0m\u001b[0mfile\u001b[0m\u001b[1;33m)\u001b[0m\u001b[1;33m,\u001b[0m \u001b[1;34m\"rb\"\u001b[0m\u001b[1;33m)\u001b[0m\u001b[1;33m)\u001b[0m\u001b[1;33m\u001b[0m\u001b[1;33m\u001b[0m\u001b[0m\n\u001b[0m\u001b[0;32m    418\u001b[0m             \u001b[0mown_fid\u001b[0m \u001b[1;33m=\u001b[0m \u001b[1;32mTrue\u001b[0m\u001b[1;33m\u001b[0m\u001b[1;33m\u001b[0m\u001b[0m\n\u001b[0;32m    419\u001b[0m \u001b[1;33m\u001b[0m\u001b[0m\n",
      "\u001b[1;31mFileNotFoundError\u001b[0m: [Errno 2] No such file or directory: 'bases_comp.npy'"
     ]
    }
   ],
   "source": [
    "\"\"\"\n",
    "The Bi-Cu-V dataset is from \"Automating crystal-structure phase mapping by combining deep learning with constraint reasoning\" \n",
    "and its github:https://github.com/gomes-lab/DRNets-Nature-Machine-Intelligence\n",
    "\n",
    "In the following, **P** is the number of pure phases provided in the ICDD library,\n",
    "**M** is the number of elements in the system, \n",
    "**N** is the number of data points, \n",
    "**Q** is the number of diffraction scattering vector magnitudes (angles) with measurements in each XRD pattern, \n",
    "**Q'** is the downsampled length, and **K** is the expected maximum number of phases present in the solution.\n",
    "\n",
    "ICDD Library-100 entries:\n",
    "    **bases_comp.npy** :a matrix of size (**P**, **M**), e.g., (100, 3) for Bi-Cu-V.\n",
    "        The elemental compositions of the possible pure phases in the ICDD library.\n",
    "    **bases_edge.npy** : a matrix of size (**P**, **P**), e.g., (100, 100) for Bi-Cu-V.  \n",
    "        The similarity matrix of possible phases. If two phases are linked, then they are very similar to each other and can be considered interchangeable.\n",
    "    **bases_name.npy** : a vector of size (**P**), e.g., (100) for Bi-Cu-V.  \n",
    "        The names of the possible pure phases in the ICDD library.\n",
    "    **sticks_lib.npy** : an object array of size (**P**).  \n",
    "        The stick pattern or list of peaks (Q, intensity) for each ICDD library phase.\n",
    "\n",
    "    \n",
    "Instance_data-307 samples:\n",
    "    **composition.npy** : a matrix of size (**N**, **M**), e.g., (307, 3) for Bi-Cu-V.  \n",
    "        The elemental composition of the mixed material in each data point.\n",
    "    **data.npy** : a matrix of size (**N**, **M**+**Q**), e.g., (307, 3 + 1197) for Bi-Cu-V.  \n",
    "        For each row, the composition (length **M**) is concatenated with the XRD pattern (length **Q**), i.e. the XRD intensity at each diffraction angle.\n",
    "    **lib_comp.npy** : a matrix of size (**P**, **M**), e.g., (100, 3) for Bi-Cu-V.  \n",
    "        The elemental compositions of the possible pure phases in the ICDD library. This is the same as bases_comp.npy.\n",
    "    **Q.npy** : a vector of length (**Q**).  \n",
    "        The XRD scattering vector magnitudes (angles) for the XRD patterns.\n",
    "    **Q_XXX.npy** : a vector of length (**Q'**).  \n",
    "        The downsampled XRD scattering vector magnitudes (angles) for lower resolution versions of the XRD patterns.\n",
    "    **XRD.npy** : a matrix of size (**N**, **Q**) \n",
    "        The unnormalized XRD patterns for each data point.   \n",
    "\n",
    "\n",
    "\"\"\"\n",
    "# ICDD Library-100 entries:\n",
    "bases_comp = np.load('bases_comp.npy', allow_pickle = True)\n",
    "bases_edge = np.load('bases_edge.npy',allow_pickle = True)\n",
    "bases_name = np.load('bases_name.npy',allow_pickle = True)\n",
    "sticks_lib = np.load('sticks_lib.npy',allow_pickle = True)\n",
    "\n",
    "# Instance_data-307 samples:\n",
    "composition = np.load('composition.npy',allow_pickle = True)\n",
    "data_com_xrd = np.load('data.npy',allow_pickle = True)\n",
    "lib_comp = np.load('lib_comp.npy',allow_pickle = True)\n",
    "Q= np.load('Q.npy',allow_pickle = True)\n",
    "Q_300= np.load('Q_300.npy',allow_pickle = True)\n",
    "Q_idx_300 = np.load('Q_idx_300.npy',allow_pickle = True)\n",
    "XRD = np.load('XRD.npy',allow_pickle = True)\n"
   ]
  },
  {
   "cell_type": "code",
   "execution_count": null,
   "id": "518c3184",
   "metadata": {
    "pycharm": {
     "name": "#%%\n"
    }
   },
   "outputs": [],
   "source": [
    "import json\n",
    "\n",
    "def creat_Instance_data_Bi_Cu_V(index, q,sample_xrd,comp):\n",
    "    dict_Instance_data_info = {\n",
    "                       'q': q,                      \n",
    "                       'sample_xrd': sample_xrd, \n",
    "                       'comp': comp                       \n",
    "                      }\n",
    "    dict_connection = {'Instance_data_info': dict_Instance_data_info}\n",
    "    dict_index = {'index': index}  \n",
    "    data_instance = dict( dict_index, **dict_connection)\n",
    "    return data_instance\n",
    "\n",
    "\n",
    "if __name__ == '__main__':\n",
    "    Instance_data_Bi_Cu_V=[]\n",
    "    for i in range(len(composition)):        \n",
    "        index = i\n",
    "        q = Q.tolist()      \n",
    "        sample_xrd = data_com_xrd[i][3:].tolist()\n",
    "        comp = composition[i].tolist()  \n",
    "        json_founc = creat_Instance_data_Bi_Cu_V\n",
    "        data_instance = json_founc(index, q, sample_xrd,comp)         \n",
    "        Instance_data_Bi_Cu_V.append(data_instance)\n",
    "        \n",
    "    Instance_data_Bi_Cu_V = json.dumps(Instance_data_Bi_Cu_V,cls = MontyEncoder)\n",
    "    with open('Instance_data_Bi_Cu_V.json','w+') as file:\n",
    "            file.write(Instance_data_Bi_Cu_V)  "
   ]
  },
  {
   "cell_type": "code",
   "execution_count": null,
   "id": "2c8fc41e",
   "metadata": {
    "pycharm": {
     "name": "#%%\n"
    }
   },
   "outputs": [],
   "source": [
    "#load instance data: 307 instance of Bi_Cu_V\n",
    "with open('Instance_data_Bi_Cu_V.json') as f:\n",
    "    Instance_data_Bi_Cu_V = json.load(f, cls=MontyDecoder)"
   ]
  },
  {
   "cell_type": "code",
   "execution_count": null,
   "id": "a0a26d56",
   "metadata": {
    "pycharm": {
     "name": "#%%\n"
    }
   },
   "outputs": [],
   "source": []
  },
  {
   "cell_type": "code",
   "execution_count": null,
   "id": "6be8ab46",
   "metadata": {
    "pycharm": {
     "name": "#%%\n"
    }
   },
   "outputs": [],
   "source": [
    "#Get the scattering vector q and intensity from the stick_lib in ICDD \n",
    "qs = []\n",
    "amps=[]\n",
    "for i in range(len(sticks_lib)):\n",
    "    q,amp = list(zip(*(sticks_lib[i])))\n",
    "    qs.append(q)\n",
    "    amps.append(amp)"
   ]
  },
  {
   "cell_type": "code",
   "execution_count": null,
   "id": "2b9b3295",
   "metadata": {
    "pycharm": {
     "name": "#%%\n"
    }
   },
   "outputs": [],
   "source": [
    "# Get the samples' name, ICDD entry_id, crystal_system by spliting bases_name,i.e.bases_name[0]:'0+Bi(VO4)_04-010-5710_Tetragonal.txt'\n",
    "names = []\n",
    "entry_ids = []\n",
    "crystal_systems = []\n",
    "bases_name_copy = deepcopy(bases_name)\n",
    "\n",
    "for i in range(len(bases_name_copy)):\n",
    "    list1 = bases_name_copy[i].split('_')\n",
    "    list2 = list1[0].split('+')\n",
    "    list3 = list1[2].split('.')\n",
    "    names.append(list2[1])\n",
    "    entry_ids.append(list1[1])\n",
    "    crystal_systems.append(list3[0])"
   ]
  },
  {
   "cell_type": "code",
   "execution_count": null,
   "id": "b716b7d6",
   "metadata": {
    "pycharm": {
     "name": "#%%\n"
    }
   },
   "outputs": [],
   "source": [
    "\n",
    "\n",
    "def creat_ICDD_entries_Bi_Cu_V(index, q,amp, xrd, comp,base_name,name,entry_id,crystal_system):\n",
    "    dict_entries_info = {\n",
    "                       'q': q,\n",
    "                       'amp':amp,\n",
    "                       'xrd': xrd, \n",
    "                       'comp': comp, \n",
    "                        'base_name':base_name, \n",
    "                        'name':name,\n",
    "                        'entry_id':entry_id,\n",
    "                        'crystal_system':crystal_system\n",
    "                      }\n",
    "    dict_connection = {'entries_info': dict_entries_info}\n",
    "    dict_index = {'index': index}  \n",
    "    data = dict( dict_index, **dict_connection)\n",
    "    return data\n",
    "\n",
    "\n",
    "if __name__ == '__main__':\n",
    "    ICDD_entries_Bi_Cu_V=[]\n",
    "    for i in range(len(bases_comp)):        \n",
    "        index = i\n",
    "        q = np.array(qs[i]).tolist()\n",
    "        amp = np.array(amps[i]).tolist()\n",
    "        xrd = sticks_lib[i].tolist()\n",
    "        comp = bases_comp[i].tolist()\n",
    "        base_name = np.array(bases_name[i]).tolist()\n",
    "        name = np.array(names[i]).tolist()\n",
    "        entry_id = np.array(entry_ids[i]).tolist()\n",
    "        crystal_system = np.array(crystal_systems[i]).tolist()\n",
    "        json_founc = creat_ICDD_entries_Bi_Cu_V\n",
    "        data = json_founc(index, q,amp, xrd, comp, base_name,name,entry_id,crystal_system)         \n",
    "        ICDD_entries_Bi_Cu_V.append(data)\n",
    "        \n",
    "    ICDD_entries_Bi_Cu_V = json.dumps(ICDD_entries_Bi_Cu_V)\n",
    "    with open('ICDD_entries_Bi_Cu_V.json','w+') as file:\n",
    "            file.write(ICDD_entries_Bi_Cu_V)  "
   ]
  },
  {
   "cell_type": "code",
   "execution_count": 4,
   "id": "f439e5e6",
   "metadata": {
    "pycharm": {
     "name": "#%%\n"
    }
   },
   "outputs": [],
   "source": [
    "#load entry pool: 100 ICDD entries\n",
    "with open('C:/Users/dell/Desktop/phasemapy/scripts_Bi_Cu_V_O/data/ICDD_entries.json') as f:\n",
    "    entries_Bi_Cu_V = json.load(f, cls=MontyDecoder)"
   ]
  },
  {
   "cell_type": "code",
   "execution_count": 5,
   "id": "542d2d43",
   "metadata": {
    "pycharm": {
     "name": "#%%\n"
    }
   },
   "outputs": [],
   "source": [
    "import numpy as np\n",
    "import json\n",
    "import matplotlib.pyplot as plt\n",
    "import sys\n",
    "sys.path.append('C:\\\\Users\\\\dell\\\\Desktop\\\\phasemapy')\n",
    "import os\n",
    "from copy import deepcopy\n",
    "from scipy.constants import h, c, e\n",
    "from pymatgen.core import Element\n",
    "from monty.json import MontyDecoder, MontyEncoder\n",
    "from pymatgen.analysis.diffraction.xrd import XRDCalculator\n",
    "import numpy as np\n",
    "from phasemapy.dataio import InstanceData\n",
    "from phasemapy.parser import ICDDEntry, ICDDEntryPreprocessor\n",
    "from phasemapy.solver import Phase, Sample\n",
    "import matplotlib.pyplot as plt\n",
    "chemsys = ['Bi', 'Cu', 'V']\n",
    "oxide_system = True\n",
    "photon_e = 13e3\n",
    "max_q_shift = 0.05\n",
    "resample_density = 1000\n",
    "initial_alphagamma = 0.1\n",
    "SUM_NORM = 6000"
   ]
  },
  {
   "cell_type": "code",
   "execution_count": 6,
   "id": "d90693a0",
   "metadata": {
    "pycharm": {
     "name": "#%%\n"
    }
   },
   "outputs": [],
   "source": [
    "entries = [ICDDEntry.from_icdd_json (en) for en in entries_Bi_Cu_V]"
   ]
  },
  {
   "cell_type": "code",
   "execution_count": null,
   "id": "70861054",
   "metadata": {},
   "outputs": [],
   "source": []
  },
  {
   "cell_type": "code",
   "execution_count": 8,
   "id": "3b54e761",
   "metadata": {
    "pycharm": {
     "name": "#%%\n"
    }
   },
   "outputs": [],
   "source": [
    "bin_number=1000\n",
    "gaussian_filter=4\n",
    "R_cutoff=0.5\n",
    "from itertools import combinations"
   ]
  },
  {
   "cell_type": "code",
   "execution_count": 7,
   "id": "1c6696ad",
   "metadata": {
    "pycharm": {
     "name": "#%%\n"
    }
   },
   "outputs": [],
   "source": [
    "import os\n",
    "import re\n",
    "import xml.etree.cElementTree as ET\n",
    "from itertools import combinations\n",
    "\n",
    "import matplotlib.pyplot as plt\n",
    "import numpy as np\n",
    "import pandas as pd\n",
    "from pymatgen.analysis.diffraction.xrd import XRDCalculator\n",
    "from pymatgen.analysis.structure_matcher import StructureMatcher, ElementComparator\n",
    "from pymatgen.core import Element, Composition\n",
    "from scipy.cluster.hierarchy import fcluster, linkage\n",
    "from monty.json import MSONable\n",
    "from pymatgen.io.cif import CifParser\n",
    "from scipy.ndimage import gaussian_filter1d\n"
   ]
  },
  {
   "cell_type": "code",
   "execution_count": null,
   "id": "545ede3d",
   "metadata": {},
   "outputs": [],
   "source": [
    "def merge_by_xrd(bin_number, gaussian_filter, R_cutoff, plot=False):\n",
    "    from numpy import arange\n",
    "    def smooth_hist(q, amp, bins):\n",
    "        hist, bin_edges = np.histogram(q, bins=bins, weights=amp)\n",
    "        smoothed = gaussian_filter1d(hist, gaussian_filter)  \n",
    "        return smoothed\n",
    "\n",
    "    def merge(xrd_match_lst):\n",
    "        sts = [set(l) for l in xrd_match_lst]\n",
    "        i = 0\n",
    "        while i < len(sts):\n",
    "            j = i+1\n",
    "            while j < len(sts):\n",
    "                if len(sts[i].intersection(sts[j])) > 0:\n",
    "                    sts[i] = sts[i].union(sts[j])\n",
    "                    sts.pop(j)\n",
    "                else: j += 1                     \n",
    "            i += 1\n",
    "        lst = [list(s) for s in sts]\n",
    "        return lst\n",
    "    \n",
    "    bins = np.linspace(min([_.data['xrd'][0][0] for _ in entries]) - 0.01,\n",
    "                   max([_.data['xrd'][0][-1] for _ in entries]) + 0.01, bin_number)\n",
    "    xrd_match =[]\n",
    "    \n",
    "    for i, j in combinations(range(len(entries)), 2):            \n",
    "            e1, e2 = entries[i], entries[j]            \n",
    "            q, amp = e1.data['xrd'][0], e1.data['xrd'][1]\n",
    "            smooth_xrds_i = smooth_hist(q, amp, bins)\n",
    "            q, amp = e2.data['xrd'][0], e2.data['xrd'][1]\n",
    "            smooth_xrds_j = smooth_hist(q , amp, bins)\n",
    "            smooth_xrds_i = smooth_xrds_i / np.max(smooth_xrds_i) * 100\n",
    "            smooth_xrds_j = smooth_xrds_j / np.max(smooth_xrds_j) * 100\n",
    "            \n",
    "            abs_diff = np.abs(smooth_xrds_i - smooth_xrds_j)               \n",
    "            R = np.sqrt(np.sum(abs_diff ** 2) / max(np.sum(smooth_xrds_i ** 2), np.sum(smooth_xrds_j ** 2)))\n",
    "            \n",
    "            if R < R_cutoff:\n",
    "                xrd_match.append([i,j])\n",
    "#                 break\n",
    "            else:\n",
    "                for shift in arange(-0.5,0.5,0.01):\n",
    "                    q, amp = e1.data['xrd'][0]+shift, e1.data['xrd'][1]\n",
    "                    smooth_xrds_i = smooth_hist(q, amp, bins)\n",
    "                    q, amp = e2.data['xrd'][0], e2.data['xrd'][1]\n",
    "                    smooth_xrds_j = smooth_hist(q , amp, bins)\n",
    "                    smooth_xrds_i = smooth_xrds_i / np.max(smooth_xrds_i) * 100\n",
    "                    smooth_xrds_j = smooth_xrds_j / np.max(smooth_xrds_j) * 100\n",
    "                    \n",
    "                    abs_diff = np.abs(smooth_xrds_i - smooth_xrds_j)               \n",
    "                    R = np.sqrt(np.sum(abs_diff ** 2) / max(np.sum(smooth_xrds_i ** 2), np.sum(smooth_xrds_j ** 2)))\n",
    "                    \n",
    "                    if R < R_cutoff:\n",
    "                        xrd_match.append([i,j])\n",
    "                        break\n",
    "    entries_merge_xrd =merge(xrd_match) \n",
    "    for i in range(len(entries_merge_xrd)):\n",
    "        entries_merge_xrd[i]=np.sort(entries_merge_xrd[i]).tolist()\n",
    "        \n",
    "    entries_examp = [entries_merge_xrd[i][0] for i in range(len(entries_merge_xrd ))]   \n",
    "    entries_index = sum(entries_merge_xrd,[])\n",
    "    entries_pure = list(set(range(len(entries))).difference(set(entries_index)))   \n",
    "    entries_update = entries_examp + entries_pure\n",
    "    entries_update.sort()\n",
    "    new_entries=[]\n",
    "    for i in entries_update:\n",
    "        new_entries.append(entries[i])\n",
    "        \n",
    "    return entries_merge_xrd"
   ]
  },
  {
   "cell_type": "code",
   "execution_count": null,
   "id": "c674b7a1",
   "metadata": {
    "scrolled": true
   },
   "outputs": [],
   "source": [
    "s=merge_by_xrd(bin_number=1000, gaussian_filter=4, R_cutoff=0.4)\n",
    "s"
   ]
  },
  {
   "cell_type": "code",
   "execution_count": null,
   "id": "909458b1",
   "metadata": {},
   "outputs": [],
   "source": [
    "s."
   ]
  },
  {
   "cell_type": "code",
   "execution_count": 9,
   "id": "8a34f803",
   "metadata": {},
   "outputs": [],
   "source": [
    "precess = ICDDEntryPreprocessor(deepcopy(entries), chemsys, oxide_system)"
   ]
  },
  {
   "cell_type": "code",
   "execution_count": 10,
   "id": "29d6d2c7",
   "metadata": {},
   "outputs": [
    {
     "data": {
      "text/plain": [
       "[[0, 1, 26, 38],\n",
       " [3, 53],\n",
       " [5, 9],\n",
       " [10, 32],\n",
       " [12, 18, 20],\n",
       " [13, 14, 73],\n",
       " [19, 33],\n",
       " [23, 24, 27, 28, 75, 76, 94],\n",
       " [45, 49],\n",
       " [51, 52],\n",
       " [67, 68],\n",
       " [74, 89],\n",
       " [95, 96]]"
      ]
     },
     "execution_count": 10,
     "metadata": {},
     "output_type": "execute_result"
    }
   ],
   "source": [
    "s1= precess.merge_by_xrd(bin_number=1000, gaussian_filter=4, R_cutoff=0.4)\n",
    "s1"
   ]
  },
  {
   "cell_type": "code",
   "execution_count": 15,
   "id": "5a93a560",
   "metadata": {},
   "outputs": [
    {
     "name": "stdout",
     "output_type": "stream",
     "text": [
      "Bi(VO4) 04-010-5710\n",
      "Bi(VO4) 04-015-4206\n",
      "Bi1.62V8O16 01-082-1957\n",
      "Bi11VO19 00-045-0363\n",
      "Bi12V2O23 00-044-0174\n",
      "Bi14V4O30 01-077-4952\n",
      "Bi14V4O31 01-084-5596\n",
      "Bi17V3O33 00-052-1476\n",
      "Bi2O2.3 01-076-2477\n",
      "Bi2O3 00-029-0236\n",
      "Bi2O3 00-041-1449\n",
      "Bi2O3 00-045-1344\n",
      "Bi2O3 00-058-0356\n",
      "Bi2O3 00-059-0331\n",
      "Bi2O3 01-080-7655\n",
      "Bi2O3 04-015-6853\n",
      "Bi2O3 04-018-0027\n",
      "Bi2O3 04-018-6169\n",
      "Bi2VO5.5 00-051-0032\n",
      "Bi3.5V1.2O8.25 00-052-1886\n",
      "Bi4O7 00-047-1058\n",
      "Bi4V2O11 00-044-0357\n",
      "Bi4V3O12 00-057-0234\n",
      "Bi7VO13 00-044-0322\n",
      "Bi8V2O17 00-044-0171\n",
      "BiO1.5 04-005-4788\n",
      "BiO2 04-006-9431\n",
      "BiVO4 01-085-1730\n",
      "Cu0.59V2O5 04-009-3572\n",
      "Cu0.64V2O5 04-015-4536\n",
      "Cu1.3V9O22 00-046-0362\n",
      "Cu1.5V12O29 04-013-7743\n",
      "Cu1.82V4O11 04-012-3630\n",
      "Cu1.98(V1.96O6.92) 01-073-4321\n",
      "Cu11(VO4)6O2 04-012-8670\n",
      "Cu2(V2O7) 01-078-2581\n",
      "Cu2(V2O7) 04-011-9703\n",
      "Cu2(V2O7) 04-014-0715\n",
      "Cu2O 01-078-2076\n",
      "Cu2VBiO6 04-012-3857\n",
      "Cu3(VO4)2 04-010-1734\n",
      "Cu3(VO4)2 04-013-2998\n",
      "Cu3(VO4) 04-016-3668\n",
      "Cu3V2Bi4O14 04-011-5345\n",
      "Cu4V2.15O9.38 01-070-1696\n",
      "Cu5V2O10 04-011-1618\n",
      "Cu6.5V6O18.5 04-017-3174\n",
      "CuBi2O4 00-042-0334\n",
      "CuO 00-041-0254\n",
      "CuV2O5 00-043-0080\n",
      "CuV2O6 00-027-1136\n",
      "CuV2O6 00-030-0514\n",
      "CuV2O6 00-045-1054\n",
      "CuVO3 00-024-0378\n",
      "CuVO3 01-071-0860\n",
      "CuVO3 04-007-8067\n",
      "SnO2 04-003-0649\n",
      "V0.9O 04-010-5832\n",
      "V2O3 00-034-0187\n",
      "V2O3 00-064-0088\n",
      "V2O3 01-072-5929\n",
      "V2O5 00-041-1426\n",
      "V2O5 00-054-0513\n",
      "V2O5 04-007-2512\n",
      "V3Bi6O16 04-014-9744\n",
      "V3O5 00-038-1181\n",
      "V3O5 04-019-7352\n",
      "V3O7 04-007-0598\n",
      "V4O7 04-005-4524\n",
      "V4O9 04-007-0884\n",
      "V5O9 01-085-1514\n",
      "V6O13 01-089-0100\n",
      "V8O15 01-082-4444\n",
      "V9O17 01-082-4445\n",
      "VO2 01-076-0675\n",
      "VO2 04-003-4396\n",
      "VO2 04-007-0515\n",
      "VO2 04-007-2429\n"
     ]
    }
   ],
   "source": [
    "for e in all_entries:\n",
    "    print(e.common_name,e.entry_id)"
   ]
  },
  {
   "cell_type": "code",
   "execution_count": 12,
   "id": "db375f6e",
   "metadata": {
    "scrolled": true
   },
   "outputs": [
    {
     "data": {
      "text/plain": [
       "[<phasemapy.parser.ICDDEntry at 0x265d162d908>,\n",
       " <phasemapy.parser.ICDDEntry at 0x265d1632208>,\n",
       " <phasemapy.parser.ICDDEntry at 0x265d1632748>,\n",
       " <phasemapy.parser.ICDDEntry at 0x265d1632848>,\n",
       " <phasemapy.parser.ICDDEntry at 0x265d1632988>,\n",
       " <phasemapy.parser.ICDDEntry at 0x265d1632a88>,\n",
       " <phasemapy.parser.ICDDEntry at 0x265d1632b88>,\n",
       " <phasemapy.parser.ICDDEntry at 0x265d1632c88>,\n",
       " <phasemapy.parser.ICDDEntry at 0x265d1632ec8>,\n",
       " <phasemapy.parser.ICDDEntry at 0x265d1637048>,\n",
       " <phasemapy.parser.ICDDEntry at 0x265d1637188>,\n",
       " <phasemapy.parser.ICDDEntry at 0x265d16372c8>,\n",
       " <phasemapy.parser.ICDDEntry at 0x265d1637548>,\n",
       " <phasemapy.parser.ICDDEntry at 0x265d1637688>,\n",
       " <phasemapy.parser.ICDDEntry at 0x265d16377c8>,\n",
       " <phasemapy.parser.ICDDEntry at 0x265d1637a48>,\n",
       " <phasemapy.parser.ICDDEntry at 0x265d1637cc8>,\n",
       " <phasemapy.parser.ICDDEntry at 0x265d1637e08>,\n",
       " <phasemapy.parser.ICDDEntry at 0x265d1637f48>,\n",
       " <phasemapy.parser.ICDDEntry at 0x265d163c208>,\n",
       " <phasemapy.parser.ICDDEntry at 0x265d163c708>,\n",
       " <phasemapy.parser.ICDDEntry at 0x265d163c848>,\n",
       " <phasemapy.parser.ICDDEntry at 0x265d163c988>,\n",
       " <phasemapy.parser.ICDDEntry at 0x265d163cd48>,\n",
       " <phasemapy.parser.ICDDEntry at 0x265d163ce88>,\n",
       " <phasemapy.parser.ICDDEntry at 0x265a8fdfec8>,\n",
       " <phasemapy.parser.ICDDEntry at 0x265d1630b88>,\n",
       " <phasemapy.parser.ICDDEntry at 0x265d1630408>,\n",
       " <phasemapy.parser.ICDDEntry at 0x265d162e4c8>,\n",
       " <phasemapy.parser.ICDDEntry at 0x265a9073f88>,\n",
       " <phasemapy.parser.ICDDEntry at 0x265d16276c8>,\n",
       " <phasemapy.parser.ICDDEntry at 0x265ca8b91c8>,\n",
       " <phasemapy.parser.ICDDEntry at 0x265ca8b9208>,\n",
       " <phasemapy.parser.ICDDEntry at 0x265ca793588>,\n",
       " <phasemapy.parser.ICDDEntry at 0x265ca8b4388>,\n",
       " <phasemapy.parser.ICDDEntry at 0x265ca8b4108>,\n",
       " <phasemapy.parser.ICDDEntry at 0x265ca7db888>,\n",
       " <phasemapy.parser.ICDDEntry at 0x265d16470c8>,\n",
       " <phasemapy.parser.ICDDEntry at 0x265d1647208>,\n",
       " <phasemapy.parser.ICDDEntry at 0x265d16475c8>,\n",
       " <phasemapy.parser.ICDDEntry at 0x265d1647708>,\n",
       " <phasemapy.parser.ICDDEntry at 0x265d1647848>,\n",
       " <phasemapy.parser.ICDDEntry at 0x265d1647988>,\n",
       " <phasemapy.parser.ICDDEntry at 0x265d1647ac8>,\n",
       " <phasemapy.parser.ICDDEntry at 0x265d1647c08>,\n",
       " <phasemapy.parser.ICDDEntry at 0x265d1647d48>,\n",
       " <phasemapy.parser.ICDDEntry at 0x265d1647e88>,\n",
       " <phasemapy.parser.ICDDEntry at 0x265d1647fc8>,\n",
       " <phasemapy.parser.ICDDEntry at 0x265d164f148>,\n",
       " <phasemapy.parser.ICDDEntry at 0x265d164f288>,\n",
       " <phasemapy.parser.ICDDEntry at 0x265d164f3c8>,\n",
       " <phasemapy.parser.ICDDEntry at 0x265d164f508>,\n",
       " <phasemapy.parser.ICDDEntry at 0x265d164f648>,\n",
       " <phasemapy.parser.ICDDEntry at 0x265d164f8c8>,\n",
       " <phasemapy.parser.ICDDEntry at 0x265d164fa08>,\n",
       " <phasemapy.parser.ICDDEntry at 0x265d164fb48>,\n",
       " <phasemapy.parser.ICDDEntry at 0x265d164fc88>,\n",
       " <phasemapy.parser.ICDDEntry at 0x265d164ff08>,\n",
       " <phasemapy.parser.ICDDEntry at 0x265d1656308>,\n",
       " <phasemapy.parser.ICDDEntry at 0x265d1656448>,\n",
       " <phasemapy.parser.ICDDEntry at 0x265d1656588>,\n",
       " <phasemapy.parser.ICDDEntry at 0x265d16566c8>,\n",
       " <phasemapy.parser.ICDDEntry at 0x265d1656808>,\n",
       " <phasemapy.parser.ICDDEntry at 0x265d1656948>,\n",
       " <phasemapy.parser.ICDDEntry at 0x265d1656a88>,\n",
       " <phasemapy.parser.ICDDEntry at 0x265d1656bc8>,\n",
       " <phasemapy.parser.ICDDEntry at 0x265d1656d08>,\n",
       " <phasemapy.parser.ICDDEntry at 0x265d1656e48>,\n",
       " <phasemapy.parser.ICDDEntry at 0x265d1656f88>,\n",
       " <phasemapy.parser.ICDDEntry at 0x265d165c108>,\n",
       " <phasemapy.parser.ICDDEntry at 0x265d165c388>,\n",
       " <phasemapy.parser.ICDDEntry at 0x265d165c4c8>,\n",
       " <phasemapy.parser.ICDDEntry at 0x265d165c608>,\n",
       " <phasemapy.parser.ICDDEntry at 0x265d165c748>,\n",
       " <phasemapy.parser.ICDDEntry at 0x265d165c9c8>,\n",
       " <phasemapy.parser.ICDDEntry at 0x265d165cc48>,\n",
       " <phasemapy.parser.ICDDEntry at 0x265d165cd88>,\n",
       " <phasemapy.parser.ICDDEntry at 0x265d165ce48>]"
      ]
     },
     "execution_count": 12,
     "metadata": {},
     "output_type": "execute_result"
    }
   ],
   "source": [
    "all_entries = precess.entries\n",
    "all_entries"
   ]
  },
  {
   "cell_type": "code",
   "execution_count": 13,
   "id": "8d07d28c",
   "metadata": {},
   "outputs": [
    {
     "ename": "NameError",
     "evalue": "name 'get_dataframe' is not defined",
     "output_type": "error",
     "traceback": [
      "\u001b[1;31m---------------------------------------------------------------------------\u001b[0m",
      "\u001b[1;31mNameError\u001b[0m                                 Traceback (most recent call last)",
      "\u001b[1;32m~\\AppData\\Local\\Temp\\ipykernel_69156\\3033749928.py\u001b[0m in \u001b[0;36m<module>\u001b[1;34m\u001b[0m\n\u001b[1;32m----> 1\u001b[1;33m df = get_dataframe([_ for _ in all_entries ],\n\u001b[0m\u001b[0;32m      2\u001b[0m                        ['entry_id', 'name', 'pressure_temperature', 'cross_refs', 'status', 'quality_mark', 'name',\n\u001b[0;32m      3\u001b[0m                         'spgr', 'common_name', 'leader'])\n\u001b[0;32m      4\u001b[0m \u001b[0mprint\u001b[0m\u001b[1;33m(\u001b[0m\u001b[0mdf\u001b[0m\u001b[1;33m)\u001b[0m\u001b[1;33m\u001b[0m\u001b[1;33m\u001b[0m\u001b[0m\n\u001b[0;32m      5\u001b[0m \u001b[0mdf\u001b[0m\u001b[1;33m.\u001b[0m\u001b[0mto_excel\u001b[0m\u001b[1;33m(\u001b[0m\u001b[1;34m\"output_candidate_pool.xlsx\"\u001b[0m\u001b[1;33m)\u001b[0m\u001b[1;33m\u001b[0m\u001b[1;33m\u001b[0m\u001b[0m\n",
      "\u001b[1;31mNameError\u001b[0m: name 'get_dataframe' is not defined"
     ]
    }
   ],
   "source": [
    "df = get_dataframe([_ for _ in all_entries ],\n",
    "                       ['entry_id', 'name', 'pressure_temperature', 'cross_refs', 'status', 'quality_mark', 'name',\n",
    "                        'spgr', 'common_name', 'leader'])\n",
    "print(df)\n",
    "df.to_excel(\"output_candidate_pool.xlsx\")\n",
    "\n",
    "# with open('../data/icdd_entries.json', 'w') as f:\n",
    "#     json.dump(all_entries, f, cls=MontyEncoder)"
   ]
  },
  {
   "cell_type": "code",
   "execution_count": null,
   "id": "8be78762",
   "metadata": {
    "scrolled": true
   },
   "outputs": [],
   "source": [
    "\n"
   ]
  },
  {
   "cell_type": "code",
   "execution_count": null,
   "id": "17df3316",
   "metadata": {},
   "outputs": [],
   "source": []
  },
  {
   "cell_type": "code",
   "execution_count": null,
   "id": "21856a31",
   "metadata": {
    "pycharm": {
     "name": "#%%\n"
    }
   },
   "outputs": [],
   "source": [
    "def smooth_hist(q, amp, bins):\n",
    "    hist, bin_edges = np.histogram(q, bins=bins, weights=amp)\n",
    "    smoothed = gaussian_filter1d(hist, gaussian_filter)  \n",
    "    return smoothed"
   ]
  },
  {
   "cell_type": "code",
   "execution_count": null,
   "id": "3b1737aa",
   "metadata": {
    "pycharm": {
     "name": "#%%\n"
    }
   },
   "outputs": [],
   "source": [
    "bins = np.linspace(min([_.data['xrd'][0][0] for _ in entries]) - 0.01,\n",
    "               max([_.data['xrd'][0][-1] for _ in entries]) + 0.01, bin_number)\n",
    "xrd_match_tri =[]\n",
    "for i, j in combinations(range(len(entries)), 2):\n",
    "            e1, e2 = entries[i], entries[j]            \n",
    "            q, amp = e1.data['xrd'][0], e1.data['xrd'][1]\n",
    "            smooth_xrds_i = smooth_hist(q, amp, bins)\n",
    "            q, amp = e2.data['xrd'][0], e2.data['xrd'][1]\n",
    "            smooth_xrds_j = smooth_hist(q , amp, bins)\n",
    "            smooth_xrds_i = smooth_xrds_i / np.max(smooth_xrds_i) * 100\n",
    "            smooth_xrds_j = smooth_xrds_j / np.max(smooth_xrds_j) * 100\n",
    "            \n",
    "            abs_diff = np.abs(smooth_xrds_i - smooth_xrds_j)               \n",
    "            R = np.sqrt(np.sum(abs_diff ** 2) / max(np.sum(smooth_xrds_i ** 2), np.sum(smooth_xrds_j ** 2)))\n",
    "            \n",
    "            if R < 0.5:\n",
    "                xrd_match_tri.append([i,j])"
   ]
  },
  {
   "cell_type": "code",
   "execution_count": null,
   "id": "5b50c1c6",
   "metadata": {
    "pycharm": {
     "name": "#%%\n"
    }
   },
   "outputs": [],
   "source": [
    "def merge(xrd_match_lst):\n",
    "    sts = [set(l) for l in xrd_match_lst]\n",
    "    i = 0\n",
    "    while i < len(sts):\n",
    "        j = i+1\n",
    "        while j < len(sts):\n",
    "            if len(sts[i].intersection(sts[j])) > 0:\n",
    "                sts[i] = sts[i].union(sts[j])\n",
    "                sts.pop(j)\n",
    "            else: j += 1                     \n",
    "        i += 1\n",
    "    lst = [list(s) for s in sts]\n",
    "    return lst"
   ]
  },
  {
   "cell_type": "code",
   "execution_count": null,
   "id": "a4c836cb",
   "metadata": {
    "pycharm": {
     "name": "#%%\n"
    }
   },
   "outputs": [],
   "source": [
    "Phase_merge_xrd =merge(xrd_match_tri)"
   ]
  },
  {
   "cell_type": "code",
   "execution_count": null,
   "id": "faf87e58",
   "metadata": {
    "pycharm": {
     "name": "#%%\n"
    }
   },
   "outputs": [],
   "source": [
    "Phase_examp = [ Phase_merge_xrd[i][0] for i in range(len(Phase_merge_xrd ))]\n",
    "Phase_index = sum(Phase_merge_xrd,[])\n",
    "Phase_pure = list(set(range(len(entries))).difference(set(Phase_index)))   \n",
    "Phase_update = Phase_examp + Phase_pure\n",
    "Phase_update.sort()"
   ]
  },
  {
   "cell_type": "code",
   "execution_count": null,
   "id": "ff8b88b5",
   "metadata": {
    "pycharm": {
     "name": "#%%\n"
    }
   },
   "outputs": [],
   "source": [
    "entries_update = [ICDDEntriesBiCuV.from_ICDD_Bi_Cu_V(entries[i]) for i in Phase_update]"
   ]
  },
  {
   "cell_type": "code",
   "execution_count": null,
   "id": "922c48fa",
   "metadata": {
    "pycharm": {
     "name": "#%%\n"
    }
   },
   "outputs": [],
   "source": [
    "Phase_update_json = json.dumps(Phase_update,cls = MontyEncoder)\n",
    "with open('Phase_update_merge_by_xrd.json','w+') as file:\n",
    "        file.write(Phase_update_json)"
   ]
  },
  {
   "cell_type": "code",
   "execution_count": null,
   "id": "de47d214",
   "metadata": {
    "pycharm": {
     "name": "#%%\n"
    }
   },
   "outputs": [],
   "source": [
    "#load entry pool: 100 ICDD entries\n",
    "with open('C:/Users/dell/Desktop/phasemapy/scripts_Bi_Cu_V_O/data/Phase_update_merge_by_xrd.json') as f:\n",
    "    Phase_update = json.load(f, cls=MontyDecoder)"
   ]
  },
  {
   "cell_type": "code",
   "execution_count": null,
   "id": "497e83ac",
   "metadata": {},
   "outputs": [],
   "source": []
  },
  {
   "cell_type": "code",
   "execution_count": null,
   "id": "e772f0e7",
   "metadata": {},
   "outputs": [],
   "source": [
    "entries_after_merged_by_xrd = []\n",
    "for i in Phase_update:\n",
    "    entries_after_merged_by_xrd.append(entries_Bi_Cu_V[i])"
   ]
  },
  {
   "cell_type": "code",
   "execution_count": null,
   "id": "10ad4d4d",
   "metadata": {},
   "outputs": [],
   "source": [
    "entries_after_merged_by_xrd_json = json.dumps(entries_after_merged_by_xrd,cls = MontyEncoder)\n",
    "with open('ICDD_entries_merge_by_xrd.json','w+') as file:\n",
    "        file.write(entries_after_merged_by_xrd_json)"
   ]
  },
  {
   "cell_type": "code",
   "execution_count": null,
   "id": "f55dc208",
   "metadata": {
    "pycharm": {
     "name": "#%%\n"
    }
   },
   "outputs": [],
   "source": [
    "entries_ud = [ICDDEntriesBiCuV.from_ICDD_Bi_Cu_V(entries[i]) for i in Phase_update]"
   ]
  },
  {
   "cell_type": "code",
   "execution_count": null,
   "id": "0d4439ff",
   "metadata": {
    "pycharm": {
     "name": "#%%\n"
    }
   },
   "outputs": [],
   "source": [
    "bins = np.linspace(min([_.data['xrd'][0][0] for _ in entries]) - 0.01,\n",
    "               max([_.data['xrd'][0][-1] for _ in entries]) + 0.01, 1000)\n",
    "xrd_match_tri =[]\n",
    "# for i, j in combinations(range(len(entries)), 2):\n",
    "e1, e2 = entries[74], entries[89]            \n",
    "q, amp = e1.data['xrd'][0], e1.data['xrd'][1]\n",
    "smooth_xrds_i = smooth_hist(q, amp, bins)\n",
    "q, amp = e2.data['xrd'][0], e2.data['xrd'][1]\n",
    "smooth_xrds_j = smooth_hist(q , amp, bins)\n",
    "smooth_xrds_i = smooth_xrds_i / np.max(smooth_xrds_i) * 100\n",
    "smooth_xrds_j = smooth_xrds_j / np.max(smooth_xrds_j) * 100\n",
    "\n",
    "abs_diff = np.abs(smooth_xrds_i - smooth_xrds_j)               \n",
    "R = np.sqrt(np.sum(abs_diff ** 2) / max(np.sum(smooth_xrds_i ** 2), np.sum(smooth_xrds_j ** 2)))\n",
    "\n",
    "# if R < 0.5:\n",
    "#     xrd_match_tri.append([i,j])\n",
    "print(R)"
   ]
  },
  {
   "cell_type": "code",
   "execution_count": null,
   "id": "52df00d1",
   "metadata": {
    "pycharm": {
     "name": "#%%\n"
    }
   },
   "outputs": [],
   "source": [
    "\n",
    "plt.plot(bins[0:-1],smooth_xrds_i)\n",
    "plt.plot(bins[0:-1],smooth_xrds_j)"
   ]
  },
  {
   "cell_type": "code",
   "execution_count": null,
   "id": "1d800676",
   "metadata": {
    "pycharm": {
     "name": "#%%\n"
    }
   },
   "outputs": [],
   "source": [
    "xrd_match_tri =[]\n",
    "# for i, j in combinations(range(len(entries)), 2):\n",
    "e1, e2 = entries[23], entries[49]            \n",
    "q, amp = e1.data['xrd'][0], e1.data['xrd'][1]\n",
    "smooth_xrds_i = smooth_hist(q, amp, bins)\n",
    "q, amp = e2.data['xrd'][0], e2.data['xrd'][1]\n",
    "smooth_xrds_j = smooth_hist(q , amp, bins)\n",
    "smooth_xrds_i = smooth_xrds_i / np.max(smooth_xrds_i) * 100\n",
    "smooth_xrds_j = smooth_xrds_j / np.max(smooth_xrds_j) * 100\n",
    "\n",
    "abs_diff = np.abs(smooth_xrds_i - smooth_xrds_j)               \n",
    "R = np.sqrt(np.sum(abs_diff ** 2) / max(np.sum(smooth_xrds_i ** 2), np.sum(smooth_xrds_j ** 2)))\n",
    "\n",
    "# if R < 0.5:\n",
    "#     xrd_match_tri.append([i,j])\n",
    "print(R)"
   ]
  },
  {
   "cell_type": "code",
   "execution_count": null,
   "id": "0d106ea8",
   "metadata": {
    "pycharm": {
     "name": "#%%\n"
    }
   },
   "outputs": [],
   "source": []
  },
  {
   "cell_type": "code",
   "execution_count": null,
   "id": "e267d452",
   "metadata": {
    "pycharm": {
     "name": "#%%\n"
    }
   },
   "outputs": [],
   "source": []
  }
 ],
 "metadata": {
  "kernelspec": {
   "display_name": "Python 3 (ipykernel)",
   "language": "python",
   "name": "python3"
  },
  "language_info": {
   "codemirror_mode": {
    "name": "ipython",
    "version": 3
   },
   "file_extension": ".py",
   "mimetype": "text/x-python",
   "name": "python",
   "nbconvert_exporter": "python",
   "pygments_lexer": "ipython3",
   "version": "3.7.13"
  }
 },
 "nbformat": 4,
 "nbformat_minor": 5
}
