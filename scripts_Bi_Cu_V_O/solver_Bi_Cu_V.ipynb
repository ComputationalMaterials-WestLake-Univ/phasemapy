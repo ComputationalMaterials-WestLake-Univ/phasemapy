{
 "cells": [
  {
   "cell_type": "code",
   "execution_count": 4,
   "id": "fe407a8c",
   "metadata": {},
   "outputs": [],
   "source": [
    "import numpy as np\n",
    "import json\n",
    "from scipy.spatial import distance_matrix\n",
    "import matplotlib.pyplot as plt\n",
    "import sys\n",
    "sys.path.append('C:\\\\\\\\Users\\\\\\\\dell\\\\\\\\Desktop\\\\\\\\phasemapy')\n",
    "import os\n",
    "from copy import deepcopy\n",
    "from scipy.constants import h, c, e\n",
    "from pymatgen.core import Element\n",
    "from monty.json import MontyDecoder, MontyEncoder\n",
    "from pymatgen.analysis.diffraction.xrd import XRDCalculator\n",
    "import numpy as np\n",
    "from phasemapy.dataio import InstanceData\n",
    "from phasemapy.parser import ICDDEntry,ICDDEntriesBiCuV, ICDDEntryPreprocessor\n",
    "from phasemapy.solver import Phase, Sample\n",
    "import matplotlib.pyplot as plt\n",
    "chemsys = ['Bi', 'Cu', 'V']\n",
    "oxide_system = True\n",
    "photon_e = 13e3\n",
    "max_q_shift = 0.05\n",
    "resample_density = 1000\n",
    "initial_alphagamma = 0.1\n",
    "SUM_NORM = 6000\n",
    "loss_weight = {'xrd_loss': 6.0, 'comp_loss': 2.0, 'entropy_loss': 0.01}"
   ]
  },
  {
   "cell_type": "code",
   "execution_count": 5,
   "id": "abf6847c",
   "metadata": {},
   "outputs": [],
   "source": [
    "#load entry pool: 100 ICDD entries\n",
    "with open('C:/Users/dell/Desktop/phasemapy/scripts_Bi_Cu_V_O/data/ICDD_entries_Bi_Cu_V.json') as f:\n",
    "    entries_Bi_Cu_V = json.load(f, cls=MontyDecoder)\n",
    "with open('C:/Users/dell/Desktop/phasemapy/scripts_Bi_Cu_V_O/data/Phase_update_merge_by_xrd.json') as f:\n",
    "    Phase_update = json.load(f, cls=MontyDecoder)\n",
    "\n",
    "entries = [ICDDEntriesBiCuV.from_ICDD_Bi_Cu_V(entries_Bi_Cu_V[i]) for i in Phase_update]"
   ]
  },
  {
   "cell_type": "code",
   "execution_count": 6,
   "id": "d91b6366",
   "metadata": {},
   "outputs": [],
   "source": [
    "#load instance data:307 instances\n",
    "instance_data = InstanceData.from_file_BiCuV('C:/Users/dell/Desktop/phasemapy/scripts_Bi_Cu_V_O/data/Instance_data_Bi_Cu_V', chemsys, photon_e)"
   ]
  },
  {
   "cell_type": "code",
   "execution_count": 8,
   "id": "c44df453",
   "metadata": {},
   "outputs": [],
   "source": [
    "comp_dist = distance_matrix(instance_data.sample_comp, instance_data.sample_comp)\n",
    "nn_list = {i: np.where((comp_dist[i] < 0.15) & (comp_dist[i] > 0))[0] for i in range(instance_data.sample_num)}\n",
    "samples = []\n",
    "\n",
    "for i in range(instance_data.sample_num):\n",
    "    solution_file = f'solution/samples{i}.json'\n",
    "    if os.path.exists(solution_file):\n",
    "        with open(solution_file) as f:\n",
    "            sample = json.load(f, cls=MontyDecoder)\n",
    "            samples.append(sample)"
   ]
  },
  {
   "cell_type": "code",
   "execution_count": 69,
   "id": "df79248b",
   "metadata": {},
   "outputs": [],
   "source": [
    "new_samples = deepcopy(samples)"
   ]
  },
  {
   "cell_type": "code",
   "execution_count": 70,
   "id": "f02ca2ec",
   "metadata": {},
   "outputs": [],
   "source": [
    "for sample in new_samples[168:]:\n",
    "    if True:\n",
    "        # if min([count_act[_.entry_id] for _ in sample.entries])<5.0:\n",
    "        if len(sample.phase_fractions)==0:\n",
    "            sample.solution = new_samples[sample.sample_id-1].solution\n",
    "        if sample.R > 0.4 and len(sample.phase_fractions)>0:\n",
    "#         print(sample.sample_id, sample.loss(loss_weight))\n",
    "            candidate_entries = []\n",
    "            for i in nn_list[sample.sample_id]:\n",
    "                candidate_entries += samples[i].entries\n",
    "            candidate_entries = list(set(candidate_entries))\n",
    "            solution = []\n",
    "            for e in candidate_entries:\n",
    "                phase = Phase.from_entry_and_instance_data(e, 1 / len(candidate_entries), instance_data)\n",
    "                solution.append(phase)\n",
    "\n",
    "            new_sample = deepcopy(sample)\n",
    "            new_sample.solution = solution            \n",
    "            new_sample.refine_one_by_one()\n",
    "            new_sample.refine_all_fractions()\n",
    "#             new_sample.print_solution()\n",
    "            new_sample.prune_candidate_based_on_xrd(plot=False, cutoff=0.001)\n",
    "            new_sample.update_solution_new(0.03,0.2999,new_sample.max_q_shift)\n",
    "            new_sample.refine_one_by_one()\n",
    "            new_sample.refine_all_fractions()\n",
    "#             new_sample.print_solution()\n",
    "#             new_sample.plot(perphase=True)\n",
    "            # au = new_sample.to_auto\n",
    "            new_sample = new_sample.optimize(num_epoch=500, print_prog=True, loss_weight=loss_weight)\n",
    "            new_sample.update_solution_new(0.03, 0.2999, new_sample.max_q_shift)\n",
    "\n",
    "            new_sample = new_sample.optimize(num_epoch=3000, print_prog=True, loss_weight=loss_weight)\n",
    "            new_sample.update_solution_new(0.01, 0.2999, new_sample.max_q_shift)\n",
    "\n",
    "            new_sample.refine_one_by_one()\n",
    "            new_sample.refine_all_fractions()\n",
    "\n",
    "            new_sample.update_solution_new(0.01, 0.2999, new_sample.max_q_shift)\n",
    "            new_sample.refine_one_by_one()\n",
    "            new_sample.refine_all_fractions()\n",
    "#             new_sample.print_solution()\n",
    "#             new_sample.plot(perphase=True)\n",
    "#             new_samples[sample.sample_id] = new_sample\n",
    "            samples[sample.sample_id] = new_sample\n",
    "\n",
    "            print(new_sample.loss(loss_weight))\n",
    "            if new_sample.loss(loss_weight) <= sample.loss(loss_weight):\n",
    "#                 sample.print_solution()\n",
    "#                 new_sample.print_solution()\n",
    "                samples[sample.sample_id] = new_sample\n",
    "                solution_file = f'solution/samples{sample.sample_id}.json'\n",
    "                with open(solution_file, 'w') as f:\n",
    "                    json.dump( samples[sample.sample_id], f, cls=MontyEncoder)"
   ]
  },
  {
   "cell_type": "code",
   "execution_count": 71,
   "id": "985ace05",
   "metadata": {},
   "outputs": [],
   "source": [
    "new_samples = []\n",
    "\n",
    "for i in range(instance_data.sample_num):\n",
    "    solution_file = f'solution/samples{i}.json'\n",
    "    if os.path.exists(solution_file):\n",
    "        with open(solution_file) as f:\n",
    "            sample = json.load(f, cls=MontyDecoder)\n",
    "            new_samples.append(sample)\n",
    "\n",
    "for sample in new_samples:\n",
    "    sample.plot(perphase=True, saveplot=f'solution_figures/sample_{sample.sample_id}.pdf')"
   ]
  },
  {
   "cell_type": "code",
   "execution_count": null,
   "id": "d59c1004",
   "metadata": {},
   "outputs": [],
   "source": []
  },
  {
   "cell_type": "code",
   "execution_count": null,
   "id": "412d5b20",
   "metadata": {},
   "outputs": [],
   "source": []
  },
  {
   "cell_type": "code",
   "execution_count": null,
   "id": "5a5815c6",
   "metadata": {},
   "outputs": [],
   "source": []
  },
  {
   "cell_type": "code",
   "execution_count": null,
   "id": "2e5a26e6",
   "metadata": {},
   "outputs": [],
   "source": []
  }
 ],
 "metadata": {
  "kernelspec": {
   "display_name": "Python 3 (ipykernel)",
   "language": "python",
   "name": "python3"
  },
  "language_info": {
   "codemirror_mode": {
    "name": "ipython",
    "version": 3
   },
   "file_extension": ".py",
   "mimetype": "text/x-python",
   "name": "python",
   "nbconvert_exporter": "python",
   "pygments_lexer": "ipython3",
   "version": "3.7.13"
  }
 },
 "nbformat": 4,
 "nbformat_minor": 5
}
